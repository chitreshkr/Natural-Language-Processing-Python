{
  "nbformat": 4,
  "nbformat_minor": 0,
  "metadata": {
    "colab": {
      "name": "Complete Text Processing.ipynb",
      "provenance": [],
      "collapsed_sections": [],
      "authorship_tag": "ABX9TyPcnfOVrUFlj6jXxbF2goPI",
      "include_colab_link": true
    },
    "kernelspec": {
      "name": "python3",
      "display_name": "Python 3"
    },
    "language_info": {
      "name": "python"
    }
  },
  "cells": [
    {
      "cell_type": "markdown",
      "metadata": {
        "id": "view-in-github",
        "colab_type": "text"
      },
      "source": [
        "<a href=\"https://colab.research.google.com/github/chitreshkr/Natural-Language-Processing-Python/blob/main/Complete_Text_Processing.ipynb\" target=\"_parent\"><img src=\"https://colab.research.google.com/assets/colab-badge.svg\" alt=\"Open In Colab\"/></a>"
      ]
    },
    {
      "cell_type": "code",
      "metadata": {
        "id": "YekoJZl066a0"
      },
      "source": [
        "import numpy as np\n",
        "import pandas as pd\n",
        "import spacy"
      ],
      "execution_count": 1,
      "outputs": []
    },
    {
      "cell_type": "code",
      "metadata": {
        "id": "9Jv-Uz0fQ023"
      },
      "source": [
        "pd.set_option('display.max_rows', 500)\n",
        "pd.set_option('display.max_columns', 500)\n",
        "pd.set_option('display.width', 1000)"
      ],
      "execution_count": 2,
      "outputs": []
    },
    {
      "cell_type": "code",
      "metadata": {
        "id": "vXLwA_e77Fgd"
      },
      "source": [
        "from spacy.lang.en.stop_words import STOP_WORDS as stopword"
      ],
      "execution_count": 3,
      "outputs": []
    },
    {
      "cell_type": "code",
      "metadata": {
        "id": "jQKBesTd7P6S"
      },
      "source": [
        "df = pd.read_csv('https://raw.githubusercontent.com/laxmimerit/twitter-data/master/twitter4000.csv',encoding='latin1',header=0)"
      ],
      "execution_count": 4,
      "outputs": []
    },
    {
      "cell_type": "code",
      "metadata": {
        "colab": {
          "base_uri": "https://localhost:8080/",
          "height": 402
        },
        "id": "5RLxG6HE8LTa",
        "outputId": "9cbb1cad-cfa1-4b7f-9896-4687c1738e86"
      },
      "source": [
        "df"
      ],
      "execution_count": 5,
      "outputs": [
        {
          "output_type": "execute_result",
          "data": {
            "text/html": [
              "<div>\n",
              "<style scoped>\n",
              "    .dataframe tbody tr th:only-of-type {\n",
              "        vertical-align: middle;\n",
              "    }\n",
              "\n",
              "    .dataframe tbody tr th {\n",
              "        vertical-align: top;\n",
              "    }\n",
              "\n",
              "    .dataframe thead th {\n",
              "        text-align: right;\n",
              "    }\n",
              "</style>\n",
              "<table border=\"1\" class=\"dataframe\">\n",
              "  <thead>\n",
              "    <tr style=\"text-align: right;\">\n",
              "      <th></th>\n",
              "      <th>twitts</th>\n",
              "      <th>sentiment</th>\n",
              "    </tr>\n",
              "  </thead>\n",
              "  <tbody>\n",
              "    <tr>\n",
              "      <th>0</th>\n",
              "      <td>is bored and wants to watch a movie  any sugge...</td>\n",
              "      <td>0</td>\n",
              "    </tr>\n",
              "    <tr>\n",
              "      <th>1</th>\n",
              "      <td>back in miami.  waiting to unboard ship</td>\n",
              "      <td>0</td>\n",
              "    </tr>\n",
              "    <tr>\n",
              "      <th>2</th>\n",
              "      <td>@misskpey awwww dnt dis brng bak memoriessss, ...</td>\n",
              "      <td>0</td>\n",
              "    </tr>\n",
              "    <tr>\n",
              "      <th>3</th>\n",
              "      <td>ughhh i am so tired  blahhhhhhhhh</td>\n",
              "      <td>0</td>\n",
              "    </tr>\n",
              "    <tr>\n",
              "      <th>4</th>\n",
              "      <td>@mandagoforth me bad! It's funny though. Zacha...</td>\n",
              "      <td>0</td>\n",
              "    </tr>\n",
              "    <tr>\n",
              "      <th>...</th>\n",
              "      <td>...</td>\n",
              "      <td>...</td>\n",
              "    </tr>\n",
              "    <tr>\n",
              "      <th>3995</th>\n",
              "      <td>i just graduated</td>\n",
              "      <td>1</td>\n",
              "    </tr>\n",
              "    <tr>\n",
              "      <th>3996</th>\n",
              "      <td>Templating works; it all has to be done</td>\n",
              "      <td>1</td>\n",
              "    </tr>\n",
              "    <tr>\n",
              "      <th>3997</th>\n",
              "      <td>mommy just brought me starbucks</td>\n",
              "      <td>1</td>\n",
              "    </tr>\n",
              "    <tr>\n",
              "      <th>3998</th>\n",
              "      <td>@omarepps watching you on a House re-run...lov...</td>\n",
              "      <td>1</td>\n",
              "    </tr>\n",
              "    <tr>\n",
              "      <th>3999</th>\n",
              "      <td>Thanks for trying to make me smile I'll make y...</td>\n",
              "      <td>1</td>\n",
              "    </tr>\n",
              "  </tbody>\n",
              "</table>\n",
              "<p>4000 rows × 2 columns</p>\n",
              "</div>"
            ],
            "text/plain": [
              "                                                 twitts  sentiment\n",
              "0     is bored and wants to watch a movie  any sugge...          0\n",
              "1              back in miami.  waiting to unboard ship           0\n",
              "2     @misskpey awwww dnt dis brng bak memoriessss, ...          0\n",
              "3                     ughhh i am so tired  blahhhhhhhhh          0\n",
              "4     @mandagoforth me bad! It's funny though. Zacha...          0\n",
              "...                                                 ...        ...\n",
              "3995                                  i just graduated           1\n",
              "3996          Templating works; it all has to be done            1\n",
              "3997                   mommy just brought me starbucks           1\n",
              "3998  @omarepps watching you on a House re-run...lov...          1\n",
              "3999  Thanks for trying to make me smile I'll make y...          1\n",
              "\n",
              "[4000 rows x 2 columns]"
            ]
          },
          "metadata": {
            "tags": []
          },
          "execution_count": 5
        }
      ]
    },
    {
      "cell_type": "markdown",
      "metadata": {
        "id": "-n0_dpwvQFON"
      },
      "source": [
        "# Word Count"
      ]
    },
    {
      "cell_type": "code",
      "metadata": {
        "colab": {
          "base_uri": "https://localhost:8080/"
        },
        "id": "m-iVJJPTQH9J",
        "outputId": "3b179b3e-aecc-4b15-8212-cf7b055aa81a"
      },
      "source": [
        "len('this is text')"
      ],
      "execution_count": 6,
      "outputs": [
        {
          "output_type": "execute_result",
          "data": {
            "text/plain": [
              "12"
            ]
          },
          "metadata": {
            "tags": []
          },
          "execution_count": 6
        }
      ]
    },
    {
      "cell_type": "code",
      "metadata": {
        "id": "Yy3X0H7uQNcr"
      },
      "source": [
        "df['word_counts'] = df['twitts'].apply(lambda x: len(str(x).split()))"
      ],
      "execution_count": 7,
      "outputs": []
    },
    {
      "cell_type": "code",
      "metadata": {
        "colab": {
          "base_uri": "https://localhost:8080/",
          "height": 195
        },
        "id": "mybdyskWQY0F",
        "outputId": "6398f9f7-81ad-48e8-fb98-0beb70217542"
      },
      "source": [
        "df.sample(5)"
      ],
      "execution_count": 8,
      "outputs": [
        {
          "output_type": "execute_result",
          "data": {
            "text/html": [
              "<div>\n",
              "<style scoped>\n",
              "    .dataframe tbody tr th:only-of-type {\n",
              "        vertical-align: middle;\n",
              "    }\n",
              "\n",
              "    .dataframe tbody tr th {\n",
              "        vertical-align: top;\n",
              "    }\n",
              "\n",
              "    .dataframe thead th {\n",
              "        text-align: right;\n",
              "    }\n",
              "</style>\n",
              "<table border=\"1\" class=\"dataframe\">\n",
              "  <thead>\n",
              "    <tr style=\"text-align: right;\">\n",
              "      <th></th>\n",
              "      <th>twitts</th>\n",
              "      <th>sentiment</th>\n",
              "      <th>word_counts</th>\n",
              "    </tr>\n",
              "  </thead>\n",
              "  <tbody>\n",
              "    <tr>\n",
              "      <th>286</th>\n",
              "      <td>i'm tired, and have SAT testing tomorrow</td>\n",
              "      <td>0</td>\n",
              "      <td>7</td>\n",
              "    </tr>\n",
              "    <tr>\n",
              "      <th>624</th>\n",
              "      <td>@AndyT13C you may or may not have been ignorin...</td>\n",
              "      <td>0</td>\n",
              "      <td>25</td>\n",
              "    </tr>\n",
              "    <tr>\n",
              "      <th>3155</th>\n",
              "      <td>Thanks for following me @ann731735 @stevebunya...</td>\n",
              "      <td>1</td>\n",
              "      <td>8</td>\n",
              "    </tr>\n",
              "    <tr>\n",
              "      <th>3797</th>\n",
              "      <td>Live chat with @chrishansen and little less th...</td>\n",
              "      <td>1</td>\n",
              "      <td>23</td>\n",
              "    </tr>\n",
              "    <tr>\n",
              "      <th>724</th>\n",
              "      <td>Ok i'll try to upload my pic... hope it works,...</td>\n",
              "      <td>0</td>\n",
              "      <td>15</td>\n",
              "    </tr>\n",
              "  </tbody>\n",
              "</table>\n",
              "</div>"
            ],
            "text/plain": [
              "                                                 twitts  sentiment  word_counts\n",
              "286           i'm tired, and have SAT testing tomorrow           0            7\n",
              "624   @AndyT13C you may or may not have been ignorin...          0           25\n",
              "3155  Thanks for following me @ann731735 @stevebunya...          1            8\n",
              "3797  Live chat with @chrishansen and little less th...          1           23\n",
              "724   Ok i'll try to upload my pic... hope it works,...          0           15"
            ]
          },
          "metadata": {
            "tags": []
          },
          "execution_count": 8
        }
      ]
    },
    {
      "cell_type": "code",
      "metadata": {
        "colab": {
          "base_uri": "https://localhost:8080/"
        },
        "id": "3e65L903Qrzj",
        "outputId": "d9d24b17-8dff-42d3-b5c7-0ee0edb2020e"
      },
      "source": [
        "df['word_counts'].max()"
      ],
      "execution_count": 9,
      "outputs": [
        {
          "output_type": "execute_result",
          "data": {
            "text/plain": [
              "32"
            ]
          },
          "metadata": {
            "tags": []
          },
          "execution_count": 9
        }
      ]
    },
    {
      "cell_type": "code",
      "metadata": {
        "colab": {
          "base_uri": "https://localhost:8080/"
        },
        "id": "EWkWDVpVRjyY",
        "outputId": "c1c4b876-a2ff-4af0-cdba-d4da4d99d8fa"
      },
      "source": [
        "df['word_counts'].min()"
      ],
      "execution_count": 10,
      "outputs": [
        {
          "output_type": "execute_result",
          "data": {
            "text/plain": [
              "1"
            ]
          },
          "metadata": {
            "tags": []
          },
          "execution_count": 10
        }
      ]
    },
    {
      "cell_type": "code",
      "metadata": {
        "colab": {
          "base_uri": "https://localhost:8080/",
          "height": 373
        },
        "id": "QyJO5-UrRlW_",
        "outputId": "57b0e526-bdd2-4b9a-aefe-8a7c4e9900cb"
      },
      "source": [
        "df[df['word_counts']==1]"
      ],
      "execution_count": 11,
      "outputs": [
        {
          "output_type": "execute_result",
          "data": {
            "text/html": [
              "<div>\n",
              "<style scoped>\n",
              "    .dataframe tbody tr th:only-of-type {\n",
              "        vertical-align: middle;\n",
              "    }\n",
              "\n",
              "    .dataframe tbody tr th {\n",
              "        vertical-align: top;\n",
              "    }\n",
              "\n",
              "    .dataframe thead th {\n",
              "        text-align: right;\n",
              "    }\n",
              "</style>\n",
              "<table border=\"1\" class=\"dataframe\">\n",
              "  <thead>\n",
              "    <tr style=\"text-align: right;\">\n",
              "      <th></th>\n",
              "      <th>twitts</th>\n",
              "      <th>sentiment</th>\n",
              "      <th>word_counts</th>\n",
              "    </tr>\n",
              "  </thead>\n",
              "  <tbody>\n",
              "    <tr>\n",
              "      <th>385</th>\n",
              "      <td>homework</td>\n",
              "      <td>0</td>\n",
              "      <td>1</td>\n",
              "    </tr>\n",
              "    <tr>\n",
              "      <th>691</th>\n",
              "      <td>@ekrelly</td>\n",
              "      <td>0</td>\n",
              "      <td>1</td>\n",
              "    </tr>\n",
              "    <tr>\n",
              "      <th>1124</th>\n",
              "      <td>disappointed</td>\n",
              "      <td>0</td>\n",
              "      <td>1</td>\n",
              "    </tr>\n",
              "    <tr>\n",
              "      <th>1286</th>\n",
              "      <td>@officialmgnfox</td>\n",
              "      <td>0</td>\n",
              "      <td>1</td>\n",
              "    </tr>\n",
              "    <tr>\n",
              "      <th>1325</th>\n",
              "      <td>headache</td>\n",
              "      <td>0</td>\n",
              "      <td>1</td>\n",
              "    </tr>\n",
              "    <tr>\n",
              "      <th>1897</th>\n",
              "      <td>@MCRmuffin</td>\n",
              "      <td>0</td>\n",
              "      <td>1</td>\n",
              "    </tr>\n",
              "    <tr>\n",
              "      <th>2542</th>\n",
              "      <td>Graduated!</td>\n",
              "      <td>1</td>\n",
              "      <td>1</td>\n",
              "    </tr>\n",
              "    <tr>\n",
              "      <th>2947</th>\n",
              "      <td>reading</td>\n",
              "      <td>1</td>\n",
              "      <td>1</td>\n",
              "    </tr>\n",
              "    <tr>\n",
              "      <th>3176</th>\n",
              "      <td>@omeirdeleon</td>\n",
              "      <td>1</td>\n",
              "      <td>1</td>\n",
              "    </tr>\n",
              "    <tr>\n",
              "      <th>3470</th>\n",
              "      <td>www.myspace.com/myfinalthought</td>\n",
              "      <td>1</td>\n",
              "      <td>1</td>\n",
              "    </tr>\n",
              "    <tr>\n",
              "      <th>3966</th>\n",
              "      <td>@gethyp3</td>\n",
              "      <td>1</td>\n",
              "      <td>1</td>\n",
              "    </tr>\n",
              "  </tbody>\n",
              "</table>\n",
              "</div>"
            ],
            "text/plain": [
              "                               twitts  sentiment  word_counts\n",
              "385                         homework           0            1\n",
              "691                         @ekrelly           0            1\n",
              "1124                    disappointed           0            1\n",
              "1286                 @officialmgnfox           0            1\n",
              "1325                        headache           0            1\n",
              "1897                      @MCRmuffin           0            1\n",
              "2542                      Graduated!           1            1\n",
              "2947                         reading           1            1\n",
              "3176                    @omeirdeleon           1            1\n",
              "3470  www.myspace.com/myfinalthought           1            1\n",
              "3966                        @gethyp3           1            1"
            ]
          },
          "metadata": {
            "tags": []
          },
          "execution_count": 11
        }
      ]
    },
    {
      "cell_type": "markdown",
      "metadata": {
        "id": "w1_KQ_1H7VAd"
      },
      "source": [
        "# Character Count"
      ]
    },
    {
      "cell_type": "code",
      "metadata": {
        "id": "dSRveDxoRrLY",
        "colab": {
          "base_uri": "https://localhost:8080/"
        },
        "outputId": "1d85f232-f2f1-4331-d275-d14b2fe13409"
      },
      "source": [
        "len('Happy birthday')"
      ],
      "execution_count": 12,
      "outputs": [
        {
          "output_type": "execute_result",
          "data": {
            "text/plain": [
              "14"
            ]
          },
          "metadata": {
            "tags": []
          },
          "execution_count": 12
        }
      ]
    },
    {
      "cell_type": "code",
      "metadata": {
        "id": "27cC52c27a1C"
      },
      "source": [
        "def char_counts(x):\n",
        "  s = x.split()\n",
        "  x = ''.join(s)\n",
        "  return len(x)"
      ],
      "execution_count": 13,
      "outputs": []
    },
    {
      "cell_type": "code",
      "metadata": {
        "colab": {
          "base_uri": "https://localhost:8080/"
        },
        "id": "O3_gST5X7_CI",
        "outputId": "a51159c6-70a4-4929-a33b-d1aeeb3b3e93"
      },
      "source": [
        "char_counts('Happy birthday')"
      ],
      "execution_count": 14,
      "outputs": [
        {
          "output_type": "execute_result",
          "data": {
            "text/plain": [
              "13"
            ]
          },
          "metadata": {
            "tags": []
          },
          "execution_count": 14
        }
      ]
    },
    {
      "cell_type": "code",
      "metadata": {
        "id": "k0KlGzWx8C2h"
      },
      "source": [
        "df['char_count'] = df['twitts'].apply(lambda x: char_counts(str(x)))"
      ],
      "execution_count": 15,
      "outputs": []
    },
    {
      "cell_type": "code",
      "metadata": {
        "colab": {
          "base_uri": "https://localhost:8080/",
          "height": 195
        },
        "id": "MgkmKC9s8SW-",
        "outputId": "13e81a7f-4e7c-4fbf-dd89-daee31f8fb31"
      },
      "source": [
        "df.sample(5)"
      ],
      "execution_count": 16,
      "outputs": [
        {
          "output_type": "execute_result",
          "data": {
            "text/html": [
              "<div>\n",
              "<style scoped>\n",
              "    .dataframe tbody tr th:only-of-type {\n",
              "        vertical-align: middle;\n",
              "    }\n",
              "\n",
              "    .dataframe tbody tr th {\n",
              "        vertical-align: top;\n",
              "    }\n",
              "\n",
              "    .dataframe thead th {\n",
              "        text-align: right;\n",
              "    }\n",
              "</style>\n",
              "<table border=\"1\" class=\"dataframe\">\n",
              "  <thead>\n",
              "    <tr style=\"text-align: right;\">\n",
              "      <th></th>\n",
              "      <th>twitts</th>\n",
              "      <th>sentiment</th>\n",
              "      <th>word_counts</th>\n",
              "      <th>char_count</th>\n",
              "    </tr>\n",
              "  </thead>\n",
              "  <tbody>\n",
              "    <tr>\n",
              "      <th>2889</th>\n",
              "      <td>@Helz53 Don't we all.</td>\n",
              "      <td>1</td>\n",
              "      <td>4</td>\n",
              "      <td>18</td>\n",
              "    </tr>\n",
              "    <tr>\n",
              "      <th>2527</th>\n",
              "      <td>@janetheimpaler If there were a &amp;quot;like&amp;quo...</td>\n",
              "      <td>1</td>\n",
              "      <td>17</td>\n",
              "      <td>82</td>\n",
              "    </tr>\n",
              "    <tr>\n",
              "      <th>880</th>\n",
              "      <td>@Holleebh have you seen it? it's scary</td>\n",
              "      <td>0</td>\n",
              "      <td>7</td>\n",
              "      <td>32</td>\n",
              "    </tr>\n",
              "    <tr>\n",
              "      <th>427</th>\n",
              "      <td>we want API! http://tinyurl.com/o49vf9 #wolfra...</td>\n",
              "      <td>0</td>\n",
              "      <td>12</td>\n",
              "      <td>109</td>\n",
              "    </tr>\n",
              "    <tr>\n",
              "      <th>1577</th>\n",
              "      <td>Kind of a deal-breaker, when u discover a hot...</td>\n",
              "      <td>0</td>\n",
              "      <td>24</td>\n",
              "      <td>113</td>\n",
              "    </tr>\n",
              "  </tbody>\n",
              "</table>\n",
              "</div>"
            ],
            "text/plain": [
              "                                                 twitts  sentiment  word_counts  char_count\n",
              "2889                            @Helz53 Don't we all.            1            4          18\n",
              "2527  @janetheimpaler If there were a &quot;like&quo...          1           17          82\n",
              "880             @Holleebh have you seen it? it's scary           0            7          32\n",
              "427   we want API! http://tinyurl.com/o49vf9 #wolfra...          0           12         109\n",
              "1577   Kind of a deal-breaker, when u discover a hot...          0           24         113"
            ]
          },
          "metadata": {
            "tags": []
          },
          "execution_count": 16
        }
      ]
    },
    {
      "cell_type": "markdown",
      "metadata": {
        "id": "YkIY5zAI_vPg"
      },
      "source": [
        "# Average Word Length"
      ]
    },
    {
      "cell_type": "code",
      "metadata": {
        "id": "7InAy2NO_eEm"
      },
      "source": [
        "df['avg_word_length'] = df['char_count']/df['word_counts']"
      ],
      "execution_count": 17,
      "outputs": []
    },
    {
      "cell_type": "code",
      "metadata": {
        "colab": {
          "base_uri": "https://localhost:8080/",
          "height": 195
        },
        "id": "CWAmABKY_9R5",
        "outputId": "f0cc7102-223a-402e-f5d2-1dbd60a9e658"
      },
      "source": [
        "df.sample(5)"
      ],
      "execution_count": 18,
      "outputs": [
        {
          "output_type": "execute_result",
          "data": {
            "text/html": [
              "<div>\n",
              "<style scoped>\n",
              "    .dataframe tbody tr th:only-of-type {\n",
              "        vertical-align: middle;\n",
              "    }\n",
              "\n",
              "    .dataframe tbody tr th {\n",
              "        vertical-align: top;\n",
              "    }\n",
              "\n",
              "    .dataframe thead th {\n",
              "        text-align: right;\n",
              "    }\n",
              "</style>\n",
              "<table border=\"1\" class=\"dataframe\">\n",
              "  <thead>\n",
              "    <tr style=\"text-align: right;\">\n",
              "      <th></th>\n",
              "      <th>twitts</th>\n",
              "      <th>sentiment</th>\n",
              "      <th>word_counts</th>\n",
              "      <th>char_count</th>\n",
              "      <th>avg_word_length</th>\n",
              "    </tr>\n",
              "  </thead>\n",
              "  <tbody>\n",
              "    <tr>\n",
              "      <th>8</th>\n",
              "      <td>@phatty84 just hella bored at work  lol</td>\n",
              "      <td>0</td>\n",
              "      <td>7</td>\n",
              "      <td>32</td>\n",
              "      <td>4.571429</td>\n",
              "    </tr>\n",
              "    <tr>\n",
              "      <th>730</th>\n",
              "      <td>@_skp   @_skp time to die..lets jump off the t...</td>\n",
              "      <td>0</td>\n",
              "      <td>21</td>\n",
              "      <td>93</td>\n",
              "      <td>4.428571</td>\n",
              "    </tr>\n",
              "    <tr>\n",
              "      <th>1864</th>\n",
              "      <td>Shit it's raining really hard</td>\n",
              "      <td>0</td>\n",
              "      <td>5</td>\n",
              "      <td>25</td>\n",
              "      <td>5.000000</td>\n",
              "    </tr>\n",
              "    <tr>\n",
              "      <th>3721</th>\n",
              "      <td>@Brianne_Sanchez Love your articles! Feel like...</td>\n",
              "      <td>1</td>\n",
              "      <td>16</td>\n",
              "      <td>77</td>\n",
              "      <td>4.812500</td>\n",
              "    </tr>\n",
              "    <tr>\n",
              "      <th>269</th>\n",
              "      <td>Its official now,..Am off twitter for a week,....</td>\n",
              "      <td>0</td>\n",
              "      <td>13</td>\n",
              "      <td>63</td>\n",
              "      <td>4.846154</td>\n",
              "    </tr>\n",
              "  </tbody>\n",
              "</table>\n",
              "</div>"
            ],
            "text/plain": [
              "                                                 twitts  sentiment  word_counts  char_count  avg_word_length\n",
              "8               @phatty84 just hella bored at work  lol          0            7          32         4.571429\n",
              "730   @_skp   @_skp time to die..lets jump off the t...          0           21          93         4.428571\n",
              "1864                     Shit it's raining really hard           0            5          25         5.000000\n",
              "3721  @Brianne_Sanchez Love your articles! Feel like...          1           16          77         4.812500\n",
              "269   Its official now,..Am off twitter for a week,....          0           13          63         4.846154"
            ]
          },
          "metadata": {
            "tags": []
          },
          "execution_count": 18
        }
      ]
    },
    {
      "cell_type": "markdown",
      "metadata": {
        "id": "ktwS5kgLATO-"
      },
      "source": [
        "# Stop Words Count"
      ]
    },
    {
      "cell_type": "code",
      "metadata": {
        "colab": {
          "base_uri": "https://localhost:8080/"
        },
        "id": "BWm_13brAGah",
        "outputId": "0fae479b-ca5f-4ee1-c1c5-a3916336edb9"
      },
      "source": [
        "print(stopword)"
      ],
      "execution_count": 19,
      "outputs": [
        {
          "output_type": "stream",
          "text": [
            "{'each', 'never', 'otherwise', 'always', 'could', 'moreover', 'three', 'mostly', 'part', 'using', 'enough', 'no', 'one', 'beforehand', 'there', 'very', 'must', 'just', 'show', 'wherein', 'whose', 'say', 'among', 'yourself', 'what', 'give', 'back', 'fifty', 'or', 'put', 'her', 'thereupon', 'cannot', 'somewhere', 'ten', 'about', 'still', 'however', 'on', 'might', 'namely', 'hereby', 'will', 'down', 'with', 'anyhow', 'between', 'am', 'yourselves', '’re', 'per', 'n‘t', 'ourselves', 'beside', 'do', 'doing', 'towards', 'onto', 'n’t', 'during', 'quite', 'off', 'others', 'through', 'up', 'became', 'move', 'many', 'serious', 'somehow', 'empty', 'hundred', 'it', 'since', 'also', 'ours', 'bottom', 'their', 'by', 'fifteen', 'made', 'seemed', 'whither', 'your', 'toward', 'sometimes', 'not', 'same', 'although', 'else', 'we', '’ve', 'being', 'everyone', 'really', 'into', 'whence', 'are', 'neither', \"'s\", 'than', 'nevertheless', 'perhaps', 'had', 'keep', 'take', 'regarding', 'four', 'other', 'out', '‘ll', 'third', 'why', 'next', 'hers', 'almost', 'at', 'none', 'thru', \"'m\", 'few', 'first', 'along', 'anyway', 'most', 'and', 'meanwhile', 'therefore', 'further', 'nine', '‘s', '‘re', 'where', 'she', '’ll', 'rather', 'nor', 'unless', 'whole', 'would', 'across', 'himself', 'so', 'seem', 'they', 'i', 'indeed', \"n't\", 'used', 'me', 'above', 'afterwards', 'was', 'as', 'various', 'call', 'myself', 'below', 'is', 'amount', 'eight', 'well', 'herein', 'go', 'hereafter', 'who', 'under', 'noone', 'least', 'ever', 'much', '‘ve', 'seeming', 'ca', 'which', 'now', 'mine', 're', 'several', 'twenty', 'someone', 'how', 'throughout', 'without', 'except', 'becoming', 'then', 'before', 'because', 'any', 'seems', 'latterly', 'if', 'top', 'twelve', 'been', 'thereby', 'that', 'becomes', 'former', 'have', 'everything', 'were', 'he', 'you', 'already', 'my', 'against', 'has', 'his', 'too', 'behind', 'whoever', 'wherever', 'him', 'around', 'more', 'side', 'such', 'upon', 'together', 'forty', 'after', 'sometime', 'eleven', 'six', 'please', 'name', 'two', 'whenever', 'sixty', 'all', '‘d', 'over', 'last', 'yours', 'thence', 'this', 'some', 'whereupon', 'those', 'anywhere', 'make', 'alone', 'see', 'yet', 'full', 'done', 'both', 'therein', 'whatever', 'in', 'become', 'but', 'does', 'amongst', 'beyond', 'from', 'whereby', 'our', 'either', 'less', 'a', 'when', \"'d\", 'whether', 'once', 'via', 'every', 'though', 'often', 'nothing', 'get', 'herself', 'everywhere', 'only', 'of', 'did', \"'ll\", '‘m', 'anything', 'these', 'whom', 'another', 'here', 'should', 'latter', 'formerly', 'an', 'front', '’s', 'thereafter', 'own', 'besides', 'until', 'while', 'elsewhere', 'themselves', 'hence', 'hereupon', 'may', 'the', 'five', 'anyone', 'for', 'whereas', 'whereafter', 'be', 'can', 'them', 'us', 'itself', \"'re\", 'nobody', \"'ve\", '’m', 'its', '’d', 'to', 'due', 'within', 'thus', 'something', 'nowhere', 'again', 'even'}\n"
          ],
          "name": "stdout"
        }
      ]
    },
    {
      "cell_type": "code",
      "metadata": {
        "colab": {
          "base_uri": "https://localhost:8080/"
        },
        "id": "L-7vLwWTAX3M",
        "outputId": "696df15a-3735-4d0b-be47-82931d1aad92"
      },
      "source": [
        "len(stopword)"
      ],
      "execution_count": 20,
      "outputs": [
        {
          "output_type": "execute_result",
          "data": {
            "text/plain": [
              "326"
            ]
          },
          "metadata": {
            "tags": []
          },
          "execution_count": 20
        }
      ]
    },
    {
      "cell_type": "code",
      "metadata": {
        "id": "QntS1SoJAytO"
      },
      "source": [
        "x = 'this is text data'"
      ],
      "execution_count": 21,
      "outputs": []
    },
    {
      "cell_type": "code",
      "metadata": {
        "id": "2EYMYmfvAywf"
      },
      "source": [
        ""
      ],
      "execution_count": 21,
      "outputs": []
    },
    {
      "cell_type": "code",
      "metadata": {
        "colab": {
          "base_uri": "https://localhost:8080/"
        },
        "id": "4fKopBggAehs",
        "outputId": "a200f467-dceb-4d93-a72b-f480b5e1481f"
      },
      "source": [
        "len([t for t in x.split() if t in stopword])"
      ],
      "execution_count": 22,
      "outputs": [
        {
          "output_type": "execute_result",
          "data": {
            "text/plain": [
              "2"
            ]
          },
          "metadata": {
            "tags": []
          },
          "execution_count": 22
        }
      ]
    },
    {
      "cell_type": "code",
      "metadata": {
        "id": "w7o5q6-XA2bP"
      },
      "source": [
        "df['stop_word_len'] = df['twitts'].apply(lambda x: len([t for t in x.split() if t in stopword]))"
      ],
      "execution_count": 23,
      "outputs": []
    },
    {
      "cell_type": "code",
      "metadata": {
        "colab": {
          "base_uri": "https://localhost:8080/",
          "height": 195
        },
        "id": "SQfpK5pcBHau",
        "outputId": "0f66aa50-76c0-4922-c11e-6c5d69354ed7"
      },
      "source": [
        "df.sample(5)"
      ],
      "execution_count": 24,
      "outputs": [
        {
          "output_type": "execute_result",
          "data": {
            "text/html": [
              "<div>\n",
              "<style scoped>\n",
              "    .dataframe tbody tr th:only-of-type {\n",
              "        vertical-align: middle;\n",
              "    }\n",
              "\n",
              "    .dataframe tbody tr th {\n",
              "        vertical-align: top;\n",
              "    }\n",
              "\n",
              "    .dataframe thead th {\n",
              "        text-align: right;\n",
              "    }\n",
              "</style>\n",
              "<table border=\"1\" class=\"dataframe\">\n",
              "  <thead>\n",
              "    <tr style=\"text-align: right;\">\n",
              "      <th></th>\n",
              "      <th>twitts</th>\n",
              "      <th>sentiment</th>\n",
              "      <th>word_counts</th>\n",
              "      <th>char_count</th>\n",
              "      <th>avg_word_length</th>\n",
              "      <th>stop_word_len</th>\n",
              "    </tr>\n",
              "  </thead>\n",
              "  <tbody>\n",
              "    <tr>\n",
              "      <th>147</th>\n",
              "      <td>yo, wtf is up with the full &amp;amp; lite view sh...</td>\n",
              "      <td>0</td>\n",
              "      <td>16</td>\n",
              "      <td>55</td>\n",
              "      <td>3.437500</td>\n",
              "      <td>8</td>\n",
              "    </tr>\n",
              "    <tr>\n",
              "      <th>2576</th>\n",
              "      <td>The serial stealth bummer strikes again  http:...</td>\n",
              "      <td>1</td>\n",
              "      <td>7</td>\n",
              "      <td>58</td>\n",
              "      <td>8.285714</td>\n",
              "      <td>1</td>\n",
              "    </tr>\n",
              "    <tr>\n",
              "      <th>1837</th>\n",
              "      <td>@bawdz not a good display,unfortunate amount o...</td>\n",
              "      <td>0</td>\n",
              "      <td>9</td>\n",
              "      <td>52</td>\n",
              "      <td>5.777778</td>\n",
              "      <td>5</td>\n",
              "    </tr>\n",
              "    <tr>\n",
              "      <th>217</th>\n",
              "      <td>@_MAXWELL_  What happened to your planned Orla...</td>\n",
              "      <td>0</td>\n",
              "      <td>14</td>\n",
              "      <td>91</td>\n",
              "      <td>6.500000</td>\n",
              "      <td>2</td>\n",
              "    </tr>\n",
              "    <tr>\n",
              "      <th>3814</th>\n",
              "      <td>@freaky_mushroom, @musicmonster, gracias!</td>\n",
              "      <td>1</td>\n",
              "      <td>3</td>\n",
              "      <td>39</td>\n",
              "      <td>13.000000</td>\n",
              "      <td>0</td>\n",
              "    </tr>\n",
              "  </tbody>\n",
              "</table>\n",
              "</div>"
            ],
            "text/plain": [
              "                                                 twitts  sentiment  word_counts  char_count  avg_word_length  stop_word_len\n",
              "147   yo, wtf is up with the full &amp; lite view sh...          0           16          55         3.437500              8\n",
              "2576  The serial stealth bummer strikes again  http:...          1            7          58         8.285714              1\n",
              "1837  @bawdz not a good display,unfortunate amount o...          0            9          52         5.777778              5\n",
              "217   @_MAXWELL_  What happened to your planned Orla...          0           14          91         6.500000              2\n",
              "3814         @freaky_mushroom, @musicmonster, gracias!           1            3          39        13.000000              0"
            ]
          },
          "metadata": {
            "tags": []
          },
          "execution_count": 24
        }
      ]
    },
    {
      "cell_type": "markdown",
      "metadata": {
        "id": "c6R4Gc9SBX9t"
      },
      "source": [
        "# Count Hashtag and @Mentions"
      ]
    },
    {
      "cell_type": "code",
      "metadata": {
        "id": "dblqcHKeBOzF"
      },
      "source": [
        "x = 'this is #hashtag and this is @mention'"
      ],
      "execution_count": 25,
      "outputs": []
    },
    {
      "cell_type": "code",
      "metadata": {
        "colab": {
          "base_uri": "https://localhost:8080/"
        },
        "id": "-IzAffheBhZW",
        "outputId": "e34b6bf6-a3fb-430e-b4f7-0581ee7224ae"
      },
      "source": [
        "x.split()"
      ],
      "execution_count": 26,
      "outputs": [
        {
          "output_type": "execute_result",
          "data": {
            "text/plain": [
              "['this', 'is', '#hashtag', 'and', 'this', 'is', '@mention']"
            ]
          },
          "metadata": {
            "tags": []
          },
          "execution_count": 26
        }
      ]
    },
    {
      "cell_type": "code",
      "metadata": {
        "colab": {
          "base_uri": "https://localhost:8080/"
        },
        "id": "OvTZ3qzmBkZs",
        "outputId": "0ecb39fd-cce6-49e8-d94f-052f77525b3a"
      },
      "source": [
        "len([t for t in x.split() if t.startswith('#')])"
      ],
      "execution_count": 27,
      "outputs": [
        {
          "output_type": "execute_result",
          "data": {
            "text/plain": [
              "1"
            ]
          },
          "metadata": {
            "tags": []
          },
          "execution_count": 27
        }
      ]
    },
    {
      "cell_type": "code",
      "metadata": {
        "colab": {
          "base_uri": "https://localhost:8080/"
        },
        "id": "QLK4bibwBxUJ",
        "outputId": "b914c73f-2550-4910-ef2e-7ecbd9e5c796"
      },
      "source": [
        "len([t for t in x.split() if t.startswith('@')])"
      ],
      "execution_count": 28,
      "outputs": [
        {
          "output_type": "execute_result",
          "data": {
            "text/plain": [
              "1"
            ]
          },
          "metadata": {
            "tags": []
          },
          "execution_count": 28
        }
      ]
    },
    {
      "cell_type": "code",
      "metadata": {
        "id": "Wez9MLcHB6S0"
      },
      "source": [
        "df['hashtags'] = df['twitts'].apply(lambda x: len([t for t in x.split() if t.startswith('#')]))"
      ],
      "execution_count": 29,
      "outputs": []
    },
    {
      "cell_type": "code",
      "metadata": {
        "id": "MLDcWYEOCAwG"
      },
      "source": [
        "df['mentions'] = df['twitts'].apply(lambda x: len([t for t in x.split() if t.startswith('@')]))"
      ],
      "execution_count": 30,
      "outputs": []
    },
    {
      "cell_type": "code",
      "metadata": {
        "colab": {
          "base_uri": "https://localhost:8080/",
          "height": 195
        },
        "id": "xgjSgRhBCQml",
        "outputId": "2ccaddbb-2fe4-4658-c56c-2848a9197f1b"
      },
      "source": [
        "df.sample(5)"
      ],
      "execution_count": 31,
      "outputs": [
        {
          "output_type": "execute_result",
          "data": {
            "text/html": [
              "<div>\n",
              "<style scoped>\n",
              "    .dataframe tbody tr th:only-of-type {\n",
              "        vertical-align: middle;\n",
              "    }\n",
              "\n",
              "    .dataframe tbody tr th {\n",
              "        vertical-align: top;\n",
              "    }\n",
              "\n",
              "    .dataframe thead th {\n",
              "        text-align: right;\n",
              "    }\n",
              "</style>\n",
              "<table border=\"1\" class=\"dataframe\">\n",
              "  <thead>\n",
              "    <tr style=\"text-align: right;\">\n",
              "      <th></th>\n",
              "      <th>twitts</th>\n",
              "      <th>sentiment</th>\n",
              "      <th>word_counts</th>\n",
              "      <th>char_count</th>\n",
              "      <th>avg_word_length</th>\n",
              "      <th>stop_word_len</th>\n",
              "      <th>hashtags</th>\n",
              "      <th>mentions</th>\n",
              "    </tr>\n",
              "  </thead>\n",
              "  <tbody>\n",
              "    <tr>\n",
              "      <th>345</th>\n",
              "      <td>@FakerPattyPattz Oh dear. Were you drinking ou...</td>\n",
              "      <td>0</td>\n",
              "      <td>12</td>\n",
              "      <td>67</td>\n",
              "      <td>5.583333</td>\n",
              "      <td>4</td>\n",
              "      <td>0</td>\n",
              "      <td>1</td>\n",
              "    </tr>\n",
              "    <tr>\n",
              "      <th>3019</th>\n",
              "      <td>on that LG status today...no work....no stress...</td>\n",
              "      <td>1</td>\n",
              "      <td>7</td>\n",
              "      <td>49</td>\n",
              "      <td>7.000000</td>\n",
              "      <td>2</td>\n",
              "      <td>0</td>\n",
              "      <td>0</td>\n",
              "    </tr>\n",
              "    <tr>\n",
              "      <th>1950</th>\n",
              "      <td>@steveheath i could use another dunkins this m...</td>\n",
              "      <td>0</td>\n",
              "      <td>14</td>\n",
              "      <td>70</td>\n",
              "      <td>5.000000</td>\n",
              "      <td>6</td>\n",
              "      <td>0</td>\n",
              "      <td>1</td>\n",
              "    </tr>\n",
              "    <tr>\n",
              "      <th>1083</th>\n",
              "      <td>aiming for exemption in at least one subject. ...</td>\n",
              "      <td>0</td>\n",
              "      <td>9</td>\n",
              "      <td>63</td>\n",
              "      <td>7.000000</td>\n",
              "      <td>5</td>\n",
              "      <td>0</td>\n",
              "      <td>0</td>\n",
              "    </tr>\n",
              "    <tr>\n",
              "      <th>2109</th>\n",
              "      <td>Miley Cyrus - The Climb!!</td>\n",
              "      <td>1</td>\n",
              "      <td>5</td>\n",
              "      <td>21</td>\n",
              "      <td>4.200000</td>\n",
              "      <td>0</td>\n",
              "      <td>0</td>\n",
              "      <td>0</td>\n",
              "    </tr>\n",
              "  </tbody>\n",
              "</table>\n",
              "</div>"
            ],
            "text/plain": [
              "                                                 twitts  sentiment  word_counts  char_count  avg_word_length  stop_word_len  hashtags  mentions\n",
              "345   @FakerPattyPattz Oh dear. Were you drinking ou...          0           12          67         5.583333              4         0         1\n",
              "3019  on that LG status today...no work....no stress...          1            7          49         7.000000              2         0         0\n",
              "1950  @steveheath i could use another dunkins this m...          0           14          70         5.000000              6         0         1\n",
              "1083  aiming for exemption in at least one subject. ...          0            9          63         7.000000              5         0         0\n",
              "2109                         Miley Cyrus - The Climb!!           1            5          21         4.200000              0         0         0"
            ]
          },
          "metadata": {
            "tags": []
          },
          "execution_count": 31
        }
      ]
    },
    {
      "cell_type": "markdown",
      "metadata": {
        "id": "wVWuhgf5CafR"
      },
      "source": [
        "# Numeric Digit Count"
      ]
    },
    {
      "cell_type": "code",
      "metadata": {
        "id": "cBccKCm7CSK-"
      },
      "source": [
        "x = 'this is 1 and 2'"
      ],
      "execution_count": 32,
      "outputs": []
    },
    {
      "cell_type": "code",
      "metadata": {
        "colab": {
          "base_uri": "https://localhost:8080/"
        },
        "id": "av_oTN8TCf5x",
        "outputId": "8a616fe4-297b-47da-bccf-feeb828d2a4d"
      },
      "source": [
        "x.split()"
      ],
      "execution_count": 33,
      "outputs": [
        {
          "output_type": "execute_result",
          "data": {
            "text/plain": [
              "['this', 'is', '1', 'and', '2']"
            ]
          },
          "metadata": {
            "tags": []
          },
          "execution_count": 33
        }
      ]
    },
    {
      "cell_type": "code",
      "metadata": {
        "id": "3opT5-gACgtG"
      },
      "source": [
        "df['numeric_count'] = df['twitts'].apply(lambda x : len([t for t in x.split() if t.isdigit()]))"
      ],
      "execution_count": 34,
      "outputs": []
    },
    {
      "cell_type": "code",
      "metadata": {
        "colab": {
          "base_uri": "https://localhost:8080/",
          "height": 195
        },
        "id": "BAVhyjnVCySk",
        "outputId": "e87cbb7e-1ba7-4354-b178-cb92a508c929"
      },
      "source": [
        "df.sample(5)"
      ],
      "execution_count": 35,
      "outputs": [
        {
          "output_type": "execute_result",
          "data": {
            "text/html": [
              "<div>\n",
              "<style scoped>\n",
              "    .dataframe tbody tr th:only-of-type {\n",
              "        vertical-align: middle;\n",
              "    }\n",
              "\n",
              "    .dataframe tbody tr th {\n",
              "        vertical-align: top;\n",
              "    }\n",
              "\n",
              "    .dataframe thead th {\n",
              "        text-align: right;\n",
              "    }\n",
              "</style>\n",
              "<table border=\"1\" class=\"dataframe\">\n",
              "  <thead>\n",
              "    <tr style=\"text-align: right;\">\n",
              "      <th></th>\n",
              "      <th>twitts</th>\n",
              "      <th>sentiment</th>\n",
              "      <th>word_counts</th>\n",
              "      <th>char_count</th>\n",
              "      <th>avg_word_length</th>\n",
              "      <th>stop_word_len</th>\n",
              "      <th>hashtags</th>\n",
              "      <th>mentions</th>\n",
              "      <th>numeric_count</th>\n",
              "    </tr>\n",
              "  </thead>\n",
              "  <tbody>\n",
              "    <tr>\n",
              "      <th>3905</th>\n",
              "      <td>Playlist for Dance With Vol.10 is finally done...</td>\n",
              "      <td>1</td>\n",
              "      <td>19</td>\n",
              "      <td>76</td>\n",
              "      <td>4.000000</td>\n",
              "      <td>8</td>\n",
              "      <td>0</td>\n",
              "      <td>0</td>\n",
              "      <td>0</td>\n",
              "    </tr>\n",
              "    <tr>\n",
              "      <th>2859</th>\n",
              "      <td>I am excited about my free @daytonalagoon wate...</td>\n",
              "      <td>1</td>\n",
              "      <td>14</td>\n",
              "      <td>69</td>\n",
              "      <td>4.928571</td>\n",
              "      <td>4</td>\n",
              "      <td>0</td>\n",
              "      <td>1</td>\n",
              "      <td>0</td>\n",
              "    </tr>\n",
              "    <tr>\n",
              "      <th>55</th>\n",
              "      <td>@haemoglobin_ Why?</td>\n",
              "      <td>0</td>\n",
              "      <td>2</td>\n",
              "      <td>17</td>\n",
              "      <td>8.500000</td>\n",
              "      <td>0</td>\n",
              "      <td>0</td>\n",
              "      <td>1</td>\n",
              "      <td>0</td>\n",
              "    </tr>\n",
              "    <tr>\n",
              "      <th>2622</th>\n",
              "      <td>I just want to be there When the morning light...</td>\n",
              "      <td>1</td>\n",
              "      <td>25</td>\n",
              "      <td>94</td>\n",
              "      <td>3.760000</td>\n",
              "      <td>9</td>\n",
              "      <td>0</td>\n",
              "      <td>0</td>\n",
              "      <td>0</td>\n",
              "    </tr>\n",
              "    <tr>\n",
              "      <th>2057</th>\n",
              "      <td>Brooke im glad you better i miss you!</td>\n",
              "      <td>1</td>\n",
              "      <td>8</td>\n",
              "      <td>30</td>\n",
              "      <td>3.750000</td>\n",
              "      <td>2</td>\n",
              "      <td>0</td>\n",
              "      <td>0</td>\n",
              "      <td>0</td>\n",
              "    </tr>\n",
              "  </tbody>\n",
              "</table>\n",
              "</div>"
            ],
            "text/plain": [
              "                                                 twitts  sentiment  word_counts  char_count  avg_word_length  stop_word_len  hashtags  mentions  numeric_count\n",
              "3905  Playlist for Dance With Vol.10 is finally done...          1           19          76         4.000000              8         0         0              0\n",
              "2859  I am excited about my free @daytonalagoon wate...          1           14          69         4.928571              4         0         1              0\n",
              "55                                  @haemoglobin_ Why?           0            2          17         8.500000              0         0         1              0\n",
              "2622  I just want to be there When the morning light...          1           25          94         3.760000              9         0         0              0\n",
              "2057             Brooke im glad you better i miss you!           1            8          30         3.750000              2         0         0              0"
            ]
          },
          "metadata": {
            "tags": []
          },
          "execution_count": 35
        }
      ]
    },
    {
      "cell_type": "markdown",
      "metadata": {
        "id": "I1M232t4yFrQ"
      },
      "source": [
        "# Upper case words counts"
      ]
    },
    {
      "cell_type": "code",
      "metadata": {
        "id": "lBHUzksbC-7B"
      },
      "source": [
        "x = 'I AM HAPPY'\n",
        "y = 'i am happy'"
      ],
      "execution_count": 36,
      "outputs": []
    },
    {
      "cell_type": "code",
      "metadata": {
        "colab": {
          "base_uri": "https://localhost:8080/"
        },
        "id": "POy2sajcyNcR",
        "outputId": "cce7a376-69c7-4568-c33d-e0f1a2eb2984"
      },
      "source": [
        "[t for t in x.split() if t.isupper()]"
      ],
      "execution_count": 37,
      "outputs": [
        {
          "output_type": "execute_result",
          "data": {
            "text/plain": [
              "['I', 'AM', 'HAPPY']"
            ]
          },
          "metadata": {
            "tags": []
          },
          "execution_count": 37
        }
      ]
    },
    {
      "cell_type": "code",
      "metadata": {
        "id": "J6-NCgO_yfLP"
      },
      "source": [
        "df['upper_counts'] = df['twitts'].apply(lambda x: len([t for t in x.split() if t.isupper()]))"
      ],
      "execution_count": 38,
      "outputs": []
    },
    {
      "cell_type": "code",
      "metadata": {
        "colab": {
          "base_uri": "https://localhost:8080/",
          "height": 195
        },
        "id": "_fUcWI3UzDVn",
        "outputId": "4bb5d0be-c79e-42c4-bd69-abaa86e7eed1"
      },
      "source": [
        "df.sample(5)"
      ],
      "execution_count": 39,
      "outputs": [
        {
          "output_type": "execute_result",
          "data": {
            "text/html": [
              "<div>\n",
              "<style scoped>\n",
              "    .dataframe tbody tr th:only-of-type {\n",
              "        vertical-align: middle;\n",
              "    }\n",
              "\n",
              "    .dataframe tbody tr th {\n",
              "        vertical-align: top;\n",
              "    }\n",
              "\n",
              "    .dataframe thead th {\n",
              "        text-align: right;\n",
              "    }\n",
              "</style>\n",
              "<table border=\"1\" class=\"dataframe\">\n",
              "  <thead>\n",
              "    <tr style=\"text-align: right;\">\n",
              "      <th></th>\n",
              "      <th>twitts</th>\n",
              "      <th>sentiment</th>\n",
              "      <th>word_counts</th>\n",
              "      <th>char_count</th>\n",
              "      <th>avg_word_length</th>\n",
              "      <th>stop_word_len</th>\n",
              "      <th>hashtags</th>\n",
              "      <th>mentions</th>\n",
              "      <th>numeric_count</th>\n",
              "      <th>upper_counts</th>\n",
              "    </tr>\n",
              "  </thead>\n",
              "  <tbody>\n",
              "    <tr>\n",
              "      <th>2480</th>\n",
              "      <td>Ok so future headache says to me this morning ...</td>\n",
              "      <td>1</td>\n",
              "      <td>23</td>\n",
              "      <td>125</td>\n",
              "      <td>5.434783</td>\n",
              "      <td>6</td>\n",
              "      <td>0</td>\n",
              "      <td>0</td>\n",
              "      <td>0</td>\n",
              "      <td>0</td>\n",
              "    </tr>\n",
              "    <tr>\n",
              "      <th>1054</th>\n",
              "      <td>Omfg! This training boring as fuck</td>\n",
              "      <td>0</td>\n",
              "      <td>6</td>\n",
              "      <td>29</td>\n",
              "      <td>4.833333</td>\n",
              "      <td>1</td>\n",
              "      <td>0</td>\n",
              "      <td>0</td>\n",
              "      <td>0</td>\n",
              "      <td>0</td>\n",
              "    </tr>\n",
              "    <tr>\n",
              "      <th>3604</th>\n",
              "      <td>Watching Parish Hilton: My New BFF!</td>\n",
              "      <td>1</td>\n",
              "      <td>6</td>\n",
              "      <td>30</td>\n",
              "      <td>5.000000</td>\n",
              "      <td>0</td>\n",
              "      <td>0</td>\n",
              "      <td>0</td>\n",
              "      <td>0</td>\n",
              "      <td>1</td>\n",
              "    </tr>\n",
              "    <tr>\n",
              "      <th>2187</th>\n",
              "      <td>you are my hero</td>\n",
              "      <td>1</td>\n",
              "      <td>4</td>\n",
              "      <td>12</td>\n",
              "      <td>3.000000</td>\n",
              "      <td>3</td>\n",
              "      <td>0</td>\n",
              "      <td>0</td>\n",
              "      <td>0</td>\n",
              "      <td>0</td>\n",
              "    </tr>\n",
              "    <tr>\n",
              "      <th>1626</th>\n",
              "      <td>overall some excellent results yesterday..but ...</td>\n",
              "      <td>0</td>\n",
              "      <td>9</td>\n",
              "      <td>55</td>\n",
              "      <td>6.111111</td>\n",
              "      <td>3</td>\n",
              "      <td>0</td>\n",
              "      <td>0</td>\n",
              "      <td>0</td>\n",
              "      <td>0</td>\n",
              "    </tr>\n",
              "  </tbody>\n",
              "</table>\n",
              "</div>"
            ],
            "text/plain": [
              "                                                 twitts  sentiment  word_counts  char_count  avg_word_length  stop_word_len  hashtags  mentions  numeric_count  upper_counts\n",
              "2480  Ok so future headache says to me this morning ...          1           23         125         5.434783              6         0         0              0             0\n",
              "1054                Omfg! This training boring as fuck           0            6          29         4.833333              1         0         0              0             0\n",
              "3604               Watching Parish Hilton: My New BFF!           1            6          30         5.000000              0         0         0              0             1\n",
              "2187                                   you are my hero           1            4          12         3.000000              3         0         0              0             0\n",
              "1626  overall some excellent results yesterday..but ...          0            9          55         6.111111              3         0         0              0             0"
            ]
          },
          "metadata": {
            "tags": []
          },
          "execution_count": 39
        }
      ]
    },
    {
      "cell_type": "markdown",
      "metadata": {
        "id": "mEeWScs287G7"
      },
      "source": [
        "# Lower Case Word Counts"
      ]
    },
    {
      "cell_type": "code",
      "metadata": {
        "id": "iBHw3PeSzKNG"
      },
      "source": [
        "x = 'this is a Text'"
      ],
      "execution_count": 40,
      "outputs": []
    },
    {
      "cell_type": "code",
      "metadata": {
        "colab": {
          "base_uri": "https://localhost:8080/",
          "height": 35
        },
        "id": "qZ95UsMz9FGZ",
        "outputId": "e344abb4-1a3f-48ad-b469-3f42cfd2d4c2"
      },
      "source": [
        "x.lower()"
      ],
      "execution_count": 41,
      "outputs": [
        {
          "output_type": "execute_result",
          "data": {
            "application/vnd.google.colaboratory.intrinsic+json": {
              "type": "string"
            },
            "text/plain": [
              "'this is a text'"
            ]
          },
          "metadata": {
            "tags": []
          },
          "execution_count": 41
        }
      ]
    },
    {
      "cell_type": "code",
      "metadata": {
        "colab": {
          "base_uri": "https://localhost:8080/",
          "height": 35
        },
        "id": "p47WNtZo9GIw",
        "outputId": "31c7cb0a-06b4-4ef0-cf00-3f14e6301443"
      },
      "source": [
        "x = 45.0\n",
        "str(x).lower()"
      ],
      "execution_count": 42,
      "outputs": [
        {
          "output_type": "execute_result",
          "data": {
            "application/vnd.google.colaboratory.intrinsic+json": {
              "type": "string"
            },
            "text/plain": [
              "'45.0'"
            ]
          },
          "metadata": {
            "tags": []
          },
          "execution_count": 42
        }
      ]
    },
    {
      "cell_type": "code",
      "metadata": {
        "id": "-KelAuJg9KSc"
      },
      "source": [
        "df['twitts'] = df['twitts'].apply(lambda x: str(x).lower())"
      ],
      "execution_count": 43,
      "outputs": []
    },
    {
      "cell_type": "code",
      "metadata": {
        "colab": {
          "base_uri": "https://localhost:8080/",
          "height": 195
        },
        "id": "mf6JghtT9dEA",
        "outputId": "460417af-fcc0-4389-a96c-7e671344be8a"
      },
      "source": [
        "df.sample(5)"
      ],
      "execution_count": 44,
      "outputs": [
        {
          "output_type": "execute_result",
          "data": {
            "text/html": [
              "<div>\n",
              "<style scoped>\n",
              "    .dataframe tbody tr th:only-of-type {\n",
              "        vertical-align: middle;\n",
              "    }\n",
              "\n",
              "    .dataframe tbody tr th {\n",
              "        vertical-align: top;\n",
              "    }\n",
              "\n",
              "    .dataframe thead th {\n",
              "        text-align: right;\n",
              "    }\n",
              "</style>\n",
              "<table border=\"1\" class=\"dataframe\">\n",
              "  <thead>\n",
              "    <tr style=\"text-align: right;\">\n",
              "      <th></th>\n",
              "      <th>twitts</th>\n",
              "      <th>sentiment</th>\n",
              "      <th>word_counts</th>\n",
              "      <th>char_count</th>\n",
              "      <th>avg_word_length</th>\n",
              "      <th>stop_word_len</th>\n",
              "      <th>hashtags</th>\n",
              "      <th>mentions</th>\n",
              "      <th>numeric_count</th>\n",
              "      <th>upper_counts</th>\n",
              "    </tr>\n",
              "  </thead>\n",
              "  <tbody>\n",
              "    <tr>\n",
              "      <th>3990</th>\n",
              "      <td>@littlefletcher sounds great!!!! i hope you lo...</td>\n",
              "      <td>1</td>\n",
              "      <td>10</td>\n",
              "      <td>57</td>\n",
              "      <td>5.700000</td>\n",
              "      <td>2</td>\n",
              "      <td>0</td>\n",
              "      <td>1</td>\n",
              "      <td>0</td>\n",
              "      <td>1</td>\n",
              "    </tr>\n",
              "    <tr>\n",
              "      <th>148</th>\n",
              "      <td>@jmarie7481 hahahahaha... i know you're not. s...</td>\n",
              "      <td>0</td>\n",
              "      <td>24</td>\n",
              "      <td>100</td>\n",
              "      <td>4.166667</td>\n",
              "      <td>5</td>\n",
              "      <td>0</td>\n",
              "      <td>1</td>\n",
              "      <td>0</td>\n",
              "      <td>4</td>\n",
              "    </tr>\n",
              "    <tr>\n",
              "      <th>3559</th>\n",
              "      <td>why is twilight winning things? it was so shit...</td>\n",
              "      <td>1</td>\n",
              "      <td>15</td>\n",
              "      <td>79</td>\n",
              "      <td>5.266667</td>\n",
              "      <td>5</td>\n",
              "      <td>0</td>\n",
              "      <td>1</td>\n",
              "      <td>0</td>\n",
              "      <td>0</td>\n",
              "    </tr>\n",
              "    <tr>\n",
              "      <th>2883</th>\n",
              "      <td>loving all the robert pattinson-ness at the vm...</td>\n",
              "      <td>1</td>\n",
              "      <td>12</td>\n",
              "      <td>61</td>\n",
              "      <td>5.083333</td>\n",
              "      <td>5</td>\n",
              "      <td>0</td>\n",
              "      <td>0</td>\n",
              "      <td>0</td>\n",
              "      <td>0</td>\n",
              "    </tr>\n",
              "    <tr>\n",
              "      <th>2750</th>\n",
              "      <td>@madonnaboy80 go to bed then, silly.</td>\n",
              "      <td>1</td>\n",
              "      <td>6</td>\n",
              "      <td>31</td>\n",
              "      <td>5.166667</td>\n",
              "      <td>2</td>\n",
              "      <td>0</td>\n",
              "      <td>1</td>\n",
              "      <td>0</td>\n",
              "      <td>0</td>\n",
              "    </tr>\n",
              "  </tbody>\n",
              "</table>\n",
              "</div>"
            ],
            "text/plain": [
              "                                                 twitts  sentiment  word_counts  char_count  avg_word_length  stop_word_len  hashtags  mentions  numeric_count  upper_counts\n",
              "3990  @littlefletcher sounds great!!!! i hope you lo...          1           10          57         5.700000              2         0         1              0             1\n",
              "148   @jmarie7481 hahahahaha... i know you're not. s...          0           24         100         4.166667              5         0         1              0             4\n",
              "3559  why is twilight winning things? it was so shit...          1           15          79         5.266667              5         0         1              0             0\n",
              "2883  loving all the robert pattinson-ness at the vm...          1           12          61         5.083333              5         0         0              0             0\n",
              "2750              @madonnaboy80 go to bed then, silly.           1            6          31         5.166667              2         0         1              0             0"
            ]
          },
          "metadata": {
            "tags": []
          },
          "execution_count": 44
        }
      ]
    },
    {
      "cell_type": "markdown",
      "metadata": {
        "id": "GqwlYUa0_OZD"
      },
      "source": [
        "# Contraction and Expansion"
      ]
    },
    {
      "cell_type": "code",
      "metadata": {
        "id": "iBUc5kxu9erP"
      },
      "source": [
        "contractions = { \n",
        "\"ain't\": \"am not\",\n",
        "\"aren't\": \"are not\",\n",
        "\"can't\": \"cannot\",\n",
        "\"can't've\": \"cannot have\",\n",
        "\"'cause\": \"because\",\n",
        "\"could've\": \"could have\",\n",
        "\"couldn't\": \"could not\",\n",
        "\"couldn't've\": \"could not have\",\n",
        "\"didn't\": \"did not\",\n",
        "\"doesn't\": \"does not\",\n",
        "\"don't\": \"do not\",\n",
        "\"hadn't\": \"had not\",\n",
        "\"hadn't've\": \"had not have\",\n",
        "\"hasn't\": \"has not\",\n",
        "\"haven't\": \"have not\",\n",
        "\"he'd\": \"he would\",\n",
        "\"he'd've\": \"he would have\",\n",
        "\"he'll\": \"he will\",\n",
        "\"he'll've\": \"he will have\",\n",
        "\"he's\": \"he is\",\n",
        "\"how'd\": \"how did\",\n",
        "\"how'd'y\": \"how do you\",\n",
        "\"how'll\": \"how will\",\n",
        "\"how's\": \"how does\",\n",
        "\"i'd\": \"i would\",\n",
        "\"i'd've\": \"i would have\",\n",
        "\"i'll\": \"i will\",\n",
        "\"i'll've\": \"i will have\",\n",
        "\"i'm\": \"i am\",\n",
        "\"i've\": \"i have\",\n",
        "\"isn't\": \"is not\",\n",
        "\"it'd\": \"it would\",\n",
        "\"it'd've\": \"it would have\",\n",
        "\"it'll\": \"it will\",\n",
        "\"it'll've\": \"it will have\",\n",
        "\"it's\": \"it is\",\n",
        "\"let's\": \"let us\",\n",
        "\"ma'am\": \"madam\",\n",
        "\"mayn't\": \"may not\",\n",
        "\"might've\": \"might have\",\n",
        "\"mightn't\": \"might not\",\n",
        "\"mightn't've\": \"might not have\",\n",
        "\"must've\": \"must have\",\n",
        "\"mustn't\": \"must not\",\n",
        "\"mustn't've\": \"must not have\",\n",
        "\"needn't\": \"need not\",\n",
        "\"needn't've\": \"need not have\",\n",
        "\"o'clock\": \"of the clock\",\n",
        "\"oughtn't\": \"ought not\",\n",
        "\"oughtn't've\": \"ought not have\",\n",
        "\"shan't\": \"shall not\",\n",
        "\"sha'n't\": \"shall not\",\n",
        "\"shan't've\": \"shall not have\",\n",
        "\"she'd\": \"she would\",\n",
        "\"she'd've\": \"she would have\",\n",
        "\"she'll\": \"she will\",\n",
        "\"she'll've\": \"she will have\",\n",
        "\"she's\": \"she is\",\n",
        "\"should've\": \"should have\",\n",
        "\"shouldn't\": \"should not\",\n",
        "\"shouldn't've\": \"should not have\",\n",
        "\"so've\": \"so have\",\n",
        "\"so's\": \"so is\",\n",
        "\"that'd\": \"that would\",\n",
        "\"that'd've\": \"that would have\",\n",
        "\"that's\": \"that is\",\n",
        "\"there'd\": \"there would\",\n",
        "\"there'd've\": \"there would have\",\n",
        "\"there's\": \"there is\",\n",
        "\"they'd\": \"they would\",\n",
        "\"they'd've\": \"they would have\",\n",
        "\"they'll\": \"they will\",\n",
        "\"they'll've\": \"they will have\",\n",
        "\"they're\": \"they are\",\n",
        "\"they've\": \"they have\",\n",
        "\"to've\": \"to have\",\n",
        "\"wasn't\": \"was not\",\n",
        "\" u \": \" you \",\n",
        "\" ur \": \" your \",\n",
        "\" n \": \" and \",\n",
        "\"won't\": \"would not\",\n",
        "'dis': 'this',\n",
        "'bak': 'back',\n",
        "'brng': 'bring'}"
      ],
      "execution_count": 45,
      "outputs": []
    },
    {
      "cell_type": "code",
      "metadata": {
        "id": "DN-rwzZZ_m1f"
      },
      "source": [
        "x = \"i'm don't he'll\" # \"i am do not he will\""
      ],
      "execution_count": 46,
      "outputs": []
    },
    {
      "cell_type": "code",
      "metadata": {
        "id": "XxdvyKYl_uxc"
      },
      "source": [
        "def cont_to_exp(x):\n",
        "    if type(x) is str:\n",
        "        for key in contractions:\n",
        "            value = contractions[key]\n",
        "            x = x.replace(key, value)\n",
        "        return x\n",
        "    else:\n",
        "        return x\n",
        "    "
      ],
      "execution_count": 47,
      "outputs": []
    },
    {
      "cell_type": "code",
      "metadata": {
        "colab": {
          "base_uri": "https://localhost:8080/",
          "height": 35
        },
        "id": "jpXIwc6PAKCB",
        "outputId": "1b676693-d5ee-4ddc-ac4a-88bfbf0e6c5d"
      },
      "source": [
        "cont_to_exp(x)"
      ],
      "execution_count": 48,
      "outputs": [
        {
          "output_type": "execute_result",
          "data": {
            "application/vnd.google.colaboratory.intrinsic+json": {
              "type": "string"
            },
            "text/plain": [
              "'i am do not he will'"
            ]
          },
          "metadata": {
            "tags": []
          },
          "execution_count": 48
        }
      ]
    },
    {
      "cell_type": "code",
      "metadata": {
        "colab": {
          "base_uri": "https://localhost:8080/"
        },
        "id": "YG96QEM4ALDc",
        "outputId": "c77a8567-4804-40a7-f563-d974442034e0"
      },
      "source": [
        "%%timeit\n",
        "df['twitts'] = df['twitts'].apply(lambda x: cont_to_exp(x))"
      ],
      "execution_count": 49,
      "outputs": [
        {
          "output_type": "stream",
          "text": [
            "10 loops, best of 5: 84.4 ms per loop\n"
          ],
          "name": "stdout"
        }
      ]
    },
    {
      "cell_type": "code",
      "metadata": {
        "colab": {
          "base_uri": "https://localhost:8080/",
          "height": 195
        },
        "id": "DqmcUVTrCVN2",
        "outputId": "6a1e01a8-7843-42c9-df1c-3e04041dc03e"
      },
      "source": [
        "df.sample(5)"
      ],
      "execution_count": 50,
      "outputs": [
        {
          "output_type": "execute_result",
          "data": {
            "text/html": [
              "<div>\n",
              "<style scoped>\n",
              "    .dataframe tbody tr th:only-of-type {\n",
              "        vertical-align: middle;\n",
              "    }\n",
              "\n",
              "    .dataframe tbody tr th {\n",
              "        vertical-align: top;\n",
              "    }\n",
              "\n",
              "    .dataframe thead th {\n",
              "        text-align: right;\n",
              "    }\n",
              "</style>\n",
              "<table border=\"1\" class=\"dataframe\">\n",
              "  <thead>\n",
              "    <tr style=\"text-align: right;\">\n",
              "      <th></th>\n",
              "      <th>twitts</th>\n",
              "      <th>sentiment</th>\n",
              "      <th>word_counts</th>\n",
              "      <th>char_count</th>\n",
              "      <th>avg_word_length</th>\n",
              "      <th>stop_word_len</th>\n",
              "      <th>hashtags</th>\n",
              "      <th>mentions</th>\n",
              "      <th>numeric_count</th>\n",
              "      <th>upper_counts</th>\n",
              "    </tr>\n",
              "  </thead>\n",
              "  <tbody>\n",
              "    <tr>\n",
              "      <th>257</th>\n",
              "      <td>it should really be family bbq.</td>\n",
              "      <td>0</td>\n",
              "      <td>6</td>\n",
              "      <td>26</td>\n",
              "      <td>4.333333</td>\n",
              "      <td>3</td>\n",
              "      <td>0</td>\n",
              "      <td>0</td>\n",
              "      <td>0</td>\n",
              "      <td>1</td>\n",
              "    </tr>\n",
              "    <tr>\n",
              "      <th>1178</th>\n",
              "      <td>up, my eyes hurt</td>\n",
              "      <td>0</td>\n",
              "      <td>4</td>\n",
              "      <td>13</td>\n",
              "      <td>3.250000</td>\n",
              "      <td>1</td>\n",
              "      <td>0</td>\n",
              "      <td>0</td>\n",
              "      <td>0</td>\n",
              "      <td>1</td>\n",
              "    </tr>\n",
              "    <tr>\n",
              "      <th>803</th>\n",
              "      <td>finishing up this darn lab hw.</td>\n",
              "      <td>0</td>\n",
              "      <td>6</td>\n",
              "      <td>25</td>\n",
              "      <td>4.166667</td>\n",
              "      <td>2</td>\n",
              "      <td>0</td>\n",
              "      <td>0</td>\n",
              "      <td>0</td>\n",
              "      <td>0</td>\n",
              "    </tr>\n",
              "    <tr>\n",
              "      <th>3220</th>\n",
              "      <td>is being eco-friendly</td>\n",
              "      <td>1</td>\n",
              "      <td>3</td>\n",
              "      <td>19</td>\n",
              "      <td>6.333333</td>\n",
              "      <td>2</td>\n",
              "      <td>0</td>\n",
              "      <td>0</td>\n",
              "      <td>0</td>\n",
              "      <td>0</td>\n",
              "    </tr>\n",
              "    <tr>\n",
              "      <th>3519</th>\n",
              "      <td>@court0605 no just a response!</td>\n",
              "      <td>1</td>\n",
              "      <td>5</td>\n",
              "      <td>26</td>\n",
              "      <td>5.200000</td>\n",
              "      <td>3</td>\n",
              "      <td>0</td>\n",
              "      <td>1</td>\n",
              "      <td>0</td>\n",
              "      <td>0</td>\n",
              "    </tr>\n",
              "  </tbody>\n",
              "</table>\n",
              "</div>"
            ],
            "text/plain": [
              "                                twitts  sentiment  word_counts  char_count  avg_word_length  stop_word_len  hashtags  mentions  numeric_count  upper_counts\n",
              "257   it should really be family bbq.           0            6          26         4.333333              3         0         0              0             1\n",
              "1178                 up, my eyes hurt           0            4          13         3.250000              1         0         0              0             1\n",
              "803    finishing up this darn lab hw.           0            6          25         4.166667              2         0         0              0             0\n",
              "3220            is being eco-friendly           1            3          19         6.333333              2         0         0              0             0\n",
              "3519  @court0605 no just a response!            1            5          26         5.200000              3         0         1              0             0"
            ]
          },
          "metadata": {
            "tags": []
          },
          "execution_count": 50
        }
      ]
    },
    {
      "cell_type": "markdown",
      "metadata": {
        "id": "TaVbrPjsCa-g"
      },
      "source": [
        "# Count and Remove Emails"
      ]
    },
    {
      "cell_type": "code",
      "metadata": {
        "id": "0VD8pI4FCaMf"
      },
      "source": [
        "import re"
      ],
      "execution_count": 51,
      "outputs": []
    },
    {
      "cell_type": "code",
      "metadata": {
        "colab": {
          "base_uri": "https://localhost:8080/",
          "height": 77
        },
        "id": "m_-s4wB4CXYZ",
        "outputId": "b51338ef-b921-429c-d70c-2dc02aad2fa7"
      },
      "source": [
        "df[df['twitts'].str.contains('hotmail.com')]"
      ],
      "execution_count": 52,
      "outputs": [
        {
          "output_type": "execute_result",
          "data": {
            "text/html": [
              "<div>\n",
              "<style scoped>\n",
              "    .dataframe tbody tr th:only-of-type {\n",
              "        vertical-align: middle;\n",
              "    }\n",
              "\n",
              "    .dataframe tbody tr th {\n",
              "        vertical-align: top;\n",
              "    }\n",
              "\n",
              "    .dataframe thead th {\n",
              "        text-align: right;\n",
              "    }\n",
              "</style>\n",
              "<table border=\"1\" class=\"dataframe\">\n",
              "  <thead>\n",
              "    <tr style=\"text-align: right;\">\n",
              "      <th></th>\n",
              "      <th>twitts</th>\n",
              "      <th>sentiment</th>\n",
              "      <th>word_counts</th>\n",
              "      <th>char_count</th>\n",
              "      <th>avg_word_length</th>\n",
              "      <th>stop_word_len</th>\n",
              "      <th>hashtags</th>\n",
              "      <th>mentions</th>\n",
              "      <th>numeric_count</th>\n",
              "      <th>upper_counts</th>\n",
              "    </tr>\n",
              "  </thead>\n",
              "  <tbody>\n",
              "    <tr>\n",
              "      <th>3713</th>\n",
              "      <td>@securerecs arghh me please  markbradbury_16@h...</td>\n",
              "      <td>1</td>\n",
              "      <td>5</td>\n",
              "      <td>51</td>\n",
              "      <td>10.2</td>\n",
              "      <td>0</td>\n",
              "      <td>0</td>\n",
              "      <td>1</td>\n",
              "      <td>0</td>\n",
              "      <td>0</td>\n",
              "    </tr>\n",
              "  </tbody>\n",
              "</table>\n",
              "</div>"
            ],
            "text/plain": [
              "                                                 twitts  sentiment  word_counts  char_count  avg_word_length  stop_word_len  hashtags  mentions  numeric_count  upper_counts\n",
              "3713  @securerecs arghh me please  markbradbury_16@h...          1            5          51             10.2              0         0         1              0             0"
            ]
          },
          "metadata": {
            "tags": []
          },
          "execution_count": 52
        }
      ]
    },
    {
      "cell_type": "code",
      "metadata": {
        "colab": {
          "base_uri": "https://localhost:8080/",
          "height": 35
        },
        "id": "-AC6hP4XCho9",
        "outputId": "ce2066c9-827a-4f8b-966a-ba276ae08565"
      },
      "source": [
        "df.iloc[3713]['twitts']"
      ],
      "execution_count": 53,
      "outputs": [
        {
          "output_type": "execute_result",
          "data": {
            "application/vnd.google.colaboratory.intrinsic+json": {
              "type": "string"
            },
            "text/plain": [
              "'@securerecs arghh me please  markbradbury_16@hotmail.com'"
            ]
          },
          "metadata": {
            "tags": []
          },
          "execution_count": 53
        }
      ]
    },
    {
      "cell_type": "code",
      "metadata": {
        "id": "4Pef1WjjCjrS"
      },
      "source": [
        "x = '@securerecs arghh me please  markbradbury_16@hotmail.com'"
      ],
      "execution_count": 54,
      "outputs": []
    },
    {
      "cell_type": "code",
      "metadata": {
        "colab": {
          "base_uri": "https://localhost:8080/"
        },
        "id": "9SmiOPCpCl4l",
        "outputId": "8a4bef69-23b0-4c02-daa9-7262ddc22970"
      },
      "source": [
        "re.findall(r'([a-z0-9+._-]+@[a-z0-9+._-]+\\.[a-z0-9+_-]+)', x)"
      ],
      "execution_count": 55,
      "outputs": [
        {
          "output_type": "execute_result",
          "data": {
            "text/plain": [
              "['markbradbury_16@hotmail.com']"
            ]
          },
          "metadata": {
            "tags": []
          },
          "execution_count": 55
        }
      ]
    },
    {
      "cell_type": "code",
      "metadata": {
        "id": "kZZPwpTHCnxM"
      },
      "source": [
        "df['emails'] = df['twitts'].apply(lambda x: re.findall(r'([a-z0-9+._-]+@[a-z0-9+._-]+\\.[a-z0-9+_-]+\\b)', x))"
      ],
      "execution_count": 56,
      "outputs": []
    },
    {
      "cell_type": "code",
      "metadata": {
        "id": "hFfUTw7cD7eP"
      },
      "source": [
        "df['emails_count'] = df['emails'].apply(lambda x: len(x))"
      ],
      "execution_count": 57,
      "outputs": []
    },
    {
      "cell_type": "code",
      "metadata": {
        "colab": {
          "base_uri": "https://localhost:8080/",
          "height": 130
        },
        "id": "dgxHQNqlD9eK",
        "outputId": "d6d6d3f1-7722-4875-f099-1f66f7abbb5d"
      },
      "source": [
        "df[df['emails_count']>0]"
      ],
      "execution_count": 58,
      "outputs": [
        {
          "output_type": "execute_result",
          "data": {
            "text/html": [
              "<div>\n",
              "<style scoped>\n",
              "    .dataframe tbody tr th:only-of-type {\n",
              "        vertical-align: middle;\n",
              "    }\n",
              "\n",
              "    .dataframe tbody tr th {\n",
              "        vertical-align: top;\n",
              "    }\n",
              "\n",
              "    .dataframe thead th {\n",
              "        text-align: right;\n",
              "    }\n",
              "</style>\n",
              "<table border=\"1\" class=\"dataframe\">\n",
              "  <thead>\n",
              "    <tr style=\"text-align: right;\">\n",
              "      <th></th>\n",
              "      <th>twitts</th>\n",
              "      <th>sentiment</th>\n",
              "      <th>word_counts</th>\n",
              "      <th>char_count</th>\n",
              "      <th>avg_word_length</th>\n",
              "      <th>stop_word_len</th>\n",
              "      <th>hashtags</th>\n",
              "      <th>mentions</th>\n",
              "      <th>numeric_count</th>\n",
              "      <th>upper_counts</th>\n",
              "      <th>emails</th>\n",
              "      <th>emails_count</th>\n",
              "    </tr>\n",
              "  </thead>\n",
              "  <tbody>\n",
              "    <tr>\n",
              "      <th>3713</th>\n",
              "      <td>@securerecs arghh me please  markbradbury_16@h...</td>\n",
              "      <td>1</td>\n",
              "      <td>5</td>\n",
              "      <td>51</td>\n",
              "      <td>10.2</td>\n",
              "      <td>0</td>\n",
              "      <td>0</td>\n",
              "      <td>1</td>\n",
              "      <td>0</td>\n",
              "      <td>0</td>\n",
              "      <td>[markbradbury_16@hotmail.com]</td>\n",
              "      <td>1</td>\n",
              "    </tr>\n",
              "  </tbody>\n",
              "</table>\n",
              "</div>"
            ],
            "text/plain": [
              "                                                 twitts  sentiment  word_counts  char_count  avg_word_length  stop_word_len  hashtags  mentions  numeric_count  upper_counts                         emails  emails_count\n",
              "3713  @securerecs arghh me please  markbradbury_16@h...          1            5          51             10.2              0         0         1              0             0  [markbradbury_16@hotmail.com]             1"
            ]
          },
          "metadata": {
            "tags": []
          },
          "execution_count": 58
        }
      ]
    },
    {
      "cell_type": "code",
      "metadata": {
        "colab": {
          "base_uri": "https://localhost:8080/",
          "height": 35
        },
        "id": "BLPnXX1ED_XF",
        "outputId": "7c43c8c8-ab7d-41ca-cc85-6e133ecadfd6"
      },
      "source": [
        "re.sub(r'([a-z0-9+._-]+@[a-z0-9+._-]+\\.[a-z0-9+_-]+)',\"\", x)"
      ],
      "execution_count": 59,
      "outputs": [
        {
          "output_type": "execute_result",
          "data": {
            "application/vnd.google.colaboratory.intrinsic+json": {
              "type": "string"
            },
            "text/plain": [
              "'@securerecs arghh me please  '"
            ]
          },
          "metadata": {
            "tags": []
          },
          "execution_count": 59
        }
      ]
    },
    {
      "cell_type": "code",
      "metadata": {
        "id": "s9I7UyRGEBzJ"
      },
      "source": [
        "df['twitts'] = df['twitts'].apply(lambda x: re.sub(r'([a-z0-9+._-]+@[a-z0-9+._-]+\\.[a-z0-9+_-]+)',\"\", x))"
      ],
      "execution_count": 60,
      "outputs": []
    },
    {
      "cell_type": "code",
      "metadata": {
        "colab": {
          "base_uri": "https://localhost:8080/",
          "height": 94
        },
        "id": "ZndrzKapEDUr",
        "outputId": "e8538d16-e513-4667-dad8-3e09f5147942"
      },
      "source": [
        "df[df['emails_count']>0]"
      ],
      "execution_count": 61,
      "outputs": [
        {
          "output_type": "execute_result",
          "data": {
            "text/html": [
              "<div>\n",
              "<style scoped>\n",
              "    .dataframe tbody tr th:only-of-type {\n",
              "        vertical-align: middle;\n",
              "    }\n",
              "\n",
              "    .dataframe tbody tr th {\n",
              "        vertical-align: top;\n",
              "    }\n",
              "\n",
              "    .dataframe thead th {\n",
              "        text-align: right;\n",
              "    }\n",
              "</style>\n",
              "<table border=\"1\" class=\"dataframe\">\n",
              "  <thead>\n",
              "    <tr style=\"text-align: right;\">\n",
              "      <th></th>\n",
              "      <th>twitts</th>\n",
              "      <th>sentiment</th>\n",
              "      <th>word_counts</th>\n",
              "      <th>char_count</th>\n",
              "      <th>avg_word_length</th>\n",
              "      <th>stop_word_len</th>\n",
              "      <th>hashtags</th>\n",
              "      <th>mentions</th>\n",
              "      <th>numeric_count</th>\n",
              "      <th>upper_counts</th>\n",
              "      <th>emails</th>\n",
              "      <th>emails_count</th>\n",
              "    </tr>\n",
              "  </thead>\n",
              "  <tbody>\n",
              "    <tr>\n",
              "      <th>3713</th>\n",
              "      <td>@securerecs arghh me please</td>\n",
              "      <td>1</td>\n",
              "      <td>5</td>\n",
              "      <td>51</td>\n",
              "      <td>10.2</td>\n",
              "      <td>0</td>\n",
              "      <td>0</td>\n",
              "      <td>1</td>\n",
              "      <td>0</td>\n",
              "      <td>0</td>\n",
              "      <td>[markbradbury_16@hotmail.com]</td>\n",
              "      <td>1</td>\n",
              "    </tr>\n",
              "  </tbody>\n",
              "</table>\n",
              "</div>"
            ],
            "text/plain": [
              "                             twitts  sentiment  word_counts  char_count  avg_word_length  stop_word_len  hashtags  mentions  numeric_count  upper_counts                         emails  emails_count\n",
              "3713  @securerecs arghh me please            1            5          51             10.2              0         0         1              0             0  [markbradbury_16@hotmail.com]             1"
            ]
          },
          "metadata": {
            "tags": []
          },
          "execution_count": 61
        }
      ]
    },
    {
      "cell_type": "markdown",
      "metadata": {
        "id": "_bE4Z-lzEI5O"
      },
      "source": [
        "## Count URLs and Remove it "
      ]
    },
    {
      "cell_type": "code",
      "metadata": {
        "id": "wkNRrS3_EE1v"
      },
      "source": [
        "x = 'hi, thanks to watching it. for more visit https://youtube.com/kgptalkie'"
      ],
      "execution_count": 62,
      "outputs": []
    },
    {
      "cell_type": "code",
      "metadata": {
        "colab": {
          "base_uri": "https://localhost:8080/"
        },
        "id": "u4l3WPnYEKwz",
        "outputId": "6f3d8bac-9cbe-47db-b75c-06ed8a95d5a8"
      },
      "source": [
        "re.findall(r'(http|https|ftp|ssh)://([\\w_-]+(?:(?:\\.[\\w_-]+)+))([\\w.,@?^=%&:/~+#-]*[\\w@?^=%&/~+#-])?', x)"
      ],
      "execution_count": 63,
      "outputs": [
        {
          "output_type": "execute_result",
          "data": {
            "text/plain": [
              "[('https', 'youtube.com', '/kgptalkie')]"
            ]
          },
          "metadata": {
            "tags": []
          },
          "execution_count": 63
        }
      ]
    },
    {
      "cell_type": "code",
      "metadata": {
        "id": "ufuwZIDDEM77"
      },
      "source": [
        "df['url_flags'] = df['twitts'].apply(lambda x: len(re.findall(r'(http|https|ftp|ssh)://([\\w_-]+(?:(?:\\.[\\w_-]+)+))([\\w.,@?^=%&:/~+#-]*[\\w@?^=%&/~+#-])?', x)))"
      ],
      "execution_count": 64,
      "outputs": []
    },
    {
      "cell_type": "code",
      "metadata": {
        "colab": {
          "base_uri": "https://localhost:8080/",
          "height": 279
        },
        "id": "rxGt7joEEStH",
        "outputId": "1d01c287-916e-4ca3-aa44-dff8f6412e22"
      },
      "source": [
        "df[df['url_flags']>0].sample(5)"
      ],
      "execution_count": 65,
      "outputs": [
        {
          "output_type": "execute_result",
          "data": {
            "text/html": [
              "<div>\n",
              "<style scoped>\n",
              "    .dataframe tbody tr th:only-of-type {\n",
              "        vertical-align: middle;\n",
              "    }\n",
              "\n",
              "    .dataframe tbody tr th {\n",
              "        vertical-align: top;\n",
              "    }\n",
              "\n",
              "    .dataframe thead th {\n",
              "        text-align: right;\n",
              "    }\n",
              "</style>\n",
              "<table border=\"1\" class=\"dataframe\">\n",
              "  <thead>\n",
              "    <tr style=\"text-align: right;\">\n",
              "      <th></th>\n",
              "      <th>twitts</th>\n",
              "      <th>sentiment</th>\n",
              "      <th>word_counts</th>\n",
              "      <th>char_count</th>\n",
              "      <th>avg_word_length</th>\n",
              "      <th>stop_word_len</th>\n",
              "      <th>hashtags</th>\n",
              "      <th>mentions</th>\n",
              "      <th>numeric_count</th>\n",
              "      <th>upper_counts</th>\n",
              "      <th>emails</th>\n",
              "      <th>emails_count</th>\n",
              "      <th>url_flags</th>\n",
              "    </tr>\n",
              "  </thead>\n",
              "  <tbody>\n",
              "    <tr>\n",
              "      <th>3693</th>\n",
              "      <td>&amp;quot;melvin van peebles ã¢ââ save the water...</td>\n",
              "      <td>1</td>\n",
              "      <td>12</td>\n",
              "      <td>102</td>\n",
              "      <td>8.500000</td>\n",
              "      <td>0</td>\n",
              "      <td>0</td>\n",
              "      <td>0</td>\n",
              "      <td>0</td>\n",
              "      <td>2</td>\n",
              "      <td>[]</td>\n",
              "      <td>0</td>\n",
              "      <td>1</td>\n",
              "    </tr>\n",
              "    <tr>\n",
              "      <th>2902</th>\n",
              "      <td>http://twitpic.com/7j5a6 - olthish picture of me</td>\n",
              "      <td>1</td>\n",
              "      <td>6</td>\n",
              "      <td>42</td>\n",
              "      <td>7.000000</td>\n",
              "      <td>2</td>\n",
              "      <td>0</td>\n",
              "      <td>0</td>\n",
              "      <td>0</td>\n",
              "      <td>0</td>\n",
              "      <td>[]</td>\n",
              "      <td>0</td>\n",
              "      <td>1</td>\n",
              "    </tr>\n",
              "    <tr>\n",
              "      <th>3434</th>\n",
              "      <td>the hottest game of the year!! free online wor...</td>\n",
              "      <td>1</td>\n",
              "      <td>23</td>\n",
              "      <td>115</td>\n",
              "      <td>5.000000</td>\n",
              "      <td>10</td>\n",
              "      <td>0</td>\n",
              "      <td>0</td>\n",
              "      <td>0</td>\n",
              "      <td>1</td>\n",
              "      <td>[]</td>\n",
              "      <td>0</td>\n",
              "      <td>1</td>\n",
              "    </tr>\n",
              "    <tr>\n",
              "      <th>1510</th>\n",
              "      <td>michelle, why are you wearing that headband? d...</td>\n",
              "      <td>0</td>\n",
              "      <td>11</td>\n",
              "      <td>83</td>\n",
              "      <td>7.545455</td>\n",
              "      <td>4</td>\n",
              "      <td>0</td>\n",
              "      <td>0</td>\n",
              "      <td>0</td>\n",
              "      <td>3</td>\n",
              "      <td>[]</td>\n",
              "      <td>0</td>\n",
              "      <td>1</td>\n",
              "    </tr>\n",
              "    <tr>\n",
              "      <th>1441</th>\n",
              "      <td>the pool killed my contest winning buzz.  i am...</td>\n",
              "      <td>0</td>\n",
              "      <td>20</td>\n",
              "      <td>109</td>\n",
              "      <td>5.450000</td>\n",
              "      <td>4</td>\n",
              "      <td>0</td>\n",
              "      <td>0</td>\n",
              "      <td>0</td>\n",
              "      <td>0</td>\n",
              "      <td>[]</td>\n",
              "      <td>0</td>\n",
              "      <td>1</td>\n",
              "    </tr>\n",
              "  </tbody>\n",
              "</table>\n",
              "</div>"
            ],
            "text/plain": [
              "                                                 twitts  sentiment  word_counts  char_count  avg_word_length  stop_word_len  hashtags  mentions  numeric_count  upper_counts emails  emails_count  url_flags\n",
              "3693  &quot;melvin van peebles ã¢ââ save the water...          1           12         102         8.500000              0         0         0              0             2     []             0          1\n",
              "2902  http://twitpic.com/7j5a6 - olthish picture of me           1            6          42         7.000000              2         0         0              0             0     []             0          1\n",
              "3434  the hottest game of the year!! free online wor...          1           23         115         5.000000             10         0         0              0             1     []             0          1\n",
              "1510  michelle, why are you wearing that headband? d...          0           11          83         7.545455              4         0         0              0             3     []             0          1\n",
              "1441  the pool killed my contest winning buzz.  i am...          0           20         109         5.450000              4         0         0              0             0     []             0          1"
            ]
          },
          "metadata": {
            "tags": []
          },
          "execution_count": 65
        }
      ]
    },
    {
      "cell_type": "code",
      "metadata": {
        "colab": {
          "base_uri": "https://localhost:8080/",
          "height": 35
        },
        "id": "XRqOxeBWEUS8",
        "outputId": "15a147e8-cdf6-457a-ff47-cea6a8e07415"
      },
      "source": [
        "x"
      ],
      "execution_count": 66,
      "outputs": [
        {
          "output_type": "execute_result",
          "data": {
            "application/vnd.google.colaboratory.intrinsic+json": {
              "type": "string"
            },
            "text/plain": [
              "'hi, thanks to watching it. for more visit https://youtube.com/kgptalkie'"
            ]
          },
          "metadata": {
            "tags": []
          },
          "execution_count": 66
        }
      ]
    },
    {
      "cell_type": "code",
      "metadata": {
        "colab": {
          "base_uri": "https://localhost:8080/",
          "height": 35
        },
        "id": "HDKmVrrvEW11",
        "outputId": "523d8201-fc76-4f1a-bebf-f0820bfcb186"
      },
      "source": [
        "re.sub(r'(http|https|ftp|ssh)://([\\w_-]+(?:(?:\\.[\\w_-]+)+))([\\w.,@?^=%&:/~+#-]*[\\w@?^=%&/~+#-])?', '' , x)"
      ],
      "execution_count": 67,
      "outputs": [
        {
          "output_type": "execute_result",
          "data": {
            "application/vnd.google.colaboratory.intrinsic+json": {
              "type": "string"
            },
            "text/plain": [
              "'hi, thanks to watching it. for more visit '"
            ]
          },
          "metadata": {
            "tags": []
          },
          "execution_count": 67
        }
      ]
    },
    {
      "cell_type": "code",
      "metadata": {
        "id": "lbfobnYEEYeu"
      },
      "source": [
        "df['twitts'] = df['twitts'].apply(lambda x: re.sub(r'(http|https|ftp|ssh)://([\\w_-]+(?:(?:\\.[\\w_-]+)+))([\\w.,@?^=%&:/~+#-]*[\\w@?^=%&/~+#-])?', '' , x))"
      ],
      "execution_count": 68,
      "outputs": []
    },
    {
      "cell_type": "code",
      "metadata": {
        "colab": {
          "base_uri": "https://localhost:8080/",
          "height": 279
        },
        "id": "wU5Y5YfuEadU",
        "outputId": "e5344475-7c3f-455c-8eb8-7f38fa6e53fc"
      },
      "source": [
        "df.sample(5)"
      ],
      "execution_count": 69,
      "outputs": [
        {
          "output_type": "execute_result",
          "data": {
            "text/html": [
              "<div>\n",
              "<style scoped>\n",
              "    .dataframe tbody tr th:only-of-type {\n",
              "        vertical-align: middle;\n",
              "    }\n",
              "\n",
              "    .dataframe tbody tr th {\n",
              "        vertical-align: top;\n",
              "    }\n",
              "\n",
              "    .dataframe thead th {\n",
              "        text-align: right;\n",
              "    }\n",
              "</style>\n",
              "<table border=\"1\" class=\"dataframe\">\n",
              "  <thead>\n",
              "    <tr style=\"text-align: right;\">\n",
              "      <th></th>\n",
              "      <th>twitts</th>\n",
              "      <th>sentiment</th>\n",
              "      <th>word_counts</th>\n",
              "      <th>char_count</th>\n",
              "      <th>avg_word_length</th>\n",
              "      <th>stop_word_len</th>\n",
              "      <th>hashtags</th>\n",
              "      <th>mentions</th>\n",
              "      <th>numeric_count</th>\n",
              "      <th>upper_counts</th>\n",
              "      <th>emails</th>\n",
              "      <th>emails_count</th>\n",
              "      <th>url_flags</th>\n",
              "    </tr>\n",
              "  </thead>\n",
              "  <tbody>\n",
              "    <tr>\n",
              "      <th>2001</th>\n",
              "      <td>@seriouz973 heyy! yuuu welcummm</td>\n",
              "      <td>1</td>\n",
              "      <td>4</td>\n",
              "      <td>28</td>\n",
              "      <td>7.000000</td>\n",
              "      <td>0</td>\n",
              "      <td>0</td>\n",
              "      <td>1</td>\n",
              "      <td>0</td>\n",
              "      <td>0</td>\n",
              "      <td>[]</td>\n",
              "      <td>0</td>\n",
              "      <td>0</td>\n",
              "    </tr>\n",
              "    <tr>\n",
              "      <th>992</th>\n",
              "      <td>@theexplodingboi white wine reminds me of vine...</td>\n",
              "      <td>0</td>\n",
              "      <td>7</td>\n",
              "      <td>43</td>\n",
              "      <td>6.142857</td>\n",
              "      <td>2</td>\n",
              "      <td>0</td>\n",
              "      <td>1</td>\n",
              "      <td>0</td>\n",
              "      <td>0</td>\n",
              "      <td>[]</td>\n",
              "      <td>0</td>\n",
              "      <td>0</td>\n",
              "    </tr>\n",
              "    <tr>\n",
              "      <th>3441</th>\n",
              "      <td>@empirecityatl thanks i am keeping my head up</td>\n",
              "      <td>1</td>\n",
              "      <td>8</td>\n",
              "      <td>38</td>\n",
              "      <td>4.750000</td>\n",
              "      <td>3</td>\n",
              "      <td>0</td>\n",
              "      <td>1</td>\n",
              "      <td>0</td>\n",
              "      <td>1</td>\n",
              "      <td>[]</td>\n",
              "      <td>0</td>\n",
              "      <td>0</td>\n",
              "    </tr>\n",
              "    <tr>\n",
              "      <th>3948</th>\n",
              "      <td>just went to mana foods and bought suppah food!</td>\n",
              "      <td>1</td>\n",
              "      <td>9</td>\n",
              "      <td>39</td>\n",
              "      <td>4.333333</td>\n",
              "      <td>2</td>\n",
              "      <td>0</td>\n",
              "      <td>0</td>\n",
              "      <td>0</td>\n",
              "      <td>0</td>\n",
              "      <td>[]</td>\n",
              "      <td>0</td>\n",
              "      <td>0</td>\n",
              "    </tr>\n",
              "    <tr>\n",
              "      <th>609</th>\n",
              "      <td>tonight at mission street food: trumpet mushro...</td>\n",
              "      <td>0</td>\n",
              "      <td>21</td>\n",
              "      <td>114</td>\n",
              "      <td>5.428571</td>\n",
              "      <td>3</td>\n",
              "      <td>0</td>\n",
              "      <td>0</td>\n",
              "      <td>0</td>\n",
              "      <td>0</td>\n",
              "      <td>[]</td>\n",
              "      <td>0</td>\n",
              "      <td>0</td>\n",
              "    </tr>\n",
              "  </tbody>\n",
              "</table>\n",
              "</div>"
            ],
            "text/plain": [
              "                                                 twitts  sentiment  word_counts  char_count  avg_word_length  stop_word_len  hashtags  mentions  numeric_count  upper_counts emails  emails_count  url_flags\n",
              "2001                   @seriouz973 heyy! yuuu welcummm           1            4          28         7.000000              0         0         1              0             0     []             0          0\n",
              "992   @theexplodingboi white wine reminds me of vine...          0            7          43         6.142857              2         0         1              0             0     []             0          0\n",
              "3441     @empirecityatl thanks i am keeping my head up           1            8          38         4.750000              3         0         1              0             1     []             0          0\n",
              "3948   just went to mana foods and bought suppah food!           1            9          39         4.333333              2         0         0              0             0     []             0          0\n",
              "609   tonight at mission street food: trumpet mushro...          0           21         114         5.428571              3         0         0              0             0     []             0          0"
            ]
          },
          "metadata": {
            "tags": []
          },
          "execution_count": 69
        }
      ]
    },
    {
      "cell_type": "code",
      "metadata": {
        "id": "_AkAURZuEb8q"
      },
      "source": [
        ""
      ],
      "execution_count": 69,
      "outputs": []
    },
    {
      "cell_type": "markdown",
      "metadata": {
        "id": "aKkxxJX-EkCp"
      },
      "source": [
        "## *Remove RT*"
      ]
    },
    {
      "cell_type": "code",
      "metadata": {
        "colab": {
          "base_uri": "https://localhost:8080/",
          "height": 279
        },
        "id": "6HEoRICWEsES",
        "outputId": "800ee411-3dac-4b50-d2b3-89f78f7a1e60"
      },
      "source": [
        "df[df['twitts'].str.contains('rt')].sample(5)"
      ],
      "execution_count": 70,
      "outputs": [
        {
          "output_type": "execute_result",
          "data": {
            "text/html": [
              "<div>\n",
              "<style scoped>\n",
              "    .dataframe tbody tr th:only-of-type {\n",
              "        vertical-align: middle;\n",
              "    }\n",
              "\n",
              "    .dataframe tbody tr th {\n",
              "        vertical-align: top;\n",
              "    }\n",
              "\n",
              "    .dataframe thead th {\n",
              "        text-align: right;\n",
              "    }\n",
              "</style>\n",
              "<table border=\"1\" class=\"dataframe\">\n",
              "  <thead>\n",
              "    <tr style=\"text-align: right;\">\n",
              "      <th></th>\n",
              "      <th>twitts</th>\n",
              "      <th>sentiment</th>\n",
              "      <th>word_counts</th>\n",
              "      <th>char_count</th>\n",
              "      <th>avg_word_length</th>\n",
              "      <th>stop_word_len</th>\n",
              "      <th>hashtags</th>\n",
              "      <th>mentions</th>\n",
              "      <th>numeric_count</th>\n",
              "      <th>upper_counts</th>\n",
              "      <th>emails</th>\n",
              "      <th>emails_count</th>\n",
              "      <th>url_flags</th>\n",
              "    </tr>\n",
              "  </thead>\n",
              "  <tbody>\n",
              "    <tr>\n",
              "      <th>1837</th>\n",
              "      <td>@bawdz not a good thisplay,unfortunate amount ...</td>\n",
              "      <td>0</td>\n",
              "      <td>9</td>\n",
              "      <td>52</td>\n",
              "      <td>5.777778</td>\n",
              "      <td>5</td>\n",
              "      <td>0</td>\n",
              "      <td>1</td>\n",
              "      <td>0</td>\n",
              "      <td>0</td>\n",
              "      <td>[]</td>\n",
              "      <td>0</td>\n",
              "      <td>0</td>\n",
              "    </tr>\n",
              "    <tr>\n",
              "      <th>2593</th>\n",
              "      <td>@danworth really... i knew there were connecti...</td>\n",
              "      <td>1</td>\n",
              "      <td>16</td>\n",
              "      <td>89</td>\n",
              "      <td>5.562500</td>\n",
              "      <td>6</td>\n",
              "      <td>0</td>\n",
              "      <td>1</td>\n",
              "      <td>0</td>\n",
              "      <td>1</td>\n",
              "      <td>[]</td>\n",
              "      <td>0</td>\n",
              "      <td>0</td>\n",
              "    </tr>\n",
              "    <tr>\n",
              "      <th>3219</th>\n",
              "      <td>just put table up in the garden with mum and a...</td>\n",
              "      <td>1</td>\n",
              "      <td>23</td>\n",
              "      <td>81</td>\n",
              "      <td>3.521739</td>\n",
              "      <td>13</td>\n",
              "      <td>0</td>\n",
              "      <td>0</td>\n",
              "      <td>0</td>\n",
              "      <td>0</td>\n",
              "      <td>[]</td>\n",
              "      <td>0</td>\n",
              "      <td>0</td>\n",
              "    </tr>\n",
              "    <tr>\n",
              "      <th>2826</th>\n",
              "      <td>just watched the day the earth stood still  pr...</td>\n",
              "      <td>1</td>\n",
              "      <td>10</td>\n",
              "      <td>53</td>\n",
              "      <td>5.300000</td>\n",
              "      <td>4</td>\n",
              "      <td>0</td>\n",
              "      <td>0</td>\n",
              "      <td>0</td>\n",
              "      <td>0</td>\n",
              "      <td>[]</td>\n",
              "      <td>0</td>\n",
              "      <td>0</td>\n",
              "    </tr>\n",
              "    <tr>\n",
              "      <th>2871</th>\n",
              "      <td>@davideisert @lpt21 - never too sunny for lego...</td>\n",
              "      <td>1</td>\n",
              "      <td>13</td>\n",
              "      <td>65</td>\n",
              "      <td>5.000000</td>\n",
              "      <td>5</td>\n",
              "      <td>0</td>\n",
              "      <td>2</td>\n",
              "      <td>0</td>\n",
              "      <td>0</td>\n",
              "      <td>[]</td>\n",
              "      <td>0</td>\n",
              "      <td>0</td>\n",
              "    </tr>\n",
              "  </tbody>\n",
              "</table>\n",
              "</div>"
            ],
            "text/plain": [
              "                                                 twitts  sentiment  word_counts  char_count  avg_word_length  stop_word_len  hashtags  mentions  numeric_count  upper_counts emails  emails_count  url_flags\n",
              "1837  @bawdz not a good thisplay,unfortunate amount ...          0            9          52         5.777778              5         0         1              0             0     []             0          0\n",
              "2593  @danworth really... i knew there were connecti...          1           16          89         5.562500              6         0         1              0             1     []             0          0\n",
              "3219  just put table up in the garden with mum and a...          1           23          81         3.521739             13         0         0              0             0     []             0          0\n",
              "2826  just watched the day the earth stood still  pr...          1           10          53         5.300000              4         0         0              0             0     []             0          0\n",
              "2871  @davideisert @lpt21 - never too sunny for lego...          1           13          65         5.000000              5         0         2              0             0     []             0          0"
            ]
          },
          "metadata": {
            "tags": []
          },
          "execution_count": 70
        }
      ]
    },
    {
      "cell_type": "code",
      "metadata": {
        "id": "DTf9vLTLEuu7"
      },
      "source": [
        "x = 'rt @username: hello hirt'"
      ],
      "execution_count": 71,
      "outputs": []
    },
    {
      "cell_type": "code",
      "metadata": {
        "colab": {
          "base_uri": "https://localhost:8080/",
          "height": 35
        },
        "id": "lWrJgFK3FA2Y",
        "outputId": "bf78427b-69be-4adc-ad1c-e0f4108c62e6"
      },
      "source": [
        "re.sub(r'\\brt\\b', '', x).strip()"
      ],
      "execution_count": 72,
      "outputs": [
        {
          "output_type": "execute_result",
          "data": {
            "application/vnd.google.colaboratory.intrinsic+json": {
              "type": "string"
            },
            "text/plain": [
              "'@username: hello hirt'"
            ]
          },
          "metadata": {
            "tags": []
          },
          "execution_count": 72
        }
      ]
    },
    {
      "cell_type": "code",
      "metadata": {
        "id": "Uf0YuPefFCy_"
      },
      "source": [
        "df['twitts'] = df['twitts'].apply(lambda x: re.sub(r'\\brt\\b', '', x).strip())"
      ],
      "execution_count": 73,
      "outputs": []
    },
    {
      "cell_type": "code",
      "metadata": {
        "colab": {
          "base_uri": "https://localhost:8080/",
          "height": 262
        },
        "id": "TLTye8zGFFLV",
        "outputId": "84b95a34-801c-42ab-e4a8-0915da78e416"
      },
      "source": [
        "df.sample(5)"
      ],
      "execution_count": 74,
      "outputs": [
        {
          "output_type": "execute_result",
          "data": {
            "text/html": [
              "<div>\n",
              "<style scoped>\n",
              "    .dataframe tbody tr th:only-of-type {\n",
              "        vertical-align: middle;\n",
              "    }\n",
              "\n",
              "    .dataframe tbody tr th {\n",
              "        vertical-align: top;\n",
              "    }\n",
              "\n",
              "    .dataframe thead th {\n",
              "        text-align: right;\n",
              "    }\n",
              "</style>\n",
              "<table border=\"1\" class=\"dataframe\">\n",
              "  <thead>\n",
              "    <tr style=\"text-align: right;\">\n",
              "      <th></th>\n",
              "      <th>twitts</th>\n",
              "      <th>sentiment</th>\n",
              "      <th>word_counts</th>\n",
              "      <th>char_count</th>\n",
              "      <th>avg_word_length</th>\n",
              "      <th>stop_word_len</th>\n",
              "      <th>hashtags</th>\n",
              "      <th>mentions</th>\n",
              "      <th>numeric_count</th>\n",
              "      <th>upper_counts</th>\n",
              "      <th>emails</th>\n",
              "      <th>emails_count</th>\n",
              "      <th>url_flags</th>\n",
              "    </tr>\n",
              "  </thead>\n",
              "  <tbody>\n",
              "    <tr>\n",
              "      <th>2411</th>\n",
              "      <td>do not feel very well so i am just gonna rest ...</td>\n",
              "      <td>1</td>\n",
              "      <td>13</td>\n",
              "      <td>58</td>\n",
              "      <td>4.461538</td>\n",
              "      <td>6</td>\n",
              "      <td>0</td>\n",
              "      <td>0</td>\n",
              "      <td>0</td>\n",
              "      <td>0</td>\n",
              "      <td>[]</td>\n",
              "      <td>0</td>\n",
              "      <td>0</td>\n",
              "    </tr>\n",
              "    <tr>\n",
              "      <th>3634</th>\n",
              "      <td>thinking of fuzzball more than air france</td>\n",
              "      <td>1</td>\n",
              "      <td>8</td>\n",
              "      <td>60</td>\n",
              "      <td>7.500000</td>\n",
              "      <td>3</td>\n",
              "      <td>0</td>\n",
              "      <td>0</td>\n",
              "      <td>0</td>\n",
              "      <td>0</td>\n",
              "      <td>[]</td>\n",
              "      <td>0</td>\n",
              "      <td>1</td>\n",
              "    </tr>\n",
              "    <tr>\n",
              "      <th>455</th>\n",
              "      <td>the lion and the mouse tinggal 4 baris tapi be...</td>\n",
              "      <td>0</td>\n",
              "      <td>12</td>\n",
              "      <td>54</td>\n",
              "      <td>4.500000</td>\n",
              "      <td>3</td>\n",
              "      <td>0</td>\n",
              "      <td>0</td>\n",
              "      <td>1</td>\n",
              "      <td>0</td>\n",
              "      <td>[]</td>\n",
              "      <td>0</td>\n",
              "      <td>0</td>\n",
              "    </tr>\n",
              "    <tr>\n",
              "      <th>3869</th>\n",
              "      <td>@tommcfly what about mtv movie awards? turn th...</td>\n",
              "      <td>1</td>\n",
              "      <td>10</td>\n",
              "      <td>54</td>\n",
              "      <td>5.400000</td>\n",
              "      <td>3</td>\n",
              "      <td>0</td>\n",
              "      <td>1</td>\n",
              "      <td>0</td>\n",
              "      <td>1</td>\n",
              "      <td>[]</td>\n",
              "      <td>0</td>\n",
              "      <td>0</td>\n",
              "    </tr>\n",
              "    <tr>\n",
              "      <th>2847</th>\n",
              "      <td>green tea</td>\n",
              "      <td>1</td>\n",
              "      <td>2</td>\n",
              "      <td>8</td>\n",
              "      <td>4.000000</td>\n",
              "      <td>0</td>\n",
              "      <td>0</td>\n",
              "      <td>0</td>\n",
              "      <td>0</td>\n",
              "      <td>0</td>\n",
              "      <td>[]</td>\n",
              "      <td>0</td>\n",
              "      <td>0</td>\n",
              "    </tr>\n",
              "  </tbody>\n",
              "</table>\n",
              "</div>"
            ],
            "text/plain": [
              "                                                 twitts  sentiment  word_counts  char_count  avg_word_length  stop_word_len  hashtags  mentions  numeric_count  upper_counts emails  emails_count  url_flags\n",
              "2411  do not feel very well so i am just gonna rest ...          1           13          58         4.461538              6         0         0              0             0     []             0          0\n",
              "3634          thinking of fuzzball more than air france          1            8          60         7.500000              3         0         0              0             0     []             0          1\n",
              "455   the lion and the mouse tinggal 4 baris tapi be...          0           12          54         4.500000              3         0         0              1             0     []             0          0\n",
              "3869  @tommcfly what about mtv movie awards? turn th...          1           10          54         5.400000              3         0         1              0             1     []             0          0\n",
              "2847                                          green tea          1            2           8         4.000000              0         0         0              0             0     []             0          0"
            ]
          },
          "metadata": {
            "tags": []
          },
          "execution_count": 74
        }
      ]
    },
    {
      "cell_type": "markdown",
      "metadata": {
        "id": "wLN9DObkFJjU"
      },
      "source": [
        "## Special Chars removal or punctuation removal "
      ]
    },
    {
      "cell_type": "code",
      "metadata": {
        "id": "yDnDeQHeFGXK"
      },
      "source": [
        "x = '@duyku apparently i was not ready enough... i...'"
      ],
      "execution_count": 75,
      "outputs": []
    },
    {
      "cell_type": "code",
      "metadata": {
        "colab": {
          "base_uri": "https://localhost:8080/",
          "height": 35
        },
        "id": "nDZ-Z0yBFUUM",
        "outputId": "a941f89d-fe5f-4597-b0be-04e1790249a7"
      },
      "source": [
        "re.sub(r'[^\\w ]+', \"\", x)"
      ],
      "execution_count": 76,
      "outputs": [
        {
          "output_type": "execute_result",
          "data": {
            "application/vnd.google.colaboratory.intrinsic+json": {
              "type": "string"
            },
            "text/plain": [
              "'duyku apparently i was not ready enough i'"
            ]
          },
          "metadata": {
            "tags": []
          },
          "execution_count": 76
        }
      ]
    },
    {
      "cell_type": "code",
      "metadata": {
        "id": "W_-ZpSYBFV3Q"
      },
      "source": [
        "df['twitts'] = df['twitts'].apply(lambda x: re.sub(r'[^\\w ]+', \"\", x))"
      ],
      "execution_count": 77,
      "outputs": []
    },
    {
      "cell_type": "code",
      "metadata": {
        "colab": {
          "base_uri": "https://localhost:8080/",
          "height": 262
        },
        "id": "wSBpjCW3FabY",
        "outputId": "8c542067-7da4-443d-fa3f-8c13b9b1994a"
      },
      "source": [
        "df.sample(5)"
      ],
      "execution_count": 78,
      "outputs": [
        {
          "output_type": "execute_result",
          "data": {
            "text/html": [
              "<div>\n",
              "<style scoped>\n",
              "    .dataframe tbody tr th:only-of-type {\n",
              "        vertical-align: middle;\n",
              "    }\n",
              "\n",
              "    .dataframe tbody tr th {\n",
              "        vertical-align: top;\n",
              "    }\n",
              "\n",
              "    .dataframe thead th {\n",
              "        text-align: right;\n",
              "    }\n",
              "</style>\n",
              "<table border=\"1\" class=\"dataframe\">\n",
              "  <thead>\n",
              "    <tr style=\"text-align: right;\">\n",
              "      <th></th>\n",
              "      <th>twitts</th>\n",
              "      <th>sentiment</th>\n",
              "      <th>word_counts</th>\n",
              "      <th>char_count</th>\n",
              "      <th>avg_word_length</th>\n",
              "      <th>stop_word_len</th>\n",
              "      <th>hashtags</th>\n",
              "      <th>mentions</th>\n",
              "      <th>numeric_count</th>\n",
              "      <th>upper_counts</th>\n",
              "      <th>emails</th>\n",
              "      <th>emails_count</th>\n",
              "      <th>url_flags</th>\n",
              "    </tr>\n",
              "  </thead>\n",
              "  <tbody>\n",
              "    <tr>\n",
              "      <th>3864</th>\n",
              "      <td>the first day of quotrealquot rehersals of 42s...</td>\n",
              "      <td>1</td>\n",
              "      <td>21</td>\n",
              "      <td>91</td>\n",
              "      <td>4.333333</td>\n",
              "      <td>12</td>\n",
              "      <td>0</td>\n",
              "      <td>0</td>\n",
              "      <td>0</td>\n",
              "      <td>1</td>\n",
              "      <td>[]</td>\n",
              "      <td>0</td>\n",
              "      <td>0</td>\n",
              "    </tr>\n",
              "    <tr>\n",
              "      <th>285</th>\n",
              "      <td>mallory0905 i guess you never got that tomato ...</td>\n",
              "      <td>0</td>\n",
              "      <td>22</td>\n",
              "      <td>114</td>\n",
              "      <td>5.181818</td>\n",
              "      <td>10</td>\n",
              "      <td>0</td>\n",
              "      <td>1</td>\n",
              "      <td>0</td>\n",
              "      <td>0</td>\n",
              "      <td>[]</td>\n",
              "      <td>0</td>\n",
              "      <td>0</td>\n",
              "    </tr>\n",
              "    <tr>\n",
              "      <th>1515</th>\n",
              "      <td>army_wife4life it did for a few minutesshe now...</td>\n",
              "      <td>0</td>\n",
              "      <td>21</td>\n",
              "      <td>87</td>\n",
              "      <td>4.142857</td>\n",
              "      <td>11</td>\n",
              "      <td>0</td>\n",
              "      <td>1</td>\n",
              "      <td>3</td>\n",
              "      <td>0</td>\n",
              "      <td>[]</td>\n",
              "      <td>0</td>\n",
              "      <td>0</td>\n",
              "    </tr>\n",
              "    <tr>\n",
              "      <th>3583</th>\n",
              "      <td>good morning  i am very happy today  i am at l...</td>\n",
              "      <td>1</td>\n",
              "      <td>12</td>\n",
              "      <td>52</td>\n",
              "      <td>4.333333</td>\n",
              "      <td>2</td>\n",
              "      <td>0</td>\n",
              "      <td>0</td>\n",
              "      <td>0</td>\n",
              "      <td>0</td>\n",
              "      <td>[]</td>\n",
              "      <td>0</td>\n",
              "      <td>0</td>\n",
              "    </tr>\n",
              "    <tr>\n",
              "      <th>2643</th>\n",
              "      <td>were here  well in adrian atleast</td>\n",
              "      <td>1</td>\n",
              "      <td>6</td>\n",
              "      <td>32</td>\n",
              "      <td>5.333333</td>\n",
              "      <td>2</td>\n",
              "      <td>0</td>\n",
              "      <td>0</td>\n",
              "      <td>0</td>\n",
              "      <td>0</td>\n",
              "      <td>[]</td>\n",
              "      <td>0</td>\n",
              "      <td>0</td>\n",
              "    </tr>\n",
              "  </tbody>\n",
              "</table>\n",
              "</div>"
            ],
            "text/plain": [
              "                                                 twitts  sentiment  word_counts  char_count  avg_word_length  stop_word_len  hashtags  mentions  numeric_count  upper_counts emails  emails_count  url_flags\n",
              "3864  the first day of quotrealquot rehersals of 42s...          1           21          91         4.333333             12         0         0              0             1     []             0          0\n",
              "285   mallory0905 i guess you never got that tomato ...          0           22         114         5.181818             10         0         1              0             0     []             0          0\n",
              "1515  army_wife4life it did for a few minutesshe now...          0           21          87         4.142857             11         0         1              3             0     []             0          0\n",
              "3583  good morning  i am very happy today  i am at l...          1           12          52         4.333333              2         0         0              0             0     []             0          0\n",
              "2643                  were here  well in adrian atleast          1            6          32         5.333333              2         0         0              0             0     []             0          0"
            ]
          },
          "metadata": {
            "tags": []
          },
          "execution_count": 78
        }
      ]
    },
    {
      "cell_type": "markdown",
      "metadata": {
        "id": "f78eL5C4FoCA"
      },
      "source": [
        "## Remove multiple spaces `\"hi   hello    \"`"
      ]
    },
    {
      "cell_type": "code",
      "metadata": {
        "id": "Vp1_CppFFb9w"
      },
      "source": [
        "x =  'hi    hello     how are you'"
      ],
      "execution_count": 79,
      "outputs": []
    },
    {
      "cell_type": "code",
      "metadata": {
        "colab": {
          "base_uri": "https://localhost:8080/",
          "height": 35
        },
        "id": "zxpvxBV7FwzF",
        "outputId": "eca5202f-e3b7-4401-f698-1d57fae249ff"
      },
      "source": [
        "' '.join(x.split())"
      ],
      "execution_count": 80,
      "outputs": [
        {
          "output_type": "execute_result",
          "data": {
            "application/vnd.google.colaboratory.intrinsic+json": {
              "type": "string"
            },
            "text/plain": [
              "'hi hello how are you'"
            ]
          },
          "metadata": {
            "tags": []
          },
          "execution_count": 80
        }
      ]
    },
    {
      "cell_type": "code",
      "metadata": {
        "id": "4QaORsgoFxKu"
      },
      "source": [
        "df['twitts'] = df['twitts'].apply(lambda x: ' '.join(x.split()))"
      ],
      "execution_count": 81,
      "outputs": []
    },
    {
      "cell_type": "markdown",
      "metadata": {
        "id": "ZaGCPJoKF21W"
      },
      "source": [
        "## Remove HTML tags"
      ]
    },
    {
      "cell_type": "code",
      "metadata": {
        "colab": {
          "base_uri": "https://localhost:8080/"
        },
        "id": "0H87Hn3LFzM4",
        "outputId": "eb6e9107-6575-4f28-c75a-a21c04d8f08c"
      },
      "source": [
        "!pip install beautifulsoup4"
      ],
      "execution_count": 82,
      "outputs": [
        {
          "output_type": "stream",
          "text": [
            "Requirement already satisfied: beautifulsoup4 in /usr/local/lib/python3.7/dist-packages (4.6.3)\n"
          ],
          "name": "stdout"
        }
      ]
    },
    {
      "cell_type": "code",
      "metadata": {
        "id": "CGXKTaJXF5pw"
      },
      "source": [
        "from bs4 import BeautifulSoup"
      ],
      "execution_count": 83,
      "outputs": []
    },
    {
      "cell_type": "code",
      "metadata": {
        "id": "zS8LfEVEF8NL"
      },
      "source": [
        "x = '<html><h1> thanks for watching it </h1></html>'"
      ],
      "execution_count": 84,
      "outputs": []
    },
    {
      "cell_type": "code",
      "metadata": {
        "colab": {
          "base_uri": "https://localhost:8080/",
          "height": 35
        },
        "id": "lWj3ojTAF9h0",
        "outputId": "9e433bd8-2d9d-4609-9469-7312c8890704"
      },
      "source": [
        "x.replace('<html><h1>', '').replace('</h1></html>', '') #not rec"
      ],
      "execution_count": 85,
      "outputs": [
        {
          "output_type": "execute_result",
          "data": {
            "application/vnd.google.colaboratory.intrinsic+json": {
              "type": "string"
            },
            "text/plain": [
              "' thanks for watching it '"
            ]
          },
          "metadata": {
            "tags": []
          },
          "execution_count": 85
        }
      ]
    },
    {
      "cell_type": "code",
      "metadata": {
        "colab": {
          "base_uri": "https://localhost:8080/",
          "height": 35
        },
        "id": "kUyX_nIzF-8U",
        "outputId": "552faa00-127c-44f0-cb69-a390a87a1e87"
      },
      "source": [
        "BeautifulSoup(x, 'lxml').get_text().strip()"
      ],
      "execution_count": 86,
      "outputs": [
        {
          "output_type": "execute_result",
          "data": {
            "application/vnd.google.colaboratory.intrinsic+json": {
              "type": "string"
            },
            "text/plain": [
              "'thanks for watching it'"
            ]
          },
          "metadata": {
            "tags": []
          },
          "execution_count": 86
        }
      ]
    },
    {
      "cell_type": "code",
      "metadata": {
        "colab": {
          "base_uri": "https://localhost:8080/"
        },
        "id": "sJz9QsCUGDN-",
        "outputId": "7b7e40c7-73ae-428d-8afb-e7a3034e9da4"
      },
      "source": [
        "%%time\n",
        "df['twitts'] = df['twitts'].apply(lambda x: BeautifulSoup(x, 'lxml').get_text().strip())"
      ],
      "execution_count": 87,
      "outputs": [
        {
          "output_type": "stream",
          "text": [
            "CPU times: user 725 ms, sys: 40.9 ms, total: 766 ms\n",
            "Wall time: 770 ms\n"
          ],
          "name": "stdout"
        }
      ]
    },
    {
      "cell_type": "code",
      "metadata": {
        "colab": {
          "base_uri": "https://localhost:8080/",
          "height": 262
        },
        "id": "ALK7XUbFGFI6",
        "outputId": "f04743c5-f27a-4202-9d62-e869c5711656"
      },
      "source": [
        "df.sample(5)"
      ],
      "execution_count": 88,
      "outputs": [
        {
          "output_type": "execute_result",
          "data": {
            "text/html": [
              "<div>\n",
              "<style scoped>\n",
              "    .dataframe tbody tr th:only-of-type {\n",
              "        vertical-align: middle;\n",
              "    }\n",
              "\n",
              "    .dataframe tbody tr th {\n",
              "        vertical-align: top;\n",
              "    }\n",
              "\n",
              "    .dataframe thead th {\n",
              "        text-align: right;\n",
              "    }\n",
              "</style>\n",
              "<table border=\"1\" class=\"dataframe\">\n",
              "  <thead>\n",
              "    <tr style=\"text-align: right;\">\n",
              "      <th></th>\n",
              "      <th>twitts</th>\n",
              "      <th>sentiment</th>\n",
              "      <th>word_counts</th>\n",
              "      <th>char_count</th>\n",
              "      <th>avg_word_length</th>\n",
              "      <th>stop_word_len</th>\n",
              "      <th>hashtags</th>\n",
              "      <th>mentions</th>\n",
              "      <th>numeric_count</th>\n",
              "      <th>upper_counts</th>\n",
              "      <th>emails</th>\n",
              "      <th>emails_count</th>\n",
              "      <th>url_flags</th>\n",
              "    </tr>\n",
              "  </thead>\n",
              "  <tbody>\n",
              "    <tr>\n",
              "      <th>819</th>\n",
              "      <td>does not want to go</td>\n",
              "      <td>0</td>\n",
              "      <td>4</td>\n",
              "      <td>15</td>\n",
              "      <td>3.750000</td>\n",
              "      <td>2</td>\n",
              "      <td>0</td>\n",
              "      <td>0</td>\n",
              "      <td>0</td>\n",
              "      <td>0</td>\n",
              "      <td>[]</td>\n",
              "      <td>0</td>\n",
              "      <td>0</td>\n",
              "    </tr>\n",
              "    <tr>\n",
              "      <th>3161</th>\n",
              "      <td>just spent several hours in the garden putting...</td>\n",
              "      <td>1</td>\n",
              "      <td>24</td>\n",
              "      <td>117</td>\n",
              "      <td>4.875000</td>\n",
              "      <td>8</td>\n",
              "      <td>0</td>\n",
              "      <td>0</td>\n",
              "      <td>0</td>\n",
              "      <td>0</td>\n",
              "      <td>[]</td>\n",
              "      <td>0</td>\n",
              "      <td>0</td>\n",
              "    </tr>\n",
              "    <tr>\n",
              "      <th>799</th>\n",
              "      <td>prettty cold out today dying my hair today tex...</td>\n",
              "      <td>0</td>\n",
              "      <td>10</td>\n",
              "      <td>44</td>\n",
              "      <td>4.400000</td>\n",
              "      <td>2</td>\n",
              "      <td>0</td>\n",
              "      <td>0</td>\n",
              "      <td>0</td>\n",
              "      <td>0</td>\n",
              "      <td>[]</td>\n",
              "      <td>0</td>\n",
              "      <td>0</td>\n",
              "    </tr>\n",
              "    <tr>\n",
              "      <th>1352</th>\n",
              "      <td>had a little accident my big toe is incredibly...</td>\n",
              "      <td>0</td>\n",
              "      <td>16</td>\n",
              "      <td>80</td>\n",
              "      <td>5.000000</td>\n",
              "      <td>5</td>\n",
              "      <td>0</td>\n",
              "      <td>0</td>\n",
              "      <td>0</td>\n",
              "      <td>0</td>\n",
              "      <td>[]</td>\n",
              "      <td>0</td>\n",
              "      <td>0</td>\n",
              "    </tr>\n",
              "    <tr>\n",
              "      <th>1945</th>\n",
              "      <td>what a rainy f1 force india seem so lost in sh...</td>\n",
              "      <td>0</td>\n",
              "      <td>11</td>\n",
              "      <td>43</td>\n",
              "      <td>3.909091</td>\n",
              "      <td>4</td>\n",
              "      <td>0</td>\n",
              "      <td>0</td>\n",
              "      <td>0</td>\n",
              "      <td>1</td>\n",
              "      <td>[]</td>\n",
              "      <td>0</td>\n",
              "      <td>0</td>\n",
              "    </tr>\n",
              "  </tbody>\n",
              "</table>\n",
              "</div>"
            ],
            "text/plain": [
              "                                                 twitts  sentiment  word_counts  char_count  avg_word_length  stop_word_len  hashtags  mentions  numeric_count  upper_counts emails  emails_count  url_flags\n",
              "819                                 does not want to go          0            4          15         3.750000              2         0         0              0             0     []             0          0\n",
              "3161  just spent several hours in the garden putting...          1           24         117         4.875000              8         0         0              0             0     []             0          0\n",
              "799   prettty cold out today dying my hair today tex...          0           10          44         4.400000              2         0         0              0             0     []             0          0\n",
              "1352  had a little accident my big toe is incredibly...          0           16          80         5.000000              5         0         0              0             0     []             0          0\n",
              "1945  what a rainy f1 force india seem so lost in sh...          0           11          43         3.909091              4         0         0              0             1     []             0          0"
            ]
          },
          "metadata": {
            "tags": []
          },
          "execution_count": 88
        }
      ]
    },
    {
      "cell_type": "markdown",
      "metadata": {
        "id": "eGXeoY_iGZeD"
      },
      "source": [
        "## Remove Accented Chars "
      ]
    },
    {
      "cell_type": "code",
      "metadata": {
        "id": "DK8Qovl5GHYv"
      },
      "source": [
        "x = 'Áccěntěd těxt'"
      ],
      "execution_count": 89,
      "outputs": []
    },
    {
      "cell_type": "code",
      "metadata": {
        "id": "T0-OodGJGbsB"
      },
      "source": [
        "import unicodedata"
      ],
      "execution_count": 90,
      "outputs": []
    },
    {
      "cell_type": "code",
      "metadata": {
        "id": "iI418IuMGdtZ"
      },
      "source": [
        "def remove_accented_chars(x):\n",
        "    x = unicodedata.normalize('NFKD', x).encode('ascii', 'ignore').decode('utf-8', 'ignore')\n",
        "    return x"
      ],
      "execution_count": 91,
      "outputs": []
    },
    {
      "cell_type": "code",
      "metadata": {
        "colab": {
          "base_uri": "https://localhost:8080/",
          "height": 35
        },
        "id": "bxP5lA6BGgjM",
        "outputId": "be8d1018-8dab-4a9d-8543-157fa0e454ed"
      },
      "source": [
        "remove_accented_chars(x)"
      ],
      "execution_count": 92,
      "outputs": [
        {
          "output_type": "execute_result",
          "data": {
            "application/vnd.google.colaboratory.intrinsic+json": {
              "type": "string"
            },
            "text/plain": [
              "'Accented text'"
            ]
          },
          "metadata": {
            "tags": []
          },
          "execution_count": 92
        }
      ]
    },
    {
      "cell_type": "code",
      "metadata": {
        "id": "yD0mgHEfGh47"
      },
      "source": [
        "df['twitts'] = df['twitts'].apply(lambda x: remove_accented_chars(x))"
      ],
      "execution_count": 93,
      "outputs": []
    },
    {
      "cell_type": "markdown",
      "metadata": {
        "id": "rXCVW1fUGns8"
      },
      "source": [
        "## Remove Stop Words \n"
      ]
    },
    {
      "cell_type": "code",
      "metadata": {
        "id": "9LkcK9s5Gjf3"
      },
      "source": [
        "x = 'this is a stop words'"
      ],
      "execution_count": 94,
      "outputs": []
    },
    {
      "cell_type": "code",
      "metadata": {
        "colab": {
          "base_uri": "https://localhost:8080/",
          "height": 35
        },
        "id": "4sFgdf1crSaz",
        "outputId": "b74fbd6e-e5eb-49bd-e5fd-ca228acb3133"
      },
      "source": [
        "' '.join([t for t in x.split() if t not in stopword])"
      ],
      "execution_count": 96,
      "outputs": [
        {
          "output_type": "execute_result",
          "data": {
            "application/vnd.google.colaboratory.intrinsic+json": {
              "type": "string"
            },
            "text/plain": [
              "'stop words'"
            ]
          },
          "metadata": {
            "tags": []
          },
          "execution_count": 96
        }
      ]
    },
    {
      "cell_type": "code",
      "metadata": {
        "id": "i_45tGpfrUF5"
      },
      "source": [
        "df['twitts_no_stop'] = df['twitts'].apply(lambda x: ' '.join([t for t in x.split() if t not in stopword]))"
      ],
      "execution_count": 98,
      "outputs": []
    },
    {
      "cell_type": "code",
      "metadata": {
        "colab": {
          "base_uri": "https://localhost:8080/",
          "height": 430
        },
        "id": "O3IfoHxJrdDU",
        "outputId": "427e1706-5446-4c2f-aea5-f1fb6b33abdb"
      },
      "source": [
        "df.sample(5)"
      ],
      "execution_count": 99,
      "outputs": [
        {
          "output_type": "execute_result",
          "data": {
            "text/html": [
              "<div>\n",
              "<style scoped>\n",
              "    .dataframe tbody tr th:only-of-type {\n",
              "        vertical-align: middle;\n",
              "    }\n",
              "\n",
              "    .dataframe tbody tr th {\n",
              "        vertical-align: top;\n",
              "    }\n",
              "\n",
              "    .dataframe thead th {\n",
              "        text-align: right;\n",
              "    }\n",
              "</style>\n",
              "<table border=\"1\" class=\"dataframe\">\n",
              "  <thead>\n",
              "    <tr style=\"text-align: right;\">\n",
              "      <th></th>\n",
              "      <th>twitts</th>\n",
              "      <th>sentiment</th>\n",
              "      <th>word_counts</th>\n",
              "      <th>char_count</th>\n",
              "      <th>avg_word_length</th>\n",
              "      <th>stop_word_len</th>\n",
              "      <th>hashtags</th>\n",
              "      <th>mentions</th>\n",
              "      <th>numeric_count</th>\n",
              "      <th>upper_counts</th>\n",
              "      <th>emails</th>\n",
              "      <th>emails_count</th>\n",
              "      <th>url_flags</th>\n",
              "      <th>twitts_no_stop</th>\n",
              "    </tr>\n",
              "  </thead>\n",
              "  <tbody>\n",
              "    <tr>\n",
              "      <th>1231</th>\n",
              "      <td>ikaikatilton not too well i am miserable but i...</td>\n",
              "      <td>0</td>\n",
              "      <td>18</td>\n",
              "      <td>76</td>\n",
              "      <td>4.222222</td>\n",
              "      <td>7</td>\n",
              "      <td>0</td>\n",
              "      <td>1</td>\n",
              "      <td>0</td>\n",
              "      <td>1</td>\n",
              "      <td>[]</td>\n",
              "      <td>0</td>\n",
              "      <td>0</td>\n",
              "      <td>ikaikatilton miserable know look right</td>\n",
              "    </tr>\n",
              "    <tr>\n",
              "      <th>317</th>\n",
              "      <td>nazf i cannot see it</td>\n",
              "      <td>0</td>\n",
              "      <td>5</td>\n",
              "      <td>17</td>\n",
              "      <td>3.400000</td>\n",
              "      <td>4</td>\n",
              "      <td>0</td>\n",
              "      <td>1</td>\n",
              "      <td>0</td>\n",
              "      <td>1</td>\n",
              "      <td>[]</td>\n",
              "      <td>0</td>\n",
              "      <td>0</td>\n",
              "      <td>nazf</td>\n",
              "    </tr>\n",
              "    <tr>\n",
              "      <th>1494</th>\n",
              "      <td>i am still alive but i need some miracle do no...</td>\n",
              "      <td>0</td>\n",
              "      <td>23</td>\n",
              "      <td>91</td>\n",
              "      <td>3.956522</td>\n",
              "      <td>7</td>\n",
              "      <td>0</td>\n",
              "      <td>1</td>\n",
              "      <td>0</td>\n",
              "      <td>2</td>\n",
              "      <td>[]</td>\n",
              "      <td>0</td>\n",
              "      <td>0</td>\n",
              "      <td>alive need miracle want feel kind pain yep den...</td>\n",
              "    </tr>\n",
              "    <tr>\n",
              "      <th>545</th>\n",
              "      <td>if its the person i think it iswhy the fuck ar...</td>\n",
              "      <td>0</td>\n",
              "      <td>26</td>\n",
              "      <td>112</td>\n",
              "      <td>4.307692</td>\n",
              "      <td>10</td>\n",
              "      <td>0</td>\n",
              "      <td>0</td>\n",
              "      <td>0</td>\n",
              "      <td>0</td>\n",
              "      <td>[]</td>\n",
              "      <td>0</td>\n",
              "      <td>0</td>\n",
              "      <td>person think iswhy fuck leaving voicemailif no...</td>\n",
              "    </tr>\n",
              "    <tr>\n",
              "      <th>3568</th>\n",
              "      <td>zvespano hey zhirlyn congrats on your baby gir...</td>\n",
              "      <td>1</td>\n",
              "      <td>13</td>\n",
              "      <td>58</td>\n",
              "      <td>4.461538</td>\n",
              "      <td>4</td>\n",
              "      <td>0</td>\n",
              "      <td>1</td>\n",
              "      <td>0</td>\n",
              "      <td>0</td>\n",
              "      <td>[]</td>\n",
              "      <td>0</td>\n",
              "      <td>0</td>\n",
              "      <td>zvespano hey zhirlyn congrats baby girl arent fun</td>\n",
              "    </tr>\n",
              "  </tbody>\n",
              "</table>\n",
              "</div>"
            ],
            "text/plain": [
              "                                                 twitts  sentiment  word_counts  char_count  avg_word_length  stop_word_len  hashtags  mentions  numeric_count  upper_counts emails  emails_count  url_flags                                     twitts_no_stop\n",
              "1231  ikaikatilton not too well i am miserable but i...          0           18          76         4.222222              7         0         1              0             1     []             0          0             ikaikatilton miserable know look right\n",
              "317                                nazf i cannot see it          0            5          17         3.400000              4         0         1              0             1     []             0          0                                               nazf\n",
              "1494  i am still alive but i need some miracle do no...          0           23          91         3.956522              7         0         1              0             2     []             0          0  alive need miracle want feel kind pain yep den...\n",
              "545   if its the person i think it iswhy the fuck ar...          0           26         112         4.307692             10         0         0              0             0     []             0          0  person think iswhy fuck leaving voicemailif no...\n",
              "3568  zvespano hey zhirlyn congrats on your baby gir...          1           13          58         4.461538              4         0         1              0             0     []             0          0  zvespano hey zhirlyn congrats baby girl arent fun"
            ]
          },
          "metadata": {
            "tags": []
          },
          "execution_count": 99
        }
      ]
    },
    {
      "cell_type": "markdown",
      "metadata": {
        "id": "CyzxMLvMrluB"
      },
      "source": [
        "## Convert into base or root form of word "
      ]
    },
    {
      "cell_type": "code",
      "metadata": {
        "id": "ri_0GkcVrhEK"
      },
      "source": [
        "nlp = spacy.load('en_core_web_sm')"
      ],
      "execution_count": 100,
      "outputs": []
    },
    {
      "cell_type": "code",
      "metadata": {
        "id": "v4EI2PZxr0N4"
      },
      "source": [
        "x = 'this is chocolates. what is times? this balls'"
      ],
      "execution_count": 101,
      "outputs": []
    },
    {
      "cell_type": "code",
      "metadata": {
        "id": "YgbpzxV-r2Ut"
      },
      "source": [
        "def make_to_base(x):\n",
        "    x = str(x)\n",
        "    x_list = []\n",
        "    doc = nlp(x)\n",
        "    \n",
        "    for token in doc:\n",
        "        lemma = token.lemma_\n",
        "        if lemma == '-PRON-' or lemma == 'be':\n",
        "            lemma = token.text\n",
        "\n",
        "        x_list.append(lemma)\n",
        "    return ' '.join(x_list)"
      ],
      "execution_count": 102,
      "outputs": []
    },
    {
      "cell_type": "code",
      "metadata": {
        "colab": {
          "base_uri": "https://localhost:8080/",
          "height": 35
        },
        "id": "ukD7kfVnr35J",
        "outputId": "8caa142f-db35-4627-f6f7-85b582a9fe8f"
      },
      "source": [
        "make_to_base(x)"
      ],
      "execution_count": 103,
      "outputs": [
        {
          "output_type": "execute_result",
          "data": {
            "application/vnd.google.colaboratory.intrinsic+json": {
              "type": "string"
            },
            "text/plain": [
              "'this is chocolate . what is time ? this ball'"
            ]
          },
          "metadata": {
            "tags": []
          },
          "execution_count": 103
        }
      ]
    },
    {
      "cell_type": "code",
      "metadata": {
        "id": "lMeD7YXGr57B"
      },
      "source": [
        "df['twitts'] = df['twitts'].apply(lambda x: make_to_base(x))"
      ],
      "execution_count": 104,
      "outputs": []
    },
    {
      "cell_type": "code",
      "metadata": {
        "colab": {
          "base_uri": "https://localhost:8080/",
          "height": 397
        },
        "id": "wqyoRZlsr75e",
        "outputId": "4753ebd7-531a-41f6-a12f-f45289077da4"
      },
      "source": [
        "df.sample(5)"
      ],
      "execution_count": 105,
      "outputs": [
        {
          "output_type": "execute_result",
          "data": {
            "text/html": [
              "<div>\n",
              "<style scoped>\n",
              "    .dataframe tbody tr th:only-of-type {\n",
              "        vertical-align: middle;\n",
              "    }\n",
              "\n",
              "    .dataframe tbody tr th {\n",
              "        vertical-align: top;\n",
              "    }\n",
              "\n",
              "    .dataframe thead th {\n",
              "        text-align: right;\n",
              "    }\n",
              "</style>\n",
              "<table border=\"1\" class=\"dataframe\">\n",
              "  <thead>\n",
              "    <tr style=\"text-align: right;\">\n",
              "      <th></th>\n",
              "      <th>twitts</th>\n",
              "      <th>sentiment</th>\n",
              "      <th>word_counts</th>\n",
              "      <th>char_count</th>\n",
              "      <th>avg_word_length</th>\n",
              "      <th>stop_word_len</th>\n",
              "      <th>hashtags</th>\n",
              "      <th>mentions</th>\n",
              "      <th>numeric_count</th>\n",
              "      <th>upper_counts</th>\n",
              "      <th>emails</th>\n",
              "      <th>emails_count</th>\n",
              "      <th>url_flags</th>\n",
              "      <th>twitts_no_stop</th>\n",
              "    </tr>\n",
              "  </thead>\n",
              "  <tbody>\n",
              "    <tr>\n",
              "      <th>2357</th>\n",
              "      <td>kellykenniff i love you</td>\n",
              "      <td>1</td>\n",
              "      <td>4</td>\n",
              "      <td>21</td>\n",
              "      <td>5.250000</td>\n",
              "      <td>2</td>\n",
              "      <td>0</td>\n",
              "      <td>1</td>\n",
              "      <td>0</td>\n",
              "      <td>0</td>\n",
              "      <td>[]</td>\n",
              "      <td>0</td>\n",
              "      <td>0</td>\n",
              "      <td>kellykenniff love</td>\n",
              "    </tr>\n",
              "    <tr>\n",
              "      <th>3559</th>\n",
              "      <td>why is twilight win thing it was so shite grrr...</td>\n",
              "      <td>1</td>\n",
              "      <td>15</td>\n",
              "      <td>79</td>\n",
              "      <td>5.266667</td>\n",
              "      <td>5</td>\n",
              "      <td>0</td>\n",
              "      <td>1</td>\n",
              "      <td>0</td>\n",
              "      <td>0</td>\n",
              "      <td>[]</td>\n",
              "      <td>0</td>\n",
              "      <td>0</td>\n",
              "      <td>twilight winning things shite grrr hope mileyc...</td>\n",
              "    </tr>\n",
              "    <tr>\n",
              "      <th>1622</th>\n",
              "      <td>how is it 8 p.m. on sunday night already</td>\n",
              "      <td>0</td>\n",
              "      <td>8</td>\n",
              "      <td>33</td>\n",
              "      <td>4.125000</td>\n",
              "      <td>4</td>\n",
              "      <td>0</td>\n",
              "      <td>0</td>\n",
              "      <td>0</td>\n",
              "      <td>0</td>\n",
              "      <td>[]</td>\n",
              "      <td>0</td>\n",
              "      <td>0</td>\n",
              "      <td>8pm sunday night</td>\n",
              "    </tr>\n",
              "    <tr>\n",
              "      <th>338</th>\n",
              "      <td>in bed alone again that is what happen after a...</td>\n",
              "      <td>0</td>\n",
              "      <td>28</td>\n",
              "      <td>109</td>\n",
              "      <td>3.892857</td>\n",
              "      <td>8</td>\n",
              "      <td>0</td>\n",
              "      <td>1</td>\n",
              "      <td>0</td>\n",
              "      <td>1</td>\n",
              "      <td>[]</td>\n",
              "      <td>0</td>\n",
              "      <td>0</td>\n",
              "      <td>bed happens long wkend work fell asleep couch ...</td>\n",
              "    </tr>\n",
              "    <tr>\n",
              "      <th>150</th>\n",
              "      <td>just been for a jacuzzi now time to pack</td>\n",
              "      <td>0</td>\n",
              "      <td>9</td>\n",
              "      <td>33</td>\n",
              "      <td>3.666667</td>\n",
              "      <td>4</td>\n",
              "      <td>0</td>\n",
              "      <td>0</td>\n",
              "      <td>0</td>\n",
              "      <td>0</td>\n",
              "      <td>[]</td>\n",
              "      <td>0</td>\n",
              "      <td>0</td>\n",
              "      <td>jacuzzi time pack</td>\n",
              "    </tr>\n",
              "  </tbody>\n",
              "</table>\n",
              "</div>"
            ],
            "text/plain": [
              "                                                 twitts  sentiment  word_counts  char_count  avg_word_length  stop_word_len  hashtags  mentions  numeric_count  upper_counts emails  emails_count  url_flags                                     twitts_no_stop\n",
              "2357                            kellykenniff i love you          1            4          21         5.250000              2         0         1              0             0     []             0          0                                  kellykenniff love\n",
              "3559  why is twilight win thing it was so shite grrr...          1           15          79         5.266667              5         0         1              0             0     []             0          0  twilight winning things shite grrr hope mileyc...\n",
              "1622           how is it 8 p.m. on sunday night already          0            8          33         4.125000              4         0         0              0             0     []             0          0                                   8pm sunday night\n",
              "338   in bed alone again that is what happen after a...          0           28         109         3.892857              8         0         1              0             1     []             0          0  bed happens long wkend work fell asleep couch ...\n",
              "150            just been for a jacuzzi now time to pack          0            9          33         3.666667              4         0         0              0             0     []             0          0                                  jacuzzi time pack"
            ]
          },
          "metadata": {
            "tags": []
          },
          "execution_count": 105
        }
      ]
    },
    {
      "cell_type": "markdown",
      "metadata": {
        "id": "b0_ixgf_uyth"
      },
      "source": [
        "## Common words removal "
      ]
    },
    {
      "cell_type": "code",
      "metadata": {
        "id": "ITD9Jhqiuqdb"
      },
      "source": [
        "x = 'this is this okay bye'"
      ],
      "execution_count": 106,
      "outputs": []
    },
    {
      "cell_type": "code",
      "metadata": {
        "id": "zCXJ_mmyu2Fl"
      },
      "source": [
        "text = ' '.join(df['twitts'])"
      ],
      "execution_count": 107,
      "outputs": []
    },
    {
      "cell_type": "code",
      "metadata": {
        "colab": {
          "base_uri": "https://localhost:8080/"
        },
        "id": "00vQ3ReEu4Ar",
        "outputId": "d8262fd3-933f-4c68-ff19-1e039c60b5ba"
      },
      "source": [
        "len(text)"
      ],
      "execution_count": 108,
      "outputs": [
        {
          "output_type": "execute_result",
          "data": {
            "text/plain": [
              "273716"
            ]
          },
          "metadata": {
            "tags": []
          },
          "execution_count": 108
        }
      ]
    },
    {
      "cell_type": "code",
      "metadata": {
        "id": "p6SFfpkEu5p-"
      },
      "source": [
        "text = text.split()"
      ],
      "execution_count": 109,
      "outputs": []
    },
    {
      "cell_type": "code",
      "metadata": {
        "colab": {
          "base_uri": "https://localhost:8080/"
        },
        "id": "hgqqceOQu7jV",
        "outputId": "d0a2141a-c2d7-4b72-cf97-f103ab355506"
      },
      "source": [
        "len(text)"
      ],
      "execution_count": 110,
      "outputs": [
        {
          "output_type": "execute_result",
          "data": {
            "text/plain": [
              "54242"
            ]
          },
          "metadata": {
            "tags": []
          },
          "execution_count": 110
        }
      ]
    },
    {
      "cell_type": "code",
      "metadata": {
        "id": "OPE4a-3zu9Ap"
      },
      "source": [
        "freq_comm = pd.Series(text).value_counts()"
      ],
      "execution_count": 111,
      "outputs": []
    },
    {
      "cell_type": "code",
      "metadata": {
        "id": "nn_uc2CBu-0Q"
      },
      "source": [
        "f20 = freq_comm[:20]"
      ],
      "execution_count": 112,
      "outputs": []
    },
    {
      "cell_type": "code",
      "metadata": {
        "colab": {
          "base_uri": "https://localhost:8080/"
        },
        "id": "wycM7NbHvDGx",
        "outputId": "f8dc8fd2-4019-4967-c5e7-72ed614af391"
      },
      "source": [
        "f20"
      ],
      "execution_count": 113,
      "outputs": [
        {
          "output_type": "execute_result",
          "data": {
            "text/plain": [
              "i       2531\n",
              "to      1461\n",
              "the     1299\n",
              "a        957\n",
              "you      896\n",
              "not      894\n",
              "is       880\n",
              "my       825\n",
              "it       735\n",
              "and      733\n",
              "have     693\n",
              "do       618\n",
              "in       571\n",
              "for      521\n",
              "of       482\n",
              "go       480\n",
              "am       472\n",
              "that     458\n",
              "get      448\n",
              "me       432\n",
              "dtype: int64"
            ]
          },
          "metadata": {
            "tags": []
          },
          "execution_count": 113
        }
      ]
    },
    {
      "cell_type": "code",
      "metadata": {
        "id": "MJchEF37vEtP"
      },
      "source": [
        "df['twitts'] = df['twitts'].apply(lambda x: ' '.join([t for t in x.split() if t not in f20]))"
      ],
      "execution_count": 114,
      "outputs": []
    },
    {
      "cell_type": "code",
      "metadata": {
        "colab": {
          "base_uri": "https://localhost:8080/",
          "height": 467
        },
        "id": "Ym5F8gPUvHgV",
        "outputId": "cd7ecbd9-74fe-4dfb-9ef1-55e3d1641b60"
      },
      "source": [
        "df.sample(5)"
      ],
      "execution_count": 115,
      "outputs": [
        {
          "output_type": "execute_result",
          "data": {
            "text/html": [
              "<div>\n",
              "<style scoped>\n",
              "    .dataframe tbody tr th:only-of-type {\n",
              "        vertical-align: middle;\n",
              "    }\n",
              "\n",
              "    .dataframe tbody tr th {\n",
              "        vertical-align: top;\n",
              "    }\n",
              "\n",
              "    .dataframe thead th {\n",
              "        text-align: right;\n",
              "    }\n",
              "</style>\n",
              "<table border=\"1\" class=\"dataframe\">\n",
              "  <thead>\n",
              "    <tr style=\"text-align: right;\">\n",
              "      <th></th>\n",
              "      <th>twitts</th>\n",
              "      <th>sentiment</th>\n",
              "      <th>word_counts</th>\n",
              "      <th>char_count</th>\n",
              "      <th>avg_word_length</th>\n",
              "      <th>stop_word_len</th>\n",
              "      <th>hashtags</th>\n",
              "      <th>mentions</th>\n",
              "      <th>numeric_count</th>\n",
              "      <th>upper_counts</th>\n",
              "      <th>emails</th>\n",
              "      <th>emails_count</th>\n",
              "      <th>url_flags</th>\n",
              "      <th>twitts_no_stop</th>\n",
              "    </tr>\n",
              "  </thead>\n",
              "  <tbody>\n",
              "    <tr>\n",
              "      <th>2111</th>\n",
              "      <td>kameronkhaos 5 day re lucky suppose 18 bad either</td>\n",
              "      <td>1</td>\n",
              "      <td>12</td>\n",
              "      <td>57</td>\n",
              "      <td>4.750000</td>\n",
              "      <td>3</td>\n",
              "      <td>0</td>\n",
              "      <td>1</td>\n",
              "      <td>2</td>\n",
              "      <td>0</td>\n",
              "      <td>[]</td>\n",
              "      <td>0</td>\n",
              "      <td>0</td>\n",
              "      <td>kameronkhaos 5 days youre lucky suppose 18 bad</td>\n",
              "    </tr>\n",
              "    <tr>\n",
              "      <th>3891</th>\n",
              "      <td>jsjv didi wanna learn italiano after watch ang...</td>\n",
              "      <td>1</td>\n",
              "      <td>17</td>\n",
              "      <td>98</td>\n",
              "      <td>5.764706</td>\n",
              "      <td>6</td>\n",
              "      <td>1</td>\n",
              "      <td>1</td>\n",
              "      <td>0</td>\n",
              "      <td>0</td>\n",
              "      <td>[]</td>\n",
              "      <td>0</td>\n",
              "      <td>0</td>\n",
              "      <td>jsjv didi wanna learn italiano watching angels...</td>\n",
              "    </tr>\n",
              "    <tr>\n",
              "      <th>1068</th>\n",
              "      <td>amytweet glad hear are all right very good tha...</td>\n",
              "      <td>0</td>\n",
              "      <td>32</td>\n",
              "      <td>105</td>\n",
              "      <td>3.281250</td>\n",
              "      <td>21</td>\n",
              "      <td>0</td>\n",
              "      <td>1</td>\n",
              "      <td>0</td>\n",
              "      <td>0</td>\n",
              "      <td>[]</td>\n",
              "      <td>0</td>\n",
              "      <td>0</td>\n",
              "      <td>amytweets glad hear right good thanks hard wor...</td>\n",
              "    </tr>\n",
              "    <tr>\n",
              "      <th>3865</th>\n",
              "      <td>difinch well probably make her feal better but...</td>\n",
              "      <td>1</td>\n",
              "      <td>12</td>\n",
              "      <td>62</td>\n",
              "      <td>5.166667</td>\n",
              "      <td>6</td>\n",
              "      <td>0</td>\n",
              "      <td>1</td>\n",
              "      <td>0</td>\n",
              "      <td>0</td>\n",
              "      <td>[]</td>\n",
              "      <td>0</td>\n",
              "      <td>0</td>\n",
              "      <td>difinch probably feal better probably depressed</td>\n",
              "    </tr>\n",
              "    <tr>\n",
              "      <th>684</th>\n",
              "      <td>m new this so bear with meim so bored</td>\n",
              "      <td>0</td>\n",
              "      <td>10</td>\n",
              "      <td>36</td>\n",
              "      <td>3.600000</td>\n",
              "      <td>5</td>\n",
              "      <td>0</td>\n",
              "      <td>0</td>\n",
              "      <td>0</td>\n",
              "      <td>0</td>\n",
              "      <td>[]</td>\n",
              "      <td>0</td>\n",
              "      <td>0</td>\n",
              "      <td>im new bear meim bored</td>\n",
              "    </tr>\n",
              "  </tbody>\n",
              "</table>\n",
              "</div>"
            ],
            "text/plain": [
              "                                                 twitts  sentiment  word_counts  char_count  avg_word_length  stop_word_len  hashtags  mentions  numeric_count  upper_counts emails  emails_count  url_flags                                     twitts_no_stop\n",
              "2111  kameronkhaos 5 day re lucky suppose 18 bad either          1           12          57         4.750000              3         0         1              2             0     []             0          0     kameronkhaos 5 days youre lucky suppose 18 bad\n",
              "3891  jsjv didi wanna learn italiano after watch ang...          1           17          98         5.764706              6         1         1              0             0     []             0          0  jsjv didi wanna learn italiano watching angels...\n",
              "1068  amytweet glad hear are all right very good tha...          0           32         105         3.281250             21         0         1              0             0     []             0          0  amytweets glad hear right good thanks hard wor...\n",
              "3865  difinch well probably make her feal better but...          1           12          62         5.166667              6         0         1              0             0     []             0          0    difinch probably feal better probably depressed\n",
              "684               m new this so bear with meim so bored          0           10          36         3.600000              5         0         0              0             0     []             0          0                             im new bear meim bored"
            ]
          },
          "metadata": {
            "tags": []
          },
          "execution_count": 115
        }
      ]
    },
    {
      "cell_type": "markdown",
      "metadata": {
        "id": "o5RzRnrsvrCR"
      },
      "source": [
        "# Rare Word Removal"
      ]
    },
    {
      "cell_type": "code",
      "metadata": {
        "id": "khz_B0AnvI4r"
      },
      "source": [
        "rare20 = freq_comm.tail(20)"
      ],
      "execution_count": 116,
      "outputs": []
    },
    {
      "cell_type": "code",
      "metadata": {
        "id": "9UCqEgb8vwiZ"
      },
      "source": [
        "df['twitts'] = df['twitts'].apply(lambda x: ' '.join([t for t in x.split() if t not in rare20]))"
      ],
      "execution_count": 117,
      "outputs": []
    },
    {
      "cell_type": "code",
      "metadata": {
        "colab": {
          "base_uri": "https://localhost:8080/",
          "height": 450
        },
        "id": "fN1D7qUtvyhP",
        "outputId": "06bf8ff1-75ef-4011-883b-386645bad68a"
      },
      "source": [
        "df.sample(5)"
      ],
      "execution_count": 118,
      "outputs": [
        {
          "output_type": "execute_result",
          "data": {
            "text/html": [
              "<div>\n",
              "<style scoped>\n",
              "    .dataframe tbody tr th:only-of-type {\n",
              "        vertical-align: middle;\n",
              "    }\n",
              "\n",
              "    .dataframe tbody tr th {\n",
              "        vertical-align: top;\n",
              "    }\n",
              "\n",
              "    .dataframe thead th {\n",
              "        text-align: right;\n",
              "    }\n",
              "</style>\n",
              "<table border=\"1\" class=\"dataframe\">\n",
              "  <thead>\n",
              "    <tr style=\"text-align: right;\">\n",
              "      <th></th>\n",
              "      <th>twitts</th>\n",
              "      <th>sentiment</th>\n",
              "      <th>word_counts</th>\n",
              "      <th>char_count</th>\n",
              "      <th>avg_word_length</th>\n",
              "      <th>stop_word_len</th>\n",
              "      <th>hashtags</th>\n",
              "      <th>mentions</th>\n",
              "      <th>numeric_count</th>\n",
              "      <th>upper_counts</th>\n",
              "      <th>emails</th>\n",
              "      <th>emails_count</th>\n",
              "      <th>url_flags</th>\n",
              "      <th>twitts_no_stop</th>\n",
              "    </tr>\n",
              "  </thead>\n",
              "  <tbody>\n",
              "    <tr>\n",
              "      <th>3773</th>\n",
              "      <td>youngcash hey stranger sooo was invite this event</td>\n",
              "      <td>1</td>\n",
              "      <td>10</td>\n",
              "      <td>51</td>\n",
              "      <td>5.10</td>\n",
              "      <td>2</td>\n",
              "      <td>0</td>\n",
              "      <td>1</td>\n",
              "      <td>0</td>\n",
              "      <td>1</td>\n",
              "      <td>[]</td>\n",
              "      <td>0</td>\n",
              "      <td>0</td>\n",
              "      <td>youngcash hey stranger sooo invited event</td>\n",
              "    </tr>\n",
              "    <tr>\n",
              "      <th>1154</th>\n",
              "      <td>was so engross tv series eat too much ravioli ...</td>\n",
              "      <td>0</td>\n",
              "      <td>25</td>\n",
              "      <td>92</td>\n",
              "      <td>3.68</td>\n",
              "      <td>16</td>\n",
              "      <td>0</td>\n",
              "      <td>0</td>\n",
              "      <td>0</td>\n",
              "      <td>1</td>\n",
              "      <td>[]</td>\n",
              "      <td>0</td>\n",
              "      <td>0</td>\n",
              "      <td>engrossed tv series ate ravioli wouldnt surpri...</td>\n",
              "    </tr>\n",
              "    <tr>\n",
              "      <th>3537</th>\n",
              "      <td>watch quotmurder by deathquot such classic love</td>\n",
              "      <td>1</td>\n",
              "      <td>10</td>\n",
              "      <td>54</td>\n",
              "      <td>5.40</td>\n",
              "      <td>3</td>\n",
              "      <td>0</td>\n",
              "      <td>0</td>\n",
              "      <td>0</td>\n",
              "      <td>1</td>\n",
              "      <td>[]</td>\n",
              "      <td>0</td>\n",
              "      <td>0</td>\n",
              "      <td>watching quotmurder deathquot classic love</td>\n",
              "    </tr>\n",
              "    <tr>\n",
              "      <th>3124</th>\n",
              "      <td>edmasencullen ah right 108 gah your old mofo o...</td>\n",
              "      <td>1</td>\n",
              "      <td>16</td>\n",
              "      <td>68</td>\n",
              "      <td>4.25</td>\n",
              "      <td>2</td>\n",
              "      <td>0</td>\n",
              "      <td>1</td>\n",
              "      <td>1</td>\n",
              "      <td>2</td>\n",
              "      <td>[]</td>\n",
              "      <td>0</td>\n",
              "      <td>0</td>\n",
              "      <td>edmasencullen ah right 108 gah old mofo occ lo...</td>\n",
              "    </tr>\n",
              "    <tr>\n",
              "      <th>2472</th>\n",
              "      <td>chill with lady beautiful out</td>\n",
              "      <td>1</td>\n",
              "      <td>6</td>\n",
              "      <td>39</td>\n",
              "      <td>6.50</td>\n",
              "      <td>2</td>\n",
              "      <td>0</td>\n",
              "      <td>0</td>\n",
              "      <td>0</td>\n",
              "      <td>0</td>\n",
              "      <td>[]</td>\n",
              "      <td>0</td>\n",
              "      <td>0</td>\n",
              "      <td>chilling ladies beautiful</td>\n",
              "    </tr>\n",
              "  </tbody>\n",
              "</table>\n",
              "</div>"
            ],
            "text/plain": [
              "                                                 twitts  sentiment  word_counts  char_count  avg_word_length  stop_word_len  hashtags  mentions  numeric_count  upper_counts emails  emails_count  url_flags                                     twitts_no_stop\n",
              "3773  youngcash hey stranger sooo was invite this event          1           10          51             5.10              2         0         1              0             1     []             0          0          youngcash hey stranger sooo invited event\n",
              "1154  was so engross tv series eat too much ravioli ...          0           25          92             3.68             16         0         0              0             1     []             0          0  engrossed tv series ate ravioli wouldnt surpri...\n",
              "3537    watch quotmurder by deathquot such classic love          1           10          54             5.40              3         0         0              0             1     []             0          0         watching quotmurder deathquot classic love\n",
              "3124  edmasencullen ah right 108 gah your old mofo o...          1           16          68             4.25              2         0         1              1             2     []             0          0  edmasencullen ah right 108 gah old mofo occ lo...\n",
              "2472                      chill with lady beautiful out          1            6          39             6.50              2         0         0              0             0     []             0          0                          chilling ladies beautiful"
            ]
          },
          "metadata": {
            "tags": []
          },
          "execution_count": 118
        }
      ]
    },
    {
      "cell_type": "markdown",
      "metadata": {
        "id": "BW7S51hjv3_g"
      },
      "source": [
        "# Word Cloud Visualization "
      ]
    },
    {
      "cell_type": "code",
      "metadata": {
        "colab": {
          "base_uri": "https://localhost:8080/"
        },
        "id": "VuS2ybFovz09",
        "outputId": "69c434c6-7d77-4366-9308-4d9904194dbe"
      },
      "source": [
        "!pip install wordcloud"
      ],
      "execution_count": 119,
      "outputs": [
        {
          "output_type": "stream",
          "text": [
            "Requirement already satisfied: wordcloud in /usr/local/lib/python3.7/dist-packages (1.5.0)\n",
            "Requirement already satisfied: pillow in /usr/local/lib/python3.7/dist-packages (from wordcloud) (7.1.2)\n",
            "Requirement already satisfied: numpy>=1.6.1 in /usr/local/lib/python3.7/dist-packages (from wordcloud) (1.19.5)\n"
          ],
          "name": "stdout"
        }
      ]
    },
    {
      "cell_type": "code",
      "metadata": {
        "id": "pODYPSOowBSl"
      },
      "source": [
        "from wordcloud import WordCloud\n",
        "import matplotlib.pyplot as plt\n",
        "%matplotlib inline"
      ],
      "execution_count": 120,
      "outputs": []
    },
    {
      "cell_type": "code",
      "metadata": {
        "id": "gOG5sooUwDji"
      },
      "source": [
        "text = ' '.join(df['twitts'])"
      ],
      "execution_count": 121,
      "outputs": []
    },
    {
      "cell_type": "code",
      "metadata": {
        "colab": {
          "base_uri": "https://localhost:8080/"
        },
        "id": "YLew6r9YwFaP",
        "outputId": "4eafd839-7e14-49d3-a43d-b4a4f9793de8"
      },
      "source": [
        "len(text)"
      ],
      "execution_count": 122,
      "outputs": [
        {
          "output_type": "execute_result",
          "data": {
            "text/plain": [
              "220782"
            ]
          },
          "metadata": {
            "tags": []
          },
          "execution_count": 122
        }
      ]
    },
    {
      "cell_type": "code",
      "metadata": {
        "colab": {
          "base_uri": "https://localhost:8080/",
          "height": 248
        },
        "id": "2pepctBCwHO5",
        "outputId": "d96efa31-4034-4ddd-9123-0253cd73eaaf"
      },
      "source": [
        "wc = WordCloud(width=1800, height=1600).generate(text)\n",
        "plt.imshow(wc)\n",
        "plt.axis('off')\n",
        "plt.show()"
      ],
      "execution_count": 125,
      "outputs": [
        {
          "output_type": "display_data",
          "data": {
            "image/png": "[encoded data removed]",
            "text/plain": [
              "<Figure size 432x288 with 1 Axes>"
            ]
          },
          "metadata": {
            "tags": [],
            "needs_background": "light"
          }
        }
      ]
    },
    {
      "cell_type": "markdown",
      "metadata": {
        "id": "nsA_2TSOweo_"
      },
      "source": [
        "## Spelling Correction "
      ]
    },
    {
      "cell_type": "code",
      "metadata": {
        "colab": {
          "base_uri": "https://localhost:8080/"
        },
        "id": "IskAY5KhwI56",
        "outputId": "4593f429-2eb8-4c47-a433-229021d56d9e"
      },
      "source": [
        "!pip install -U textblob"
      ],
      "execution_count": 126,
      "outputs": [
        {
          "output_type": "stream",
          "text": [
            "Requirement already up-to-date: textblob in /usr/local/lib/python3.7/dist-packages (0.15.3)\n",
            "Requirement already satisfied, skipping upgrade: nltk>=3.1 in /usr/local/lib/python3.7/dist-packages (from textblob) (3.2.5)\n",
            "Requirement already satisfied, skipping upgrade: six in /usr/local/lib/python3.7/dist-packages (from nltk>=3.1->textblob) (1.15.0)\n"
          ],
          "name": "stdout"
        }
      ]
    },
    {
      "cell_type": "code",
      "metadata": {
        "colab": {
          "base_uri": "https://localhost:8080/"
        },
        "id": "PKv_HH5ewjRv",
        "outputId": "efba6e4a-462e-417e-d9e0-58c3bde8b28d"
      },
      "source": [
        "!python -m textblob.download_corpora"
      ],
      "execution_count": 127,
      "outputs": [
        {
          "output_type": "stream",
          "text": [
            "[nltk_data] Downloading package brown to /root/nltk_data...\n",
            "[nltk_data]   Unzipping corpora/brown.zip.\n",
            "[nltk_data] Downloading package punkt to /root/nltk_data...\n",
            "[nltk_data]   Unzipping tokenizers/punkt.zip.\n",
            "[nltk_data] Downloading package wordnet to /root/nltk_data...\n",
            "[nltk_data]   Unzipping corpora/wordnet.zip.\n",
            "[nltk_data] Downloading package averaged_perceptron_tagger to\n",
            "[nltk_data]     /root/nltk_data...\n",
            "[nltk_data]   Unzipping taggers/averaged_perceptron_tagger.zip.\n",
            "[nltk_data] Downloading package conll2000 to /root/nltk_data...\n",
            "[nltk_data]   Unzipping corpora/conll2000.zip.\n",
            "[nltk_data] Downloading package movie_reviews to /root/nltk_data...\n",
            "[nltk_data]   Unzipping corpora/movie_reviews.zip.\n",
            "Finished.\n"
          ],
          "name": "stdout"
        }
      ]
    },
    {
      "cell_type": "code",
      "metadata": {
        "id": "am_4HhBTwlOt"
      },
      "source": [
        "from textblob import TextBlob"
      ],
      "execution_count": 128,
      "outputs": []
    },
    {
      "cell_type": "code",
      "metadata": {
        "id": "-G4x67hewoZZ"
      },
      "source": [
        "x = 'thankks forr waching it'"
      ],
      "execution_count": 129,
      "outputs": []
    },
    {
      "cell_type": "code",
      "metadata": {
        "id": "TOIah8bVwqB8"
      },
      "source": [
        "x = TextBlob(x).correct()"
      ],
      "execution_count": 130,
      "outputs": []
    },
    {
      "cell_type": "code",
      "metadata": {
        "colab": {
          "base_uri": "https://localhost:8080/"
        },
        "id": "Y7WcqeWGwrYx",
        "outputId": "d3800c50-3952-4980-c60a-fefd99064c71"
      },
      "source": [
        "x"
      ],
      "execution_count": 131,
      "outputs": [
        {
          "output_type": "execute_result",
          "data": {
            "text/plain": [
              "TextBlob(\"thanks for watching it\")"
            ]
          },
          "metadata": {
            "tags": []
          },
          "execution_count": 131
        }
      ]
    },
    {
      "cell_type": "markdown",
      "metadata": {
        "id": "NeN1FHm7wux4"
      },
      "source": [
        "## Tokenization using TextBlob\n"
      ]
    },
    {
      "cell_type": "code",
      "metadata": {
        "id": "pSrA7nTZwspL"
      },
      "source": [
        "x = 'thanks#watching this video. please like it'"
      ],
      "execution_count": 132,
      "outputs": []
    },
    {
      "cell_type": "code",
      "metadata": {
        "colab": {
          "base_uri": "https://localhost:8080/"
        },
        "id": "m7GV6avAww1u",
        "outputId": "fd208c50-8818-4c90-f645-5f48c16f64c5"
      },
      "source": [
        "TextBlob(x).words"
      ],
      "execution_count": 133,
      "outputs": [
        {
          "output_type": "execute_result",
          "data": {
            "text/plain": [
              "WordList(['thanks', 'watching', 'this', 'video', 'please', 'like', 'it'])"
            ]
          },
          "metadata": {
            "tags": []
          },
          "execution_count": 133
        }
      ]
    },
    {
      "cell_type": "code",
      "metadata": {
        "colab": {
          "base_uri": "https://localhost:8080/"
        },
        "id": "YlwYyzbbw0PH",
        "outputId": "a16e6941-d78c-45eb-f4f5-5f367040d64a"
      },
      "source": [
        "doc = nlp(x)\n",
        "for token in doc:\n",
        "    print(token)"
      ],
      "execution_count": 134,
      "outputs": [
        {
          "output_type": "stream",
          "text": [
            "thanks#watching\n",
            "this\n",
            "video\n",
            ".\n",
            "please\n",
            "like\n",
            "it\n"
          ],
          "name": "stdout"
        }
      ]
    },
    {
      "cell_type": "markdown",
      "metadata": {
        "id": "GONxaa0aw5mj"
      },
      "source": [
        "## Detecting Nouns "
      ]
    },
    {
      "cell_type": "code",
      "metadata": {
        "id": "VZi-q8q0w439"
      },
      "source": [
        "x = 'Breaking News: Donald Trump, the president of the USA is looking to sign a deal to mine the moon'"
      ],
      "execution_count": 139,
      "outputs": []
    },
    {
      "cell_type": "code",
      "metadata": {
        "id": "izIDejv5w2JB"
      },
      "source": [
        "doc = nlp(x)"
      ],
      "execution_count": 140,
      "outputs": []
    },
    {
      "cell_type": "code",
      "metadata": {
        "colab": {
          "base_uri": "https://localhost:8080/"
        },
        "id": "W99QxTGUw9bR",
        "outputId": "3a7e6bbe-a731-46c5-efee-45e2079738e0"
      },
      "source": [
        "for noun in doc.noun_chunks:\n",
        "    print(noun)"
      ],
      "execution_count": 141,
      "outputs": [
        {
          "output_type": "stream",
          "text": [
            "Breaking News\n",
            "Donald Trump\n",
            "the president\n",
            "the USA\n",
            "a deal\n",
            "the moon\n"
          ],
          "name": "stdout"
        }
      ]
    },
    {
      "cell_type": "markdown",
      "metadata": {
        "id": "gtgTBUpYxCT4"
      },
      "source": [
        "## Language Translation and Detection"
      ]
    },
    {
      "cell_type": "code",
      "metadata": {
        "colab": {
          "base_uri": "https://localhost:8080/",
          "height": 35
        },
        "id": "qX7S4wwcw_Vo",
        "outputId": "eb584462-d6e8-4aef-82c2-e7a846311bf5"
      },
      "source": [
        "x"
      ],
      "execution_count": 142,
      "outputs": [
        {
          "output_type": "execute_result",
          "data": {
            "application/vnd.google.colaboratory.intrinsic+json": {
              "type": "string"
            },
            "text/plain": [
              "'Breaking News: Donald Trump, the president of the USA is looking to sign a deal to mine the moon'"
            ]
          },
          "metadata": {
            "tags": []
          },
          "execution_count": 142
        }
      ]
    },
    {
      "cell_type": "code",
      "metadata": {
        "id": "_0TG6vTKxELk"
      },
      "source": [
        "tb = TextBlob(x)"
      ],
      "execution_count": 143,
      "outputs": []
    },
    {
      "cell_type": "code",
      "metadata": {
        "colab": {
          "base_uri": "https://localhost:8080/",
          "height": 35
        },
        "id": "0sJdUTT1xJ-e",
        "outputId": "fc2e73c5-09a0-4841-f17b-de7fccc1e275"
      },
      "source": [
        "tb.detect_language()"
      ],
      "execution_count": 144,
      "outputs": [
        {
          "output_type": "execute_result",
          "data": {
            "application/vnd.google.colaboratory.intrinsic+json": {
              "type": "string"
            },
            "text/plain": [
              "'en'"
            ]
          },
          "metadata": {
            "tags": []
          },
          "execution_count": 144
        }
      ]
    },
    {
      "cell_type": "code",
      "metadata": {
        "colab": {
          "base_uri": "https://localhost:8080/"
        },
        "id": "8pOVj5WlxMP2",
        "outputId": "23027dbd-8cd9-4248-99bd-89a8d87b06e2"
      },
      "source": [
        "tb.translate(to = 'zh')"
      ],
      "execution_count": 145,
      "outputs": [
        {
          "output_type": "execute_result",
          "data": {
            "text/plain": [
              "TextBlob(\"最新消息：美国总统唐纳德·特朗普（Donald Trump）希望签署一项开采月球的协议\")"
            ]
          },
          "metadata": {
            "tags": []
          },
          "execution_count": 145
        }
      ]
    },
    {
      "cell_type": "markdown",
      "metadata": {
        "id": "aFdBn7B_xRYC"
      },
      "source": [
        "## Use TextBlob's Inbuilt Sentiment Classifier "
      ]
    },
    {
      "cell_type": "code",
      "metadata": {
        "id": "aKfwVUH7xNwS"
      },
      "source": [
        "from textblob.sentiments import NaiveBayesAnalyzer"
      ],
      "execution_count": 146,
      "outputs": []
    },
    {
      "cell_type": "code",
      "metadata": {
        "id": "MOxkSQo2xTlF"
      },
      "source": [
        "x = 'we all stands together. we are gonna win this fight'"
      ],
      "execution_count": 147,
      "outputs": []
    },
    {
      "cell_type": "code",
      "metadata": {
        "id": "U2fj5ZZtxVrq"
      },
      "source": [
        "tb = TextBlob(x, analyzer=NaiveBayesAnalyzer())"
      ],
      "execution_count": 148,
      "outputs": []
    },
    {
      "cell_type": "code",
      "metadata": {
        "colab": {
          "base_uri": "https://localhost:8080/"
        },
        "id": "InWI94XgxW7s",
        "outputId": "7dc6b0cb-3987-445d-9ec6-6054c04e9bb7"
      },
      "source": [
        "tb.sentiment"
      ],
      "execution_count": 149,
      "outputs": [
        {
          "output_type": "execute_result",
          "data": {
            "text/plain": [
              "Sentiment(classification='pos', p_pos=0.9180581552428241, p_neg=0.0819418447571765)"
            ]
          },
          "metadata": {
            "tags": []
          },
          "execution_count": 149
        }
      ]
    },
    {
      "cell_type": "code",
      "metadata": {
        "id": "O-RJbCh7xYlv"
      },
      "source": [
        ""
      ],
      "execution_count": null,
      "outputs": []
    }
  ]
}