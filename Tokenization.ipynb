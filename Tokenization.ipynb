{
  "nbformat": 4,
  "nbformat_minor": 0,
  "metadata": {
    "colab": {
      "name": "Tokenization.ipynb",
      "provenance": [],
      "authorship_tag": "ABX9TyMRnF7BR+2Wu0pJnn6bRot3",
      "include_colab_link": true
    },
    "kernelspec": {
      "name": "python3",
      "display_name": "Python 3"
    },
    "language_info": {
      "name": "python"
    }
  },
  "cells": [
    {
      "cell_type": "markdown",
      "metadata": {
        "id": "view-in-github",
        "colab_type": "text"
      },
      "source": [
        "<a href=\"https://colab.research.google.com/github/chitreshkr/Natural-Language-Processing-Python/blob/main/Tokenization.ipynb\" target=\"_parent\"><img src=\"https://colab.research.google.com/assets/colab-badge.svg\" alt=\"Open In Colab\"/></a>"
      ]
    },
    {
      "cell_type": "code",
      "metadata": {
        "colab": {
          "base_uri": "https://localhost:8080/"
        },
        "id": "GsdyznJHi2LB",
        "outputId": "7db0e95a-f58c-4556-8b3e-7484bbb43ad1"
      },
      "source": [
        "!pip uninstall spacy\n"
      ],
      "execution_count": 1,
      "outputs": [
        {
          "output_type": "stream",
          "text": [
            "Uninstalling spacy-2.2.4:\n",
            "  Would remove:\n",
            "    /usr/local/bin/spacy\n",
            "    /usr/local/lib/python3.7/dist-packages/bin/*\n",
            "    /usr/local/lib/python3.7/dist-packages/spacy-2.2.4.dist-info/*\n",
            "    /usr/local/lib/python3.7/dist-packages/spacy/*\n",
            "  Would not remove (might be manually added):\n",
            "    /usr/local/lib/python3.7/dist-packages/bin/theano_cache.py\n",
            "    /usr/local/lib/python3.7/dist-packages/bin/theano_nose.py\n",
            "Proceed (y/n)? y\n",
            "  Successfully uninstalled spacy-2.2.4\n"
          ],
          "name": "stdout"
        }
      ]
    },
    {
      "cell_type": "code",
      "metadata": {
        "colab": {
          "base_uri": "https://localhost:8080/"
        },
        "id": "-5bEk519i71i",
        "outputId": "cc0a0e6f-3ea9-4ec5-fe88-0c2f105e10cb"
      },
      "source": [
        "!pip install spacy==2.2.4"
      ],
      "execution_count": 2,
      "outputs": [
        {
          "output_type": "stream",
          "text": [
            "Collecting spacy==2.2.4\n",
            "\u001b[?25l  Downloading https://files.pythonhosted.org/packages/37/ff/2a7c89f2069173a1ecbccd95d2a23fc42f89045b33f8a71ef57b360a3de4/spacy-2.2.4-cp37-cp37m-manylinux1_x86_64.whl (10.6MB)\n",
            "\u001b[K     |████████████████████████████████| 10.6MB 5.6MB/s \n",
            "\u001b[?25hRequirement already satisfied: cymem<2.1.0,>=2.0.2 in /usr/local/lib/python3.7/dist-packages (from spacy==2.2.4) (2.0.5)\n",
            "Requirement already satisfied: blis<0.5.0,>=0.4.0 in /usr/local/lib/python3.7/dist-packages (from spacy==2.2.4) (0.4.1)\n",
            "Requirement already satisfied: plac<1.2.0,>=0.9.6 in /usr/local/lib/python3.7/dist-packages (from spacy==2.2.4) (1.1.3)\n",
            "Requirement already satisfied: wasabi<1.1.0,>=0.4.0 in /usr/local/lib/python3.7/dist-packages (from spacy==2.2.4) (0.8.2)\n",
            "Requirement already satisfied: srsly<1.1.0,>=1.0.2 in /usr/local/lib/python3.7/dist-packages (from spacy==2.2.4) (1.0.5)\n",
            "Requirement already satisfied: murmurhash<1.1.0,>=0.28.0 in /usr/local/lib/python3.7/dist-packages (from spacy==2.2.4) (1.0.5)\n",
            "Requirement already satisfied: numpy>=1.15.0 in /usr/local/lib/python3.7/dist-packages (from spacy==2.2.4) (1.19.5)\n",
            "Requirement already satisfied: preshed<3.1.0,>=3.0.2 in /usr/local/lib/python3.7/dist-packages (from spacy==2.2.4) (3.0.5)\n",
            "Requirement already satisfied: requests<3.0.0,>=2.13.0 in /usr/local/lib/python3.7/dist-packages (from spacy==2.2.4) (2.23.0)\n",
            "Requirement already satisfied: setuptools in /usr/local/lib/python3.7/dist-packages (from spacy==2.2.4) (54.2.0)\n",
            "Requirement already satisfied: catalogue<1.1.0,>=0.0.7 in /usr/local/lib/python3.7/dist-packages (from spacy==2.2.4) (1.0.0)\n",
            "Requirement already satisfied: thinc==7.4.0 in /usr/local/lib/python3.7/dist-packages (from spacy==2.2.4) (7.4.0)\n",
            "Requirement already satisfied: tqdm<5.0.0,>=4.38.0 in /usr/local/lib/python3.7/dist-packages (from spacy==2.2.4) (4.41.1)\n",
            "Requirement already satisfied: urllib3!=1.25.0,!=1.25.1,<1.26,>=1.21.1 in /usr/local/lib/python3.7/dist-packages (from requests<3.0.0,>=2.13.0->spacy==2.2.4) (1.24.3)\n",
            "Requirement already satisfied: chardet<4,>=3.0.2 in /usr/local/lib/python3.7/dist-packages (from requests<3.0.0,>=2.13.0->spacy==2.2.4) (3.0.4)\n",
            "Requirement already satisfied: certifi>=2017.4.17 in /usr/local/lib/python3.7/dist-packages (from requests<3.0.0,>=2.13.0->spacy==2.2.4) (2020.12.5)\n",
            "Requirement already satisfied: idna<3,>=2.5 in /usr/local/lib/python3.7/dist-packages (from requests<3.0.0,>=2.13.0->spacy==2.2.4) (2.10)\n",
            "Requirement already satisfied: importlib-metadata>=0.20; python_version < \"3.8\" in /usr/local/lib/python3.7/dist-packages (from catalogue<1.1.0,>=0.0.7->spacy==2.2.4) (3.10.1)\n",
            "Requirement already satisfied: zipp>=0.5 in /usr/local/lib/python3.7/dist-packages (from importlib-metadata>=0.20; python_version < \"3.8\"->catalogue<1.1.0,>=0.0.7->spacy==2.2.4) (3.4.1)\n",
            "Requirement already satisfied: typing-extensions>=3.6.4; python_version < \"3.8\" in /usr/local/lib/python3.7/dist-packages (from importlib-metadata>=0.20; python_version < \"3.8\"->catalogue<1.1.0,>=0.0.7->spacy==2.2.4) (3.7.4.3)\n",
            "Installing collected packages: spacy\n",
            "Successfully installed spacy-2.2.4\n"
          ],
          "name": "stdout"
        }
      ]
    },
    {
      "cell_type": "code",
      "metadata": {
        "colab": {
          "base_uri": "https://localhost:8080/"
        },
        "id": "a8YF5NPMjCDx",
        "outputId": "88ef31e6-b581-41b2-ec6e-e8cb00616e8d"
      },
      "source": [
        "!pip install https://github.com/explosion/spacy-models/releases/download/en_core_web_sm-2.2.0/en_core_web_sm-2.2.0.tar.gz\n"
      ],
      "execution_count": 3,
      "outputs": [
        {
          "output_type": "stream",
          "text": [
            "Collecting https://github.com/explosion/spacy-models/releases/download/en_core_web_sm-2.2.0/en_core_web_sm-2.2.0.tar.gz\n",
            "\u001b[?25l  Downloading https://github.com/explosion/spacy-models/releases/download/en_core_web_sm-2.2.0/en_core_web_sm-2.2.0.tar.gz (12.0MB)\n",
            "\u001b[K     |████████████████████████████████| 12.0MB 332kB/s \n",
            "\u001b[?25hRequirement already satisfied: spacy>=2.2.0 in /usr/local/lib/python3.7/dist-packages (from en-core-web-sm==2.2.0) (2.2.4)\n",
            "Requirement already satisfied: requests<3.0.0,>=2.13.0 in /usr/local/lib/python3.7/dist-packages (from spacy>=2.2.0->en-core-web-sm==2.2.0) (2.23.0)\n",
            "Requirement already satisfied: cymem<2.1.0,>=2.0.2 in /usr/local/lib/python3.7/dist-packages (from spacy>=2.2.0->en-core-web-sm==2.2.0) (2.0.5)\n",
            "Requirement already satisfied: tqdm<5.0.0,>=4.38.0 in /usr/local/lib/python3.7/dist-packages (from spacy>=2.2.0->en-core-web-sm==2.2.0) (4.41.1)\n",
            "Requirement already satisfied: catalogue<1.1.0,>=0.0.7 in /usr/local/lib/python3.7/dist-packages (from spacy>=2.2.0->en-core-web-sm==2.2.0) (1.0.0)\n",
            "Requirement already satisfied: blis<0.5.0,>=0.4.0 in /usr/local/lib/python3.7/dist-packages (from spacy>=2.2.0->en-core-web-sm==2.2.0) (0.4.1)\n",
            "Requirement already satisfied: preshed<3.1.0,>=3.0.2 in /usr/local/lib/python3.7/dist-packages (from spacy>=2.2.0->en-core-web-sm==2.2.0) (3.0.5)\n",
            "Requirement already satisfied: murmurhash<1.1.0,>=0.28.0 in /usr/local/lib/python3.7/dist-packages (from spacy>=2.2.0->en-core-web-sm==2.2.0) (1.0.5)\n",
            "Requirement already satisfied: wasabi<1.1.0,>=0.4.0 in /usr/local/lib/python3.7/dist-packages (from spacy>=2.2.0->en-core-web-sm==2.2.0) (0.8.2)\n",
            "Requirement already satisfied: thinc==7.4.0 in /usr/local/lib/python3.7/dist-packages (from spacy>=2.2.0->en-core-web-sm==2.2.0) (7.4.0)\n",
            "Requirement already satisfied: plac<1.2.0,>=0.9.6 in /usr/local/lib/python3.7/dist-packages (from spacy>=2.2.0->en-core-web-sm==2.2.0) (1.1.3)\n",
            "Requirement already satisfied: numpy>=1.15.0 in /usr/local/lib/python3.7/dist-packages (from spacy>=2.2.0->en-core-web-sm==2.2.0) (1.19.5)\n",
            "Requirement already satisfied: setuptools in /usr/local/lib/python3.7/dist-packages (from spacy>=2.2.0->en-core-web-sm==2.2.0) (54.2.0)\n",
            "Requirement already satisfied: srsly<1.1.0,>=1.0.2 in /usr/local/lib/python3.7/dist-packages (from spacy>=2.2.0->en-core-web-sm==2.2.0) (1.0.5)\n",
            "Requirement already satisfied: chardet<4,>=3.0.2 in /usr/local/lib/python3.7/dist-packages (from requests<3.0.0,>=2.13.0->spacy>=2.2.0->en-core-web-sm==2.2.0) (3.0.4)\n",
            "Requirement already satisfied: urllib3!=1.25.0,!=1.25.1,<1.26,>=1.21.1 in /usr/local/lib/python3.7/dist-packages (from requests<3.0.0,>=2.13.0->spacy>=2.2.0->en-core-web-sm==2.2.0) (1.24.3)\n",
            "Requirement already satisfied: certifi>=2017.4.17 in /usr/local/lib/python3.7/dist-packages (from requests<3.0.0,>=2.13.0->spacy>=2.2.0->en-core-web-sm==2.2.0) (2020.12.5)\n",
            "Requirement already satisfied: idna<3,>=2.5 in /usr/local/lib/python3.7/dist-packages (from requests<3.0.0,>=2.13.0->spacy>=2.2.0->en-core-web-sm==2.2.0) (2.10)\n",
            "Requirement already satisfied: importlib-metadata>=0.20; python_version < \"3.8\" in /usr/local/lib/python3.7/dist-packages (from catalogue<1.1.0,>=0.0.7->spacy>=2.2.0->en-core-web-sm==2.2.0) (3.10.1)\n",
            "Requirement already satisfied: typing-extensions>=3.6.4; python_version < \"3.8\" in /usr/local/lib/python3.7/dist-packages (from importlib-metadata>=0.20; python_version < \"3.8\"->catalogue<1.1.0,>=0.0.7->spacy>=2.2.0->en-core-web-sm==2.2.0) (3.7.4.3)\n",
            "Requirement already satisfied: zipp>=0.5 in /usr/local/lib/python3.7/dist-packages (from importlib-metadata>=0.20; python_version < \"3.8\"->catalogue<1.1.0,>=0.0.7->spacy>=2.2.0->en-core-web-sm==2.2.0) (3.4.1)\n",
            "Building wheels for collected packages: en-core-web-sm\n",
            "  Building wheel for en-core-web-sm (setup.py) ... \u001b[?25l\u001b[?25hdone\n",
            "  Created wheel for en-core-web-sm: filename=en_core_web_sm-2.2.0-cp37-none-any.whl size=12019125 sha256=03865b1369087b038da77778cbbfe65b2e7106d72e8662d3fc395c3a3147c8c1\n",
            "  Stored in directory: /root/.cache/pip/wheels/48/5c/1c/15f9d02afc8221a668d2172446dd8467b20cdb9aef80a172a4\n",
            "Successfully built en-core-web-sm\n",
            "Installing collected packages: en-core-web-sm\n",
            "  Found existing installation: en-core-web-sm 2.2.5\n",
            "    Uninstalling en-core-web-sm-2.2.5:\n",
            "      Successfully uninstalled en-core-web-sm-2.2.5\n",
            "Successfully installed en-core-web-sm-2.2.0\n"
          ],
          "name": "stdout"
        }
      ]
    },
    {
      "cell_type": "code",
      "metadata": {
        "id": "J6xNnnsajF06"
      },
      "source": [
        "import spacy"
      ],
      "execution_count": 4,
      "outputs": []
    },
    {
      "cell_type": "code",
      "metadata": {
        "id": "IvOTaKf5jLC0"
      },
      "source": [
        "nlp = spacy.load('en_core_web_sm')"
      ],
      "execution_count": 6,
      "outputs": []
    },
    {
      "cell_type": "code",
      "metadata": {
        "id": "mkoWUfivjRW0"
      },
      "source": [
        "#help(nlp)"
      ],
      "execution_count": 8,
      "outputs": []
    },
    {
      "cell_type": "code",
      "metadata": {
        "id": "053q54qkjZxX"
      },
      "source": [
        "text = \"Apple is looking for buying UK startup for 1 billion dollars\""
      ],
      "execution_count": 9,
      "outputs": []
    },
    {
      "cell_type": "code",
      "metadata": {
        "id": "WyuBJXAHjuvm"
      },
      "source": [
        "doc = nlp(text)"
      ],
      "execution_count": 10,
      "outputs": []
    },
    {
      "cell_type": "code",
      "metadata": {
        "id": "tEeZDLu5jx4F"
      },
      "source": [
        "#help(doc)"
      ],
      "execution_count": 12,
      "outputs": []
    },
    {
      "cell_type": "code",
      "metadata": {
        "colab": {
          "base_uri": "https://localhost:8080/"
        },
        "id": "6mWiO-VZj0Vu",
        "outputId": "bb2fcbd7-3005-4a13-eb3e-4c385375146d"
      },
      "source": [
        "for token in doc:\n",
        "  print(token.text)"
      ],
      "execution_count": 13,
      "outputs": [
        {
          "output_type": "stream",
          "text": [
            "Apple\n",
            "is\n",
            "looking\n",
            "for\n",
            "buying\n",
            "UK\n",
            "startup\n",
            "for\n",
            "1\n",
            "billion\n",
            "dollars\n"
          ],
          "name": "stdout"
        }
      ]
    },
    {
      "cell_type": "markdown",
      "metadata": {
        "id": "GGfKacu9kWD0"
      },
      "source": [
        "# Parts of Speech Tagging"
      ]
    },
    {
      "cell_type": "code",
      "metadata": {
        "colab": {
          "base_uri": "https://localhost:8080/"
        },
        "id": "nPYSj_jAkH8y",
        "outputId": "df563cee-105e-42ff-8513-18910aad5ea0"
      },
      "source": [
        "for token in doc:\n",
        "  print(f'{token.text:{15}} {token.pos_}')"
      ],
      "execution_count": 19,
      "outputs": [
        {
          "output_type": "stream",
          "text": [
            "Apple           PROPN\n",
            "is              AUX\n",
            "looking         VERB\n",
            "for             ADP\n",
            "buying          VERB\n",
            "UK              PROPN\n",
            "startup         NOUN\n",
            "for             ADP\n",
            "1               NUM\n",
            "billion         NUM\n",
            "dollars         NOUN\n"
          ],
          "name": "stdout"
        }
      ]
    },
    {
      "cell_type": "markdown",
      "metadata": {
        "id": "Do6LN25MlFUG"
      },
      "source": [
        "# Visuaization"
      ]
    },
    {
      "cell_type": "code",
      "metadata": {
        "id": "RvuVtJ6okfXD"
      },
      "source": [
        "from spacy import displacy"
      ],
      "execution_count": 20,
      "outputs": []
    },
    {
      "cell_type": "code",
      "metadata": {
        "colab": {
          "base_uri": "https://localhost:8080/",
          "height": 338
        },
        "id": "aY1TqttZmPia",
        "outputId": "8ac4519c-53c5-428f-cb67-3b8ba8ef064e"
      },
      "source": [
        "displacy.render(doc, style='dep', jupyter=True, options={'distance': 120})"
      ],
      "execution_count": 30,
      "outputs": [
        {
          "output_type": "display_data",
          "data": {
            "text/html": [
              "<span class=\"tex2jax_ignore\"><svg xmlns=\"http://www.w3.org/2000/svg\" xmlns:xlink=\"http://www.w3.org/1999/xlink\" xml:lang=\"en\" id=\"efb50131f0f044bea735b041e21e598e-0\" class=\"displacy\" width=\"1370\" height=\"317.0\" direction=\"ltr\" style=\"max-width: none; height: 317.0px; color: #000000; background: #ffffff; font-family: Arial; direction: ltr\">\n",
              "<text class=\"displacy-token\" fill=\"currentColor\" text-anchor=\"middle\" y=\"227.0\">\n",
              "    <tspan class=\"displacy-word\" fill=\"currentColor\" x=\"50\">Apple</tspan>\n",
              "    <tspan class=\"displacy-tag\" dy=\"2em\" fill=\"currentColor\" x=\"50\">PROPN</tspan>\n",
              "</text>\n",
              "\n",
              "<text class=\"displacy-token\" fill=\"currentColor\" text-anchor=\"middle\" y=\"227.0\">\n",
              "    <tspan class=\"displacy-word\" fill=\"currentColor\" x=\"170\">is</tspan>\n",
              "    <tspan class=\"displacy-tag\" dy=\"2em\" fill=\"currentColor\" x=\"170\">AUX</tspan>\n",
              "</text>\n",
              "\n",
              "<text class=\"displacy-token\" fill=\"currentColor\" text-anchor=\"middle\" y=\"227.0\">\n",
              "    <tspan class=\"displacy-word\" fill=\"currentColor\" x=\"290\">looking</tspan>\n",
              "    <tspan class=\"displacy-tag\" dy=\"2em\" fill=\"currentColor\" x=\"290\">VERB</tspan>\n",
              "</text>\n",
              "\n",
              "<text class=\"displacy-token\" fill=\"currentColor\" text-anchor=\"middle\" y=\"227.0\">\n",
              "    <tspan class=\"displacy-word\" fill=\"currentColor\" x=\"410\">for</tspan>\n",
              "    <tspan class=\"displacy-tag\" dy=\"2em\" fill=\"currentColor\" x=\"410\">ADP</tspan>\n",
              "</text>\n",
              "\n",
              "<text class=\"displacy-token\" fill=\"currentColor\" text-anchor=\"middle\" y=\"227.0\">\n",
              "    <tspan class=\"displacy-word\" fill=\"currentColor\" x=\"530\">buying</tspan>\n",
              "    <tspan class=\"displacy-tag\" dy=\"2em\" fill=\"currentColor\" x=\"530\">VERB</tspan>\n",
              "</text>\n",
              "\n",
              "<text class=\"displacy-token\" fill=\"currentColor\" text-anchor=\"middle\" y=\"227.0\">\n",
              "    <tspan class=\"displacy-word\" fill=\"currentColor\" x=\"650\">UK</tspan>\n",
              "    <tspan class=\"displacy-tag\" dy=\"2em\" fill=\"currentColor\" x=\"650\">PROPN</tspan>\n",
              "</text>\n",
              "\n",
              "<text class=\"displacy-token\" fill=\"currentColor\" text-anchor=\"middle\" y=\"227.0\">\n",
              "    <tspan class=\"displacy-word\" fill=\"currentColor\" x=\"770\">startup</tspan>\n",
              "    <tspan class=\"displacy-tag\" dy=\"2em\" fill=\"currentColor\" x=\"770\">NOUN</tspan>\n",
              "</text>\n",
              "\n",
              "<text class=\"displacy-token\" fill=\"currentColor\" text-anchor=\"middle\" y=\"227.0\">\n",
              "    <tspan class=\"displacy-word\" fill=\"currentColor\" x=\"890\">for</tspan>\n",
              "    <tspan class=\"displacy-tag\" dy=\"2em\" fill=\"currentColor\" x=\"890\">ADP</tspan>\n",
              "</text>\n",
              "\n",
              "<text class=\"displacy-token\" fill=\"currentColor\" text-anchor=\"middle\" y=\"227.0\">\n",
              "    <tspan class=\"displacy-word\" fill=\"currentColor\" x=\"1010\">1</tspan>\n",
              "    <tspan class=\"displacy-tag\" dy=\"2em\" fill=\"currentColor\" x=\"1010\">NUM</tspan>\n",
              "</text>\n",
              "\n",
              "<text class=\"displacy-token\" fill=\"currentColor\" text-anchor=\"middle\" y=\"227.0\">\n",
              "    <tspan class=\"displacy-word\" fill=\"currentColor\" x=\"1130\">billion</tspan>\n",
              "    <tspan class=\"displacy-tag\" dy=\"2em\" fill=\"currentColor\" x=\"1130\">NUM</tspan>\n",
              "</text>\n",
              "\n",
              "<text class=\"displacy-token\" fill=\"currentColor\" text-anchor=\"middle\" y=\"227.0\">\n",
              "    <tspan class=\"displacy-word\" fill=\"currentColor\" x=\"1250\">dollars</tspan>\n",
              "    <tspan class=\"displacy-tag\" dy=\"2em\" fill=\"currentColor\" x=\"1250\">NOUN</tspan>\n",
              "</text>\n",
              "\n",
              "<g class=\"displacy-arrow\">\n",
              "    <path class=\"displacy-arc\" id=\"arrow-efb50131f0f044bea735b041e21e598e-0-0\" stroke-width=\"2px\" d=\"M70,182.0 C70,62.0 285.0,62.0 285.0,182.0\" fill=\"none\" stroke=\"currentColor\"/>\n",
              "    <text dy=\"1.25em\" style=\"font-size: 0.8em; letter-spacing: 1px\">\n",
              "        <textPath xlink:href=\"#arrow-efb50131f0f044bea735b041e21e598e-0-0\" class=\"displacy-label\" startOffset=\"50%\" side=\"left\" fill=\"currentColor\" text-anchor=\"middle\">nsubj</textPath>\n",
              "    </text>\n",
              "    <path class=\"displacy-arrowhead\" d=\"M70,184.0 L62,172.0 78,172.0\" fill=\"currentColor\"/>\n",
              "</g>\n",
              "\n",
              "<g class=\"displacy-arrow\">\n",
              "    <path class=\"displacy-arc\" id=\"arrow-efb50131f0f044bea735b041e21e598e-0-1\" stroke-width=\"2px\" d=\"M190,182.0 C190,122.0 280.0,122.0 280.0,182.0\" fill=\"none\" stroke=\"currentColor\"/>\n",
              "    <text dy=\"1.25em\" style=\"font-size: 0.8em; letter-spacing: 1px\">\n",
              "        <textPath xlink:href=\"#arrow-efb50131f0f044bea735b041e21e598e-0-1\" class=\"displacy-label\" startOffset=\"50%\" side=\"left\" fill=\"currentColor\" text-anchor=\"middle\">aux</textPath>\n",
              "    </text>\n",
              "    <path class=\"displacy-arrowhead\" d=\"M190,184.0 L182,172.0 198,172.0\" fill=\"currentColor\"/>\n",
              "</g>\n",
              "\n",
              "<g class=\"displacy-arrow\">\n",
              "    <path class=\"displacy-arc\" id=\"arrow-efb50131f0f044bea735b041e21e598e-0-2\" stroke-width=\"2px\" d=\"M310,182.0 C310,122.0 400.0,122.0 400.0,182.0\" fill=\"none\" stroke=\"currentColor\"/>\n",
              "    <text dy=\"1.25em\" style=\"font-size: 0.8em; letter-spacing: 1px\">\n",
              "        <textPath xlink:href=\"#arrow-efb50131f0f044bea735b041e21e598e-0-2\" class=\"displacy-label\" startOffset=\"50%\" side=\"left\" fill=\"currentColor\" text-anchor=\"middle\">prep</textPath>\n",
              "    </text>\n",
              "    <path class=\"displacy-arrowhead\" d=\"M400.0,184.0 L408.0,172.0 392.0,172.0\" fill=\"currentColor\"/>\n",
              "</g>\n",
              "\n",
              "<g class=\"displacy-arrow\">\n",
              "    <path class=\"displacy-arc\" id=\"arrow-efb50131f0f044bea735b041e21e598e-0-3\" stroke-width=\"2px\" d=\"M430,182.0 C430,122.0 520.0,122.0 520.0,182.0\" fill=\"none\" stroke=\"currentColor\"/>\n",
              "    <text dy=\"1.25em\" style=\"font-size: 0.8em; letter-spacing: 1px\">\n",
              "        <textPath xlink:href=\"#arrow-efb50131f0f044bea735b041e21e598e-0-3\" class=\"displacy-label\" startOffset=\"50%\" side=\"left\" fill=\"currentColor\" text-anchor=\"middle\">pcomp</textPath>\n",
              "    </text>\n",
              "    <path class=\"displacy-arrowhead\" d=\"M520.0,184.0 L528.0,172.0 512.0,172.0\" fill=\"currentColor\"/>\n",
              "</g>\n",
              "\n",
              "<g class=\"displacy-arrow\">\n",
              "    <path class=\"displacy-arc\" id=\"arrow-efb50131f0f044bea735b041e21e598e-0-4\" stroke-width=\"2px\" d=\"M670,182.0 C670,122.0 760.0,122.0 760.0,182.0\" fill=\"none\" stroke=\"currentColor\"/>\n",
              "    <text dy=\"1.25em\" style=\"font-size: 0.8em; letter-spacing: 1px\">\n",
              "        <textPath xlink:href=\"#arrow-efb50131f0f044bea735b041e21e598e-0-4\" class=\"displacy-label\" startOffset=\"50%\" side=\"left\" fill=\"currentColor\" text-anchor=\"middle\">compound</textPath>\n",
              "    </text>\n",
              "    <path class=\"displacy-arrowhead\" d=\"M670,184.0 L662,172.0 678,172.0\" fill=\"currentColor\"/>\n",
              "</g>\n",
              "\n",
              "<g class=\"displacy-arrow\">\n",
              "    <path class=\"displacy-arc\" id=\"arrow-efb50131f0f044bea735b041e21e598e-0-5\" stroke-width=\"2px\" d=\"M550,182.0 C550,62.0 765.0,62.0 765.0,182.0\" fill=\"none\" stroke=\"currentColor\"/>\n",
              "    <text dy=\"1.25em\" style=\"font-size: 0.8em; letter-spacing: 1px\">\n",
              "        <textPath xlink:href=\"#arrow-efb50131f0f044bea735b041e21e598e-0-5\" class=\"displacy-label\" startOffset=\"50%\" side=\"left\" fill=\"currentColor\" text-anchor=\"middle\">dobj</textPath>\n",
              "    </text>\n",
              "    <path class=\"displacy-arrowhead\" d=\"M765.0,184.0 L773.0,172.0 757.0,172.0\" fill=\"currentColor\"/>\n",
              "</g>\n",
              "\n",
              "<g class=\"displacy-arrow\">\n",
              "    <path class=\"displacy-arc\" id=\"arrow-efb50131f0f044bea735b041e21e598e-0-6\" stroke-width=\"2px\" d=\"M550,182.0 C550,2.0 890.0,2.0 890.0,182.0\" fill=\"none\" stroke=\"currentColor\"/>\n",
              "    <text dy=\"1.25em\" style=\"font-size: 0.8em; letter-spacing: 1px\">\n",
              "        <textPath xlink:href=\"#arrow-efb50131f0f044bea735b041e21e598e-0-6\" class=\"displacy-label\" startOffset=\"50%\" side=\"left\" fill=\"currentColor\" text-anchor=\"middle\">prep</textPath>\n",
              "    </text>\n",
              "    <path class=\"displacy-arrowhead\" d=\"M890.0,184.0 L898.0,172.0 882.0,172.0\" fill=\"currentColor\"/>\n",
              "</g>\n",
              "\n",
              "<g class=\"displacy-arrow\">\n",
              "    <path class=\"displacy-arc\" id=\"arrow-efb50131f0f044bea735b041e21e598e-0-7\" stroke-width=\"2px\" d=\"M1030,182.0 C1030,122.0 1120.0,122.0 1120.0,182.0\" fill=\"none\" stroke=\"currentColor\"/>\n",
              "    <text dy=\"1.25em\" style=\"font-size: 0.8em; letter-spacing: 1px\">\n",
              "        <textPath xlink:href=\"#arrow-efb50131f0f044bea735b041e21e598e-0-7\" class=\"displacy-label\" startOffset=\"50%\" side=\"left\" fill=\"currentColor\" text-anchor=\"middle\">compound</textPath>\n",
              "    </text>\n",
              "    <path class=\"displacy-arrowhead\" d=\"M1030,184.0 L1022,172.0 1038,172.0\" fill=\"currentColor\"/>\n",
              "</g>\n",
              "\n",
              "<g class=\"displacy-arrow\">\n",
              "    <path class=\"displacy-arc\" id=\"arrow-efb50131f0f044bea735b041e21e598e-0-8\" stroke-width=\"2px\" d=\"M1150,182.0 C1150,122.0 1240.0,122.0 1240.0,182.0\" fill=\"none\" stroke=\"currentColor\"/>\n",
              "    <text dy=\"1.25em\" style=\"font-size: 0.8em; letter-spacing: 1px\">\n",
              "        <textPath xlink:href=\"#arrow-efb50131f0f044bea735b041e21e598e-0-8\" class=\"displacy-label\" startOffset=\"50%\" side=\"left\" fill=\"currentColor\" text-anchor=\"middle\">nummod</textPath>\n",
              "    </text>\n",
              "    <path class=\"displacy-arrowhead\" d=\"M1150,184.0 L1142,172.0 1158,172.0\" fill=\"currentColor\"/>\n",
              "</g>\n",
              "\n",
              "<g class=\"displacy-arrow\">\n",
              "    <path class=\"displacy-arc\" id=\"arrow-efb50131f0f044bea735b041e21e598e-0-9\" stroke-width=\"2px\" d=\"M910,182.0 C910,2.0 1250.0,2.0 1250.0,182.0\" fill=\"none\" stroke=\"currentColor\"/>\n",
              "    <text dy=\"1.25em\" style=\"font-size: 0.8em; letter-spacing: 1px\">\n",
              "        <textPath xlink:href=\"#arrow-efb50131f0f044bea735b041e21e598e-0-9\" class=\"displacy-label\" startOffset=\"50%\" side=\"left\" fill=\"currentColor\" text-anchor=\"middle\">pobj</textPath>\n",
              "    </text>\n",
              "    <path class=\"displacy-arrowhead\" d=\"M1250.0,184.0 L1258.0,172.0 1242.0,172.0\" fill=\"currentColor\"/>\n",
              "</g>\n",
              "</svg></span>"
            ],
            "text/plain": [
              "<IPython.core.display.HTML object>"
            ]
          },
          "metadata": {
            "tags": []
          }
        }
      ]
    },
    {
      "cell_type": "code",
      "metadata": {
        "colab": {
          "base_uri": "https://localhost:8080/",
          "height": 338
        },
        "id": "p7x4IkJRlKMJ",
        "outputId": "d453276e-7164-4bba-fe8e-be4c7c543ae8"
      },
      "source": [
        "displacy.render(doc, style='dep', jupyter=True, options={'distance': 120,'compact':True})"
      ],
      "execution_count": 29,
      "outputs": [
        {
          "output_type": "display_data",
          "data": {
            "text/html": [
              "<span class=\"tex2jax_ignore\"><svg xmlns=\"http://www.w3.org/2000/svg\" xmlns:xlink=\"http://www.w3.org/1999/xlink\" xml:lang=\"en\" id=\"39a5f50836ea4781849bdd6cfc8513a7-0\" class=\"displacy\" width=\"1370\" height=\"317.0\" direction=\"ltr\" style=\"max-width: none; height: 317.0px; color: #000000; background: #ffffff; font-family: Arial; direction: ltr\">\n",
              "<text class=\"displacy-token\" fill=\"currentColor\" text-anchor=\"middle\" y=\"227.0\">\n",
              "    <tspan class=\"displacy-word\" fill=\"currentColor\" x=\"50\">Apple</tspan>\n",
              "    <tspan class=\"displacy-tag\" dy=\"2em\" fill=\"currentColor\" x=\"50\">PROPN</tspan>\n",
              "</text>\n",
              "\n",
              "<text class=\"displacy-token\" fill=\"currentColor\" text-anchor=\"middle\" y=\"227.0\">\n",
              "    <tspan class=\"displacy-word\" fill=\"currentColor\" x=\"170\">is</tspan>\n",
              "    <tspan class=\"displacy-tag\" dy=\"2em\" fill=\"currentColor\" x=\"170\">AUX</tspan>\n",
              "</text>\n",
              "\n",
              "<text class=\"displacy-token\" fill=\"currentColor\" text-anchor=\"middle\" y=\"227.0\">\n",
              "    <tspan class=\"displacy-word\" fill=\"currentColor\" x=\"290\">looking</tspan>\n",
              "    <tspan class=\"displacy-tag\" dy=\"2em\" fill=\"currentColor\" x=\"290\">VERB</tspan>\n",
              "</text>\n",
              "\n",
              "<text class=\"displacy-token\" fill=\"currentColor\" text-anchor=\"middle\" y=\"227.0\">\n",
              "    <tspan class=\"displacy-word\" fill=\"currentColor\" x=\"410\">for</tspan>\n",
              "    <tspan class=\"displacy-tag\" dy=\"2em\" fill=\"currentColor\" x=\"410\">ADP</tspan>\n",
              "</text>\n",
              "\n",
              "<text class=\"displacy-token\" fill=\"currentColor\" text-anchor=\"middle\" y=\"227.0\">\n",
              "    <tspan class=\"displacy-word\" fill=\"currentColor\" x=\"530\">buying</tspan>\n",
              "    <tspan class=\"displacy-tag\" dy=\"2em\" fill=\"currentColor\" x=\"530\">VERB</tspan>\n",
              "</text>\n",
              "\n",
              "<text class=\"displacy-token\" fill=\"currentColor\" text-anchor=\"middle\" y=\"227.0\">\n",
              "    <tspan class=\"displacy-word\" fill=\"currentColor\" x=\"650\">UK</tspan>\n",
              "    <tspan class=\"displacy-tag\" dy=\"2em\" fill=\"currentColor\" x=\"650\">PROPN</tspan>\n",
              "</text>\n",
              "\n",
              "<text class=\"displacy-token\" fill=\"currentColor\" text-anchor=\"middle\" y=\"227.0\">\n",
              "    <tspan class=\"displacy-word\" fill=\"currentColor\" x=\"770\">startup</tspan>\n",
              "    <tspan class=\"displacy-tag\" dy=\"2em\" fill=\"currentColor\" x=\"770\">NOUN</tspan>\n",
              "</text>\n",
              "\n",
              "<text class=\"displacy-token\" fill=\"currentColor\" text-anchor=\"middle\" y=\"227.0\">\n",
              "    <tspan class=\"displacy-word\" fill=\"currentColor\" x=\"890\">for</tspan>\n",
              "    <tspan class=\"displacy-tag\" dy=\"2em\" fill=\"currentColor\" x=\"890\">ADP</tspan>\n",
              "</text>\n",
              "\n",
              "<text class=\"displacy-token\" fill=\"currentColor\" text-anchor=\"middle\" y=\"227.0\">\n",
              "    <tspan class=\"displacy-word\" fill=\"currentColor\" x=\"1010\">1</tspan>\n",
              "    <tspan class=\"displacy-tag\" dy=\"2em\" fill=\"currentColor\" x=\"1010\">NUM</tspan>\n",
              "</text>\n",
              "\n",
              "<text class=\"displacy-token\" fill=\"currentColor\" text-anchor=\"middle\" y=\"227.0\">\n",
              "    <tspan class=\"displacy-word\" fill=\"currentColor\" x=\"1130\">billion</tspan>\n",
              "    <tspan class=\"displacy-tag\" dy=\"2em\" fill=\"currentColor\" x=\"1130\">NUM</tspan>\n",
              "</text>\n",
              "\n",
              "<text class=\"displacy-token\" fill=\"currentColor\" text-anchor=\"middle\" y=\"227.0\">\n",
              "    <tspan class=\"displacy-word\" fill=\"currentColor\" x=\"1250\">dollars</tspan>\n",
              "    <tspan class=\"displacy-tag\" dy=\"2em\" fill=\"currentColor\" x=\"1250\">NOUN</tspan>\n",
              "</text>\n",
              "\n",
              "<g class=\"displacy-arrow\">\n",
              "    <path class=\"displacy-arc\" id=\"arrow-39a5f50836ea4781849bdd6cfc8513a7-0-0\" stroke-width=\"2px\" d=\"M62,182.0 62,142.0 287.0,142.0 287.0,182.0\" fill=\"none\" stroke=\"currentColor\"/>\n",
              "    <text dy=\"1.25em\" style=\"font-size: 0.8em; letter-spacing: 1px\">\n",
              "        <textPath xlink:href=\"#arrow-39a5f50836ea4781849bdd6cfc8513a7-0-0\" class=\"displacy-label\" startOffset=\"50%\" side=\"left\" fill=\"currentColor\" text-anchor=\"middle\">nsubj</textPath>\n",
              "    </text>\n",
              "    <path class=\"displacy-arrowhead\" d=\"M62,184.0 L58,176.0 66,176.0\" fill=\"currentColor\"/>\n",
              "</g>\n",
              "\n",
              "<g class=\"displacy-arrow\">\n",
              "    <path class=\"displacy-arc\" id=\"arrow-39a5f50836ea4781849bdd6cfc8513a7-0-1\" stroke-width=\"2px\" d=\"M182,182.0 182,162.0 284.0,162.0 284.0,182.0\" fill=\"none\" stroke=\"currentColor\"/>\n",
              "    <text dy=\"1.25em\" style=\"font-size: 0.8em; letter-spacing: 1px\">\n",
              "        <textPath xlink:href=\"#arrow-39a5f50836ea4781849bdd6cfc8513a7-0-1\" class=\"displacy-label\" startOffset=\"50%\" side=\"left\" fill=\"currentColor\" text-anchor=\"middle\">aux</textPath>\n",
              "    </text>\n",
              "    <path class=\"displacy-arrowhead\" d=\"M182,184.0 L178,176.0 186,176.0\" fill=\"currentColor\"/>\n",
              "</g>\n",
              "\n",
              "<g class=\"displacy-arrow\">\n",
              "    <path class=\"displacy-arc\" id=\"arrow-39a5f50836ea4781849bdd6cfc8513a7-0-2\" stroke-width=\"2px\" d=\"M302,182.0 302,162.0 404.0,162.0 404.0,182.0\" fill=\"none\" stroke=\"currentColor\"/>\n",
              "    <text dy=\"1.25em\" style=\"font-size: 0.8em; letter-spacing: 1px\">\n",
              "        <textPath xlink:href=\"#arrow-39a5f50836ea4781849bdd6cfc8513a7-0-2\" class=\"displacy-label\" startOffset=\"50%\" side=\"left\" fill=\"currentColor\" text-anchor=\"middle\">prep</textPath>\n",
              "    </text>\n",
              "    <path class=\"displacy-arrowhead\" d=\"M404.0,184.0 L408.0,176.0 400.0,176.0\" fill=\"currentColor\"/>\n",
              "</g>\n",
              "\n",
              "<g class=\"displacy-arrow\">\n",
              "    <path class=\"displacy-arc\" id=\"arrow-39a5f50836ea4781849bdd6cfc8513a7-0-3\" stroke-width=\"2px\" d=\"M422,182.0 422,162.0 524.0,162.0 524.0,182.0\" fill=\"none\" stroke=\"currentColor\"/>\n",
              "    <text dy=\"1.25em\" style=\"font-size: 0.8em; letter-spacing: 1px\">\n",
              "        <textPath xlink:href=\"#arrow-39a5f50836ea4781849bdd6cfc8513a7-0-3\" class=\"displacy-label\" startOffset=\"50%\" side=\"left\" fill=\"currentColor\" text-anchor=\"middle\">pcomp</textPath>\n",
              "    </text>\n",
              "    <path class=\"displacy-arrowhead\" d=\"M524.0,184.0 L528.0,176.0 520.0,176.0\" fill=\"currentColor\"/>\n",
              "</g>\n",
              "\n",
              "<g class=\"displacy-arrow\">\n",
              "    <path class=\"displacy-arc\" id=\"arrow-39a5f50836ea4781849bdd6cfc8513a7-0-4\" stroke-width=\"2px\" d=\"M662,182.0 662,162.0 764.0,162.0 764.0,182.0\" fill=\"none\" stroke=\"currentColor\"/>\n",
              "    <text dy=\"1.25em\" style=\"font-size: 0.8em; letter-spacing: 1px\">\n",
              "        <textPath xlink:href=\"#arrow-39a5f50836ea4781849bdd6cfc8513a7-0-4\" class=\"displacy-label\" startOffset=\"50%\" side=\"left\" fill=\"currentColor\" text-anchor=\"middle\">compound</textPath>\n",
              "    </text>\n",
              "    <path class=\"displacy-arrowhead\" d=\"M662,184.0 L658,176.0 666,176.0\" fill=\"currentColor\"/>\n",
              "</g>\n",
              "\n",
              "<g class=\"displacy-arrow\">\n",
              "    <path class=\"displacy-arc\" id=\"arrow-39a5f50836ea4781849bdd6cfc8513a7-0-5\" stroke-width=\"2px\" d=\"M542,182.0 542,142.0 767.0,142.0 767.0,182.0\" fill=\"none\" stroke=\"currentColor\"/>\n",
              "    <text dy=\"1.25em\" style=\"font-size: 0.8em; letter-spacing: 1px\">\n",
              "        <textPath xlink:href=\"#arrow-39a5f50836ea4781849bdd6cfc8513a7-0-5\" class=\"displacy-label\" startOffset=\"50%\" side=\"left\" fill=\"currentColor\" text-anchor=\"middle\">dobj</textPath>\n",
              "    </text>\n",
              "    <path class=\"displacy-arrowhead\" d=\"M767.0,184.0 L771.0,176.0 763.0,176.0\" fill=\"currentColor\"/>\n",
              "</g>\n",
              "\n",
              "<g class=\"displacy-arrow\">\n",
              "    <path class=\"displacy-arc\" id=\"arrow-39a5f50836ea4781849bdd6cfc8513a7-0-6\" stroke-width=\"2px\" d=\"M542,182.0 542,122.0 890.0,122.0 890.0,182.0\" fill=\"none\" stroke=\"currentColor\"/>\n",
              "    <text dy=\"1.25em\" style=\"font-size: 0.8em; letter-spacing: 1px\">\n",
              "        <textPath xlink:href=\"#arrow-39a5f50836ea4781849bdd6cfc8513a7-0-6\" class=\"displacy-label\" startOffset=\"50%\" side=\"left\" fill=\"currentColor\" text-anchor=\"middle\">prep</textPath>\n",
              "    </text>\n",
              "    <path class=\"displacy-arrowhead\" d=\"M890.0,184.0 L894.0,176.0 886.0,176.0\" fill=\"currentColor\"/>\n",
              "</g>\n",
              "\n",
              "<g class=\"displacy-arrow\">\n",
              "    <path class=\"displacy-arc\" id=\"arrow-39a5f50836ea4781849bdd6cfc8513a7-0-7\" stroke-width=\"2px\" d=\"M1022,182.0 1022,162.0 1124.0,162.0 1124.0,182.0\" fill=\"none\" stroke=\"currentColor\"/>\n",
              "    <text dy=\"1.25em\" style=\"font-size: 0.8em; letter-spacing: 1px\">\n",
              "        <textPath xlink:href=\"#arrow-39a5f50836ea4781849bdd6cfc8513a7-0-7\" class=\"displacy-label\" startOffset=\"50%\" side=\"left\" fill=\"currentColor\" text-anchor=\"middle\">compound</textPath>\n",
              "    </text>\n",
              "    <path class=\"displacy-arrowhead\" d=\"M1022,184.0 L1018,176.0 1026,176.0\" fill=\"currentColor\"/>\n",
              "</g>\n",
              "\n",
              "<g class=\"displacy-arrow\">\n",
              "    <path class=\"displacy-arc\" id=\"arrow-39a5f50836ea4781849bdd6cfc8513a7-0-8\" stroke-width=\"2px\" d=\"M1142,182.0 1142,162.0 1244.0,162.0 1244.0,182.0\" fill=\"none\" stroke=\"currentColor\"/>\n",
              "    <text dy=\"1.25em\" style=\"font-size: 0.8em; letter-spacing: 1px\">\n",
              "        <textPath xlink:href=\"#arrow-39a5f50836ea4781849bdd6cfc8513a7-0-8\" class=\"displacy-label\" startOffset=\"50%\" side=\"left\" fill=\"currentColor\" text-anchor=\"middle\">nummod</textPath>\n",
              "    </text>\n",
              "    <path class=\"displacy-arrowhead\" d=\"M1142,184.0 L1138,176.0 1146,176.0\" fill=\"currentColor\"/>\n",
              "</g>\n",
              "\n",
              "<g class=\"displacy-arrow\">\n",
              "    <path class=\"displacy-arc\" id=\"arrow-39a5f50836ea4781849bdd6cfc8513a7-0-9\" stroke-width=\"2px\" d=\"M902,182.0 902,122.0 1250.0,122.0 1250.0,182.0\" fill=\"none\" stroke=\"currentColor\"/>\n",
              "    <text dy=\"1.25em\" style=\"font-size: 0.8em; letter-spacing: 1px\">\n",
              "        <textPath xlink:href=\"#arrow-39a5f50836ea4781849bdd6cfc8513a7-0-9\" class=\"displacy-label\" startOffset=\"50%\" side=\"left\" fill=\"currentColor\" text-anchor=\"middle\">pobj</textPath>\n",
              "    </text>\n",
              "    <path class=\"displacy-arrowhead\" d=\"M1250.0,184.0 L1254.0,176.0 1246.0,176.0\" fill=\"currentColor\"/>\n",
              "</g>\n",
              "</svg></span>"
            ],
            "text/plain": [
              "<IPython.core.display.HTML object>"
            ]
          },
          "metadata": {
            "tags": []
          }
        }
      ]
    },
    {
      "cell_type": "markdown",
      "metadata": {
        "id": "5uqZGopJmZiP"
      },
      "source": [
        "# Named Entity Recognition"
      ]
    },
    {
      "cell_type": "code",
      "metadata": {
        "colab": {
          "base_uri": "https://localhost:8080/"
        },
        "id": "7Rs08ENNlTki",
        "outputId": "facc073c-bd36-470f-ef32-9233410d2257"
      },
      "source": [
        "for ent in doc.ents:\n",
        "  print(ent.text,ent.label_)"
      ],
      "execution_count": 31,
      "outputs": [
        {
          "output_type": "stream",
          "text": [
            "Apple ORG\n",
            "UK GPE\n",
            "1 billion dollars MONEY\n"
          ],
          "name": "stdout"
        }
      ]
    },
    {
      "cell_type": "code",
      "metadata": {
        "colab": {
          "base_uri": "https://localhost:8080/",
          "height": 51
        },
        "id": "cc3TFL6cmspH",
        "outputId": "60b1fbe5-214f-403f-aadf-a1df16f36204"
      },
      "source": [
        "displacy.render(doc, style='ent', jupyter=True, options={'distance': 120})"
      ],
      "execution_count": 32,
      "outputs": [
        {
          "output_type": "display_data",
          "data": {
            "text/html": [
              "<span class=\"tex2jax_ignore\"><div class=\"entities\" style=\"line-height: 2.5; direction: ltr\">\n",
              "<mark class=\"entity\" style=\"background: #7aecec; padding: 0.45em 0.6em; margin: 0 0.25em; line-height: 1; border-radius: 0.35em;\">\n",
              "    Apple\n",
              "    <span style=\"font-size: 0.8em; font-weight: bold; line-height: 1; border-radius: 0.35em; text-transform: uppercase; vertical-align: middle; margin-left: 0.5rem\">ORG</span>\n",
              "</mark>\n",
              " is looking for buying \n",
              "<mark class=\"entity\" style=\"background: #feca74; padding: 0.45em 0.6em; margin: 0 0.25em; line-height: 1; border-radius: 0.35em;\">\n",
              "    UK\n",
              "    <span style=\"font-size: 0.8em; font-weight: bold; line-height: 1; border-radius: 0.35em; text-transform: uppercase; vertical-align: middle; margin-left: 0.5rem\">GPE</span>\n",
              "</mark>\n",
              " startup for \n",
              "<mark class=\"entity\" style=\"background: #e4e7d2; padding: 0.45em 0.6em; margin: 0 0.25em; line-height: 1; border-radius: 0.35em;\">\n",
              "    1 billion dollars\n",
              "    <span style=\"font-size: 0.8em; font-weight: bold; line-height: 1; border-radius: 0.35em; text-transform: uppercase; vertical-align: middle; margin-left: 0.5rem\">MONEY</span>\n",
              "</mark>\n",
              "</div></span>"
            ],
            "text/plain": [
              "<IPython.core.display.HTML object>"
            ]
          },
          "metadata": {
            "tags": []
          }
        }
      ]
    },
    {
      "cell_type": "markdown",
      "metadata": {
        "id": "JWNvjwy9nDtC"
      },
      "source": [
        "# Sentence Segmentation"
      ]
    },
    {
      "cell_type": "code",
      "metadata": {
        "id": "S_jOe2aPm8M4"
      },
      "source": [
        "text = 'Apple is looking for buying a Uk startup in 2020. The government has given permission.'"
      ],
      "execution_count": 39,
      "outputs": []
    },
    {
      "cell_type": "code",
      "metadata": {
        "id": "O8qActyCm1Lf"
      },
      "source": [
        "doc = nlp(text)"
      ],
      "execution_count": 40,
      "outputs": []
    },
    {
      "cell_type": "code",
      "metadata": {
        "colab": {
          "base_uri": "https://localhost:8080/"
        },
        "id": "flvIIN6XndWi",
        "outputId": "e659b6a3-1e8d-4ba2-8c0f-c342a667b822"
      },
      "source": [
        "for sent in doc.sents:\n",
        "  print(sent)\n",
        "  print()"
      ],
      "execution_count": 41,
      "outputs": [
        {
          "output_type": "stream",
          "text": [
            "Apple is looking for buying a Uk startup in 2020.\n",
            "\n",
            "The government has given permission.\n",
            "\n"
          ],
          "name": "stdout"
        }
      ]
    },
    {
      "cell_type": "markdown",
      "metadata": {
        "id": "yRwHLL77oE73"
      },
      "source": [
        "# Rule Phrase Matching"
      ]
    },
    {
      "cell_type": "code",
      "metadata": {
        "id": "3vUpsnC1njO0"
      },
      "source": [
        "from spacy.matcher import Matcher\n",
        "from spacy.tokens import span"
      ],
      "execution_count": 62,
      "outputs": []
    },
    {
      "cell_type": "code",
      "metadata": {
        "id": "FzVocZsIpLJp"
      },
      "source": [
        "text = 'Hello, Chitresh! hello chitresh'"
      ],
      "execution_count": 73,
      "outputs": []
    },
    {
      "cell_type": "code",
      "metadata": {
        "id": "JtId9791pWHn"
      },
      "source": [
        "doc = nlp(text)"
      ],
      "execution_count": 74,
      "outputs": []
    },
    {
      "cell_type": "code",
      "metadata": {
        "colab": {
          "base_uri": "https://localhost:8080/"
        },
        "id": "zUQqlgxopb5J",
        "outputId": "4ef07de7-f60d-46a1-aaf8-b36ac9598588"
      },
      "source": [
        "for token in doc:\n",
        "  print(token)"
      ],
      "execution_count": 75,
      "outputs": [
        {
          "output_type": "stream",
          "text": [
            "Hello\n",
            ",\n",
            "Chitresh\n",
            "!\n",
            "hello\n",
            "chitresh\n"
          ],
          "name": "stdout"
        }
      ]
    },
    {
      "cell_type": "code",
      "metadata": {
        "id": "uQBH7pPzphJX"
      },
      "source": [
        "pattern = [{'LOWER':'hello'},{\"IS_PUNCT\": True, \"OP\" : \"?\"},{'LOWER':'chitresh'}]"
      ],
      "execution_count": 77,
      "outputs": []
    },
    {
      "cell_type": "code",
      "metadata": {
        "id": "hi9AhUwsw2vp"
      },
      "source": [
        "#https://stackoverflow.com/questions/58519650/spacy-rule-based-phrase-matching-for-hello-world"
      ],
      "execution_count": 91,
      "outputs": []
    },
    {
      "cell_type": "code",
      "metadata": {
        "id": "lSp0Vihzp2i3"
      },
      "source": [
        "matcher = Matcher(nlp.vocab)\n",
        "matcher.add('hw', None , pattern)"
      ],
      "execution_count": 78,
      "outputs": []
    },
    {
      "cell_type": "code",
      "metadata": {
        "id": "egSDzJ-iqEUA"
      },
      "source": [
        "matches = matcher(doc)"
      ],
      "execution_count": 79,
      "outputs": []
    },
    {
      "cell_type": "code",
      "metadata": {
        "colab": {
          "base_uri": "https://localhost:8080/"
        },
        "id": "Jm0zEU-uqVt9",
        "outputId": "e8f6bb21-280e-4d48-8b5f-85648892009f"
      },
      "source": [
        "matches"
      ],
      "execution_count": 80,
      "outputs": [
        {
          "output_type": "execute_result",
          "data": {
            "text/plain": [
              "[(17790654416186116455, 0, 3), (17790654416186116455, 4, 6)]"
            ]
          },
          "metadata": {
            "tags": []
          },
          "execution_count": 80
        }
      ]
    },
    {
      "cell_type": "code",
      "metadata": {
        "colab": {
          "base_uri": "https://localhost:8080/"
        },
        "id": "1U5q_z7wqXBs",
        "outputId": "762b5f93-d336-4037-b286-dd2bed33d013"
      },
      "source": [
        "for match_id,start,end in matches:\n",
        "  string_id = nlp.vocab.strings[match_id]\n",
        "  span = doc[start:end]\n",
        "  print(match_id,string_id,start,end,span.text)"
      ],
      "execution_count": 81,
      "outputs": [
        {
          "output_type": "stream",
          "text": [
            "17790654416186116455 hw 0 3 Hello, Chitresh\n",
            "17790654416186116455 hw 4 6 hello chitresh\n"
          ],
          "name": "stdout"
        }
      ]
    },
    {
      "cell_type": "markdown",
      "metadata": {
        "id": "CLvroe7bs2JK"
      },
      "source": [
        "# Regular Expression"
      ]
    },
    {
      "cell_type": "code",
      "metadata": {
        "id": "K858BX2lshSG"
      },
      "source": [
        "text = 'my mobile number is 1224.The correct one is 1234566879.'"
      ],
      "execution_count": 82,
      "outputs": []
    },
    {
      "cell_type": "code",
      "metadata": {
        "id": "fxo7JP_VwBCn"
      },
      "source": [
        "import re"
      ],
      "execution_count": 83,
      "outputs": []
    },
    {
      "cell_type": "code",
      "metadata": {
        "colab": {
          "base_uri": "https://localhost:8080/"
        },
        "id": "lvxmtZFCwEEC",
        "outputId": "88b7c686-917b-4b4d-8553-f4b53509a89a"
      },
      "source": [
        "re.search(r'\\d{3}',text)"
      ],
      "execution_count": 85,
      "outputs": [
        {
          "output_type": "execute_result",
          "data": {
            "text/plain": [
              "<re.Match object; span=(20, 23), match='122'>"
            ]
          },
          "metadata": {
            "tags": []
          },
          "execution_count": 85
        }
      ]
    },
    {
      "cell_type": "code",
      "metadata": {
        "colab": {
          "base_uri": "https://localhost:8080/"
        },
        "id": "C83f7pxywMOc",
        "outputId": "d4b2f9da-8a55-4e46-805d-5543e96e6409"
      },
      "source": [
        "re.findall(r'\\d{3}',text)"
      ],
      "execution_count": 87,
      "outputs": [
        {
          "output_type": "execute_result",
          "data": {
            "text/plain": [
              "['122', '123', '456', '687']"
            ]
          },
          "metadata": {
            "tags": []
          },
          "execution_count": 87
        }
      ]
    },
    {
      "cell_type": "code",
      "metadata": {
        "colab": {
          "base_uri": "https://localhost:8080/"
        },
        "id": "tnUMSMJOwWqb",
        "outputId": "a6a6b4e6-1a63-496e-d4c8-d9c86b0bd069"
      },
      "source": [
        "re.findall(r'\\d{3,10}',text)"
      ],
      "execution_count": 88,
      "outputs": [
        {
          "output_type": "execute_result",
          "data": {
            "text/plain": [
              "['1224', '1234566879']"
            ]
          },
          "metadata": {
            "tags": []
          },
          "execution_count": 88
        }
      ]
    },
    {
      "cell_type": "code",
      "metadata": {
        "colab": {
          "base_uri": "https://localhost:8080/"
        },
        "id": "mvsPxdwrwcSU",
        "outputId": "3a2014e8-0b96-4907-92ec-dcc056ea83e4"
      },
      "source": [
        "re.findall(r'\\w+',text)"
      ],
      "execution_count": 90,
      "outputs": [
        {
          "output_type": "execute_result",
          "data": {
            "text/plain": [
              "['my',\n",
              " 'mobile',\n",
              " 'number',\n",
              " 'is',\n",
              " '1224',\n",
              " 'The',\n",
              " 'correct',\n",
              " 'one',\n",
              " 'is',\n",
              " '1234566879']"
            ]
          },
          "metadata": {
            "tags": []
          },
          "execution_count": 90
        }
      ]
    },
    {
      "cell_type": "markdown",
      "metadata": {
        "id": "OHmnjMinxCzz"
      },
      "source": [
        "# WildCard and Exclusion Matching"
      ]
    },
    {
      "cell_type": "code",
      "metadata": {
        "colab": {
          "base_uri": "https://localhost:8080/",
          "height": 35
        },
        "id": "mKKwx4yFwmkm",
        "outputId": "ceae02a1-c071-4477-f53c-315aa2be53ea"
      },
      "source": [
        "text"
      ],
      "execution_count": 92,
      "outputs": [
        {
          "output_type": "execute_result",
          "data": {
            "application/vnd.google.colaboratory.intrinsic+json": {
              "type": "string"
            },
            "text/plain": [
              "'my mobile number is 1224.The correct one is 1234566879.'"
            ]
          },
          "metadata": {
            "tags": []
          },
          "execution_count": 92
        }
      ]
    },
    {
      "cell_type": "code",
      "metadata": {
        "colab": {
          "base_uri": "https://localhost:8080/"
        },
        "id": "uQXXLoItxHgm",
        "outputId": "01d36959-252c-43a8-b530-6a1da1c18465"
      },
      "source": [
        "re.findall(r'mo....',text)"
      ],
      "execution_count": 94,
      "outputs": [
        {
          "output_type": "execute_result",
          "data": {
            "text/plain": [
              "['mobile']"
            ]
          },
          "metadata": {
            "tags": []
          },
          "execution_count": 94
        }
      ]
    },
    {
      "cell_type": "code",
      "metadata": {
        "colab": {
          "base_uri": "https://localhost:8080/"
        },
        "id": "oHlNOCUcxPMk",
        "outputId": "61aaa12c-b3f1-4ae8-837e-cd719ca422e2"
      },
      "source": [
        "re.findall(r'c.....+',text)"
      ],
      "execution_count": 97,
      "outputs": [
        {
          "output_type": "execute_result",
          "data": {
            "text/plain": [
              "['correct one is 1234566879.']"
            ]
          },
          "metadata": {
            "tags": []
          },
          "execution_count": 97
        }
      ]
    },
    {
      "cell_type": "code",
      "metadata": {
        "colab": {
          "base_uri": "https://localhost:8080/"
        },
        "id": "Q2BDuI6ZxU_R",
        "outputId": "aab5f2ad-e19e-4c89-d5a1-867ef0c953fb"
      },
      "source": [
        "re.findall(r'o.e',text)"
      ],
      "execution_count": 98,
      "outputs": [
        {
          "output_type": "execute_result",
          "data": {
            "text/plain": [
              "['one']"
            ]
          },
          "metadata": {
            "tags": []
          },
          "execution_count": 98
        }
      ]
    },
    {
      "cell_type": "code",
      "metadata": {
        "colab": {
          "base_uri": "https://localhost:8080/"
        },
        "id": "X9IOabB7xiBm",
        "outputId": "b408d682-50b2-4a7f-8c2f-d36c255a99c9"
      },
      "source": [
        "re.findall(r'2.',text)"
      ],
      "execution_count": 99,
      "outputs": [
        {
          "output_type": "execute_result",
          "data": {
            "text/plain": [
              "['22', '23']"
            ]
          },
          "metadata": {
            "tags": []
          },
          "execution_count": 99
        }
      ]
    },
    {
      "cell_type": "code",
      "metadata": {
        "colab": {
          "base_uri": "https://localhost:8080/"
        },
        "id": "Dzkla4tSxmEY",
        "outputId": "90a4c9c8-f967-4d8e-ac88-bc2bfef78841"
      },
      "source": [
        "re.findall(r'2.+',text)"
      ],
      "execution_count": 100,
      "outputs": [
        {
          "output_type": "execute_result",
          "data": {
            "text/plain": [
              "['224.The correct one is 1234566879.']"
            ]
          },
          "metadata": {
            "tags": []
          },
          "execution_count": 100
        }
      ]
    },
    {
      "cell_type": "code",
      "metadata": {
        "colab": {
          "base_uri": "https://localhost:8080/"
        },
        "id": "zsTyBxQvxrta",
        "outputId": "7885ce8c-1f8b-468e-bd71-5a9fe6f9de03"
      },
      "source": [
        "re.findall(r'[^\\d]+',text)"
      ],
      "execution_count": 103,
      "outputs": [
        {
          "output_type": "execute_result",
          "data": {
            "text/plain": [
              "['my mobile number is ', '.The correct one is ', '.']"
            ]
          },
          "metadata": {
            "tags": []
          },
          "execution_count": 103
        }
      ]
    },
    {
      "cell_type": "code",
      "metadata": {
        "colab": {
          "base_uri": "https://localhost:8080/"
        },
        "id": "jVgJwhhsx3_p",
        "outputId": "dac055d4-0667-4508-cbe9-bcfaa1068870"
      },
      "source": [
        "re.findall(r'[^\\D]+',text)"
      ],
      "execution_count": 104,
      "outputs": [
        {
          "output_type": "execute_result",
          "data": {
            "text/plain": [
              "['1224', '1234566879']"
            ]
          },
          "metadata": {
            "tags": []
          },
          "execution_count": 104
        }
      ]
    },
    {
      "cell_type": "markdown",
      "metadata": {
        "id": "wippNJ8y6wPG"
      },
      "source": [
        "# Processing Pipeline in Spacy"
      ]
    },
    {
      "cell_type": "code",
      "metadata": {
        "id": "6cV3BuWP6vLR"
      },
      "source": [
        "text = ['net income was $9.4 million compared to the prior year of $2.7 million.','revenue exceeds twelve billion dollars with a loss of 1b dollars']"
      ],
      "execution_count": 117,
      "outputs": []
    },
    {
      "cell_type": "code",
      "metadata": {
        "colab": {
          "base_uri": "https://localhost:8080/"
        },
        "id": "c08ukdHA8QPc",
        "outputId": "cd0752d9-9f82-4c32-fff3-172b9369e85f"
      },
      "source": [
        "%%timeit\n",
        "docs = nlp.pipe(text,disable=['tagger','parser'])\n",
        "for doc in docs:\n",
        "  for ent in doc.ents:\n",
        "    print(ent.text,ent.label_)\n",
        "  print()"
      ],
      "execution_count": 123,
      "outputs": [
        {
          "output_type": "stream",
          "text": [
            "$9.4 million MONEY\n",
            "the prior year DATE\n",
            "$2.7 million MONEY\n",
            "\n",
            "twelve billion dollars MONEY\n",
            "1b dollars MONEY\n",
            "\n",
            "$9.4 million MONEY\n",
            "the prior year DATE\n",
            "$2.7 million MONEY\n",
            "\n",
            "twelve billion dollars MONEY\n",
            "1b dollars MONEY\n",
            "\n",
            "$9.4 million MONEY\n",
            "the prior year DATE\n",
            "$2.7 million MONEY\n",
            "\n",
            "twelve billion dollars MONEY\n",
            "1b dollars MONEY\n",
            "\n",
            "$9.4 million MONEY\n",
            "the prior year DATE\n",
            "$2.7 million MONEY\n",
            "\n",
            "twelve billion dollars MONEY\n",
            "1b dollars MONEY\n",
            "\n",
            "$9.4 million MONEY\n",
            "the prior year DATE\n",
            "$2.7 million MONEY\n",
            "\n",
            "twelve billion dollars MONEY\n",
            "1b dollars MONEY\n",
            "\n",
            "$9.4 million MONEY\n",
            "the prior year DATE\n",
            "$2.7 million MONEY\n",
            "\n",
            "twelve billion dollars MONEY\n",
            "1b dollars MONEY\n",
            "\n",
            "$9.4 million MONEY\n",
            "the prior year DATE\n",
            "$2.7 million MONEY\n",
            "\n",
            "twelve billion dollars MONEY\n",
            "1b dollars MONEY\n",
            "\n",
            "$9.4 million MONEY\n",
            "the prior year DATE\n",
            "$2.7 million MONEY\n",
            "\n",
            "twelve billion dollars MONEY\n",
            "1b dollars MONEY\n",
            "\n",
            "$9.4 million MONEY\n",
            "the prior year DATE\n",
            "$2.7 million MONEY\n",
            "\n",
            "twelve billion dollars MONEY\n",
            "1b dollars MONEY\n",
            "\n",
            "$9.4 million MONEY\n",
            "the prior year DATE\n",
            "$2.7 million MONEY\n",
            "\n",
            "twelve billion dollars MONEY\n",
            "1b dollars MONEY\n",
            "\n",
            "$9.4 million MONEY\n",
            "the prior year DATE\n",
            "$2.7 million MONEY\n",
            "\n",
            "twelve billion dollars MONEY\n",
            "1b dollars MONEY\n",
            "\n",
            "$9.4 million MONEY\n",
            "the prior year DATE\n",
            "$2.7 million MONEY\n",
            "\n",
            "twelve billion dollars MONEY\n",
            "1b dollars MONEY\n",
            "\n",
            "$9.4 million MONEY\n",
            "the prior year DATE\n",
            "$2.7 million MONEY\n",
            "\n",
            "twelve billion dollars MONEY\n",
            "1b dollars MONEY\n",
            "\n",
            "$9.4 million MONEY\n",
            "the prior year DATE\n",
            "$2.7 million MONEY\n",
            "\n",
            "twelve billion dollars MONEY\n",
            "1b dollars MONEY\n",
            "\n",
            "$9.4 million MONEY\n",
            "the prior year DATE\n",
            "$2.7 million MONEY\n",
            "\n",
            "twelve billion dollars MONEY\n",
            "1b dollars MONEY\n",
            "\n",
            "$9.4 million MONEY\n",
            "the prior year DATE\n",
            "$2.7 million MONEY\n",
            "\n",
            "twelve billion dollars MONEY\n",
            "1b dollars MONEY\n",
            "\n",
            "$9.4 million MONEY\n",
            "the prior year DATE\n",
            "$2.7 million MONEY\n",
            "\n",
            "twelve billion dollars MONEY\n",
            "1b dollars MONEY\n",
            "\n",
            "$9.4 million MONEY\n",
            "the prior year DATE\n",
            "$2.7 million MONEY\n",
            "\n",
            "twelve billion dollars MONEY\n",
            "1b dollars MONEY\n",
            "\n",
            "$9.4 million MONEY\n",
            "the prior year DATE\n",
            "$2.7 million MONEY\n",
            "\n",
            "twelve billion dollars MONEY\n",
            "1b dollars MONEY\n",
            "\n",
            "$9.4 million MONEY\n",
            "the prior year DATE\n",
            "$2.7 million MONEY\n",
            "\n",
            "twelve billion dollars MONEY\n",
            "1b dollars MONEY\n",
            "\n",
            "$9.4 million MONEY\n",
            "the prior year DATE\n",
            "$2.7 million MONEY\n",
            "\n",
            "twelve billion dollars MONEY\n",
            "1b dollars MONEY\n",
            "\n",
            "$9.4 million MONEY\n",
            "the prior year DATE\n",
            "$2.7 million MONEY\n",
            "\n",
            "twelve billion dollars MONEY\n",
            "1b dollars MONEY\n",
            "\n",
            "$9.4 million MONEY\n",
            "the prior year DATE\n",
            "$2.7 million MONEY\n",
            "\n",
            "twelve billion dollars MONEY\n",
            "1b dollars MONEY\n",
            "\n",
            "$9.4 million MONEY\n",
            "the prior year DATE\n",
            "$2.7 million MONEY\n",
            "\n",
            "twelve billion dollars MONEY\n",
            "1b dollars MONEY\n",
            "\n",
            "$9.4 million MONEY\n",
            "the prior year DATE\n",
            "$2.7 million MONEY\n",
            "\n",
            "twelve billion dollars MONEY\n",
            "1b dollars MONEY\n",
            "\n",
            "$9.4 million MONEY\n",
            "the prior year DATE\n",
            "$2.7 million MONEY\n",
            "\n",
            "twelve billion dollars MONEY\n",
            "1b dollars MONEY\n",
            "\n",
            "$9.4 million MONEY\n",
            "the prior year DATE\n",
            "$2.7 million MONEY\n",
            "\n",
            "twelve billion dollars MONEY\n",
            "1b dollars MONEY\n",
            "\n",
            "$9.4 million MONEY\n",
            "the prior year DATE\n",
            "$2.7 million MONEY\n",
            "\n",
            "twelve billion dollars MONEY\n",
            "1b dollars MONEY\n",
            "\n",
            "$9.4 million MONEY\n",
            "the prior year DATE\n",
            "$2.7 million MONEY\n",
            "\n",
            "twelve billion dollars MONEY\n",
            "1b dollars MONEY\n",
            "\n",
            "$9.4 million MONEY\n",
            "the prior year DATE\n",
            "$2.7 million MONEY\n",
            "\n",
            "twelve billion dollars MONEY\n",
            "1b dollars MONEY\n",
            "\n",
            "$9.4 million MONEY\n",
            "the prior year DATE\n",
            "$2.7 million MONEY\n",
            "\n",
            "twelve billion dollars MONEY\n",
            "1b dollars MONEY\n",
            "\n",
            "$9.4 million MONEY\n",
            "the prior year DATE\n",
            "$2.7 million MONEY\n",
            "\n",
            "twelve billion dollars MONEY\n",
            "1b dollars MONEY\n",
            "\n",
            "$9.4 million MONEY\n",
            "the prior year DATE\n",
            "$2.7 million MONEY\n",
            "\n",
            "twelve billion dollars MONEY\n",
            "1b dollars MONEY\n",
            "\n",
            "$9.4 million MONEY\n",
            "the prior year DATE\n",
            "$2.7 million MONEY\n",
            "\n",
            "twelve billion dollars MONEY\n",
            "1b dollars MONEY\n",
            "\n",
            "$9.4 million MONEY\n",
            "the prior year DATE\n",
            "$2.7 million MONEY\n",
            "\n",
            "twelve billion dollars MONEY\n",
            "1b dollars MONEY\n",
            "\n",
            "$9.4 million MONEY\n",
            "the prior year DATE\n",
            "$2.7 million MONEY\n",
            "\n",
            "twelve billion dollars MONEY\n",
            "1b dollars MONEY\n",
            "\n",
            "$9.4 million MONEY\n",
            "the prior year DATE\n",
            "$2.7 million MONEY\n",
            "\n",
            "twelve billion dollars MONEY\n",
            "1b dollars MONEY\n",
            "\n",
            "$9.4 million MONEY\n",
            "the prior year DATE\n",
            "$2.7 million MONEY\n",
            "\n",
            "twelve billion dollars MONEY\n",
            "1b dollars MONEY\n",
            "\n",
            "$9.4 million MONEY\n",
            "the prior year DATE\n",
            "$2.7 million MONEY\n",
            "\n",
            "twelve billion dollars MONEY\n",
            "1b dollars MONEY\n",
            "\n",
            "$9.4 million MONEY\n",
            "the prior year DATE\n",
            "$2.7 million MONEY\n",
            "\n",
            "twelve billion dollars MONEY\n",
            "1b dollars MONEY\n",
            "\n",
            "$9.4 million MONEY\n",
            "the prior year DATE\n",
            "$2.7 million MONEY\n",
            "\n",
            "twelve billion dollars MONEY\n",
            "1b dollars MONEY\n",
            "\n",
            "$9.4 million MONEY\n",
            "the prior year DATE\n",
            "$2.7 million MONEY\n",
            "\n",
            "twelve billion dollars MONEY\n",
            "1b dollars MONEY\n",
            "\n",
            "$9.4 million MONEY\n",
            "the prior year DATE\n",
            "$2.7 million MONEY\n",
            "\n",
            "twelve billion dollars MONEY\n",
            "1b dollars MONEY\n",
            "\n",
            "$9.4 million MONEY\n",
            "the prior year DATE\n",
            "$2.7 million MONEY\n",
            "\n",
            "twelve billion dollars MONEY\n",
            "1b dollars MONEY\n",
            "\n",
            "$9.4 million MONEY\n",
            "the prior year DATE\n",
            "$2.7 million MONEY\n",
            "\n",
            "twelve billion dollars MONEY\n",
            "1b dollars MONEY\n",
            "\n",
            "$9.4 million MONEY\n",
            "the prior year DATE\n",
            "$2.7 million MONEY\n",
            "\n",
            "twelve billion dollars MONEY\n",
            "1b dollars MONEY\n",
            "\n",
            "$9.4 million MONEY\n",
            "the prior year DATE\n",
            "$2.7 million MONEY\n",
            "\n",
            "twelve billion dollars MONEY\n",
            "1b dollars MONEY\n",
            "\n",
            "$9.4 million MONEY\n",
            "the prior year DATE\n",
            "$2.7 million MONEY\n",
            "\n",
            "twelve billion dollars MONEY\n",
            "1b dollars MONEY\n",
            "\n",
            "$9.4 million MONEY\n",
            "the prior year DATE\n",
            "$2.7 million MONEY\n",
            "\n",
            "twelve billion dollars MONEY\n",
            "1b dollars MONEY\n",
            "\n",
            "$9.4 million MONEY\n",
            "the prior year DATE\n",
            "$2.7 million MONEY\n",
            "\n",
            "twelve billion dollars MONEY\n",
            "1b dollars MONEY\n",
            "\n",
            "$9.4 million MONEY\n",
            "the prior year DATE\n",
            "$2.7 million MONEY\n",
            "\n",
            "twelve billion dollars MONEY\n",
            "1b dollars MONEY\n",
            "\n",
            "$9.4 million MONEY\n",
            "the prior year DATE\n",
            "$2.7 million MONEY\n",
            "\n",
            "twelve billion dollars MONEY\n",
            "1b dollars MONEY\n",
            "\n",
            "$9.4 million MONEY\n",
            "the prior year DATE\n",
            "$2.7 million MONEY\n",
            "\n",
            "twelve billion dollars MONEY\n",
            "1b dollars MONEY\n",
            "\n",
            "$9.4 million MONEY\n",
            "the prior year DATE\n",
            "$2.7 million MONEY\n",
            "\n",
            "twelve billion dollars MONEY\n",
            "1b dollars MONEY\n",
            "\n",
            "$9.4 million MONEY\n",
            "the prior year DATE\n",
            "$2.7 million MONEY\n",
            "\n",
            "twelve billion dollars MONEY\n",
            "1b dollars MONEY\n",
            "\n",
            "$9.4 million MONEY\n",
            "the prior year DATE\n",
            "$2.7 million MONEY\n",
            "\n",
            "twelve billion dollars MONEY\n",
            "1b dollars MONEY\n",
            "\n",
            "$9.4 million MONEY\n",
            "the prior year DATE\n",
            "$2.7 million MONEY\n",
            "\n",
            "twelve billion dollars MONEY\n",
            "1b dollars MONEY\n",
            "\n",
            "$9.4 million MONEY\n",
            "the prior year DATE\n",
            "$2.7 million MONEY\n",
            "\n",
            "twelve billion dollars MONEY\n",
            "1b dollars MONEY\n",
            "\n",
            "$9.4 million MONEY\n",
            "the prior year DATE\n",
            "$2.7 million MONEY\n",
            "\n",
            "twelve billion dollars MONEY\n",
            "1b dollars MONEY\n",
            "\n",
            "$9.4 million MONEY\n",
            "the prior year DATE\n",
            "$2.7 million MONEY\n",
            "\n",
            "twelve billion dollars MONEY\n",
            "1b dollars MONEY\n",
            "\n",
            "$9.4 million MONEY\n",
            "the prior year DATE\n",
            "$2.7 million MONEY\n",
            "\n",
            "twelve billion dollars MONEY\n",
            "1b dollars MONEY\n",
            "\n",
            "10 loops, best of 5: 85.9 ms per loop\n"
          ],
          "name": "stdout"
        }
      ]
    },
    {
      "cell_type": "code",
      "metadata": {
        "colab": {
          "base_uri": "https://localhost:8080/"
        },
        "id": "lIHG2M9X8gZW",
        "outputId": "e6d0356d-b35e-4f44-afa3-22c6c6074a0e"
      },
      "source": [
        "%%timeit\n",
        "\n",
        "docs = nlp.pipe(text)\n",
        "for doc in docs:\n",
        "  for ent in doc.ents:\n",
        "    print(ent.text,ent.label_)\n",
        "  print()"
      ],
      "execution_count": 122,
      "outputs": [
        {
          "output_type": "stream",
          "text": [
            "$9.4 million MONEY\n",
            "the prior year DATE\n",
            "$2.7 million MONEY\n",
            "\n",
            "twelve billion dollars MONEY\n",
            "1b dollars MONEY\n",
            "\n",
            "$9.4 million MONEY\n",
            "the prior year DATE\n",
            "$2.7 million MONEY\n",
            "\n",
            "twelve billion dollars MONEY\n",
            "1b dollars MONEY\n",
            "\n",
            "$9.4 million MONEY\n",
            "the prior year DATE\n",
            "$2.7 million MONEY\n",
            "\n",
            "twelve billion dollars MONEY\n",
            "1b dollars MONEY\n",
            "\n",
            "$9.4 million MONEY\n",
            "the prior year DATE\n",
            "$2.7 million MONEY\n",
            "\n",
            "twelve billion dollars MONEY\n",
            "1b dollars MONEY\n",
            "\n",
            "$9.4 million MONEY\n",
            "the prior year DATE\n",
            "$2.7 million MONEY\n",
            "\n",
            "twelve billion dollars MONEY\n",
            "1b dollars MONEY\n",
            "\n",
            "$9.4 million MONEY\n",
            "the prior year DATE\n",
            "$2.7 million MONEY\n",
            "\n",
            "twelve billion dollars MONEY\n",
            "1b dollars MONEY\n",
            "\n",
            "$9.4 million MONEY\n",
            "the prior year DATE\n",
            "$2.7 million MONEY\n",
            "\n",
            "twelve billion dollars MONEY\n",
            "1b dollars MONEY\n",
            "\n",
            "$9.4 million MONEY\n",
            "the prior year DATE\n",
            "$2.7 million MONEY\n",
            "\n",
            "twelve billion dollars MONEY\n",
            "1b dollars MONEY\n",
            "\n",
            "$9.4 million MONEY\n",
            "the prior year DATE\n",
            "$2.7 million MONEY\n",
            "\n",
            "twelve billion dollars MONEY\n",
            "1b dollars MONEY\n",
            "\n",
            "$9.4 million MONEY\n",
            "the prior year DATE\n",
            "$2.7 million MONEY\n",
            "\n",
            "twelve billion dollars MONEY\n",
            "1b dollars MONEY\n",
            "\n",
            "$9.4 million MONEY\n",
            "the prior year DATE\n",
            "$2.7 million MONEY\n",
            "\n",
            "twelve billion dollars MONEY\n",
            "1b dollars MONEY\n",
            "\n",
            "$9.4 million MONEY\n",
            "the prior year DATE\n",
            "$2.7 million MONEY\n",
            "\n",
            "twelve billion dollars MONEY\n",
            "1b dollars MONEY\n",
            "\n",
            "$9.4 million MONEY\n",
            "the prior year DATE\n",
            "$2.7 million MONEY\n",
            "\n",
            "twelve billion dollars MONEY\n",
            "1b dollars MONEY\n",
            "\n",
            "$9.4 million MONEY\n",
            "the prior year DATE\n",
            "$2.7 million MONEY\n",
            "\n",
            "twelve billion dollars MONEY\n",
            "1b dollars MONEY\n",
            "\n",
            "$9.4 million MONEY\n",
            "the prior year DATE\n",
            "$2.7 million MONEY\n",
            "\n",
            "twelve billion dollars MONEY\n",
            "1b dollars MONEY\n",
            "\n",
            "$9.4 million MONEY\n",
            "the prior year DATE\n",
            "$2.7 million MONEY\n",
            "\n",
            "twelve billion dollars MONEY\n",
            "1b dollars MONEY\n",
            "\n",
            "$9.4 million MONEY\n",
            "the prior year DATE\n",
            "$2.7 million MONEY\n",
            "\n",
            "twelve billion dollars MONEY\n",
            "1b dollars MONEY\n",
            "\n",
            "$9.4 million MONEY\n",
            "the prior year DATE\n",
            "$2.7 million MONEY\n",
            "\n",
            "twelve billion dollars MONEY\n",
            "1b dollars MONEY\n",
            "\n",
            "$9.4 million MONEY\n",
            "the prior year DATE\n",
            "$2.7 million MONEY\n",
            "\n",
            "twelve billion dollars MONEY\n",
            "1b dollars MONEY\n",
            "\n",
            "$9.4 million MONEY\n",
            "the prior year DATE\n",
            "$2.7 million MONEY\n",
            "\n",
            "twelve billion dollars MONEY\n",
            "1b dollars MONEY\n",
            "\n",
            "$9.4 million MONEY\n",
            "the prior year DATE\n",
            "$2.7 million MONEY\n",
            "\n",
            "twelve billion dollars MONEY\n",
            "1b dollars MONEY\n",
            "\n",
            "$9.4 million MONEY\n",
            "the prior year DATE\n",
            "$2.7 million MONEY\n",
            "\n",
            "twelve billion dollars MONEY\n",
            "1b dollars MONEY\n",
            "\n",
            "$9.4 million MONEY\n",
            "the prior year DATE\n",
            "$2.7 million MONEY\n",
            "\n",
            "twelve billion dollars MONEY\n",
            "1b dollars MONEY\n",
            "\n",
            "$9.4 million MONEY\n",
            "the prior year DATE\n",
            "$2.7 million MONEY\n",
            "\n",
            "twelve billion dollars MONEY\n",
            "1b dollars MONEY\n",
            "\n",
            "$9.4 million MONEY\n",
            "the prior year DATE\n",
            "$2.7 million MONEY\n",
            "\n",
            "twelve billion dollars MONEY\n",
            "1b dollars MONEY\n",
            "\n",
            "$9.4 million MONEY\n",
            "the prior year DATE\n",
            "$2.7 million MONEY\n",
            "\n",
            "twelve billion dollars MONEY\n",
            "1b dollars MONEY\n",
            "\n",
            "$9.4 million MONEY\n",
            "the prior year DATE\n",
            "$2.7 million MONEY\n",
            "\n",
            "twelve billion dollars MONEY\n",
            "1b dollars MONEY\n",
            "\n",
            "$9.4 million MONEY\n",
            "the prior year DATE\n",
            "$2.7 million MONEY\n",
            "\n",
            "twelve billion dollars MONEY\n",
            "1b dollars MONEY\n",
            "\n",
            "$9.4 million MONEY\n",
            "the prior year DATE\n",
            "$2.7 million MONEY\n",
            "\n",
            "twelve billion dollars MONEY\n",
            "1b dollars MONEY\n",
            "\n",
            "$9.4 million MONEY\n",
            "the prior year DATE\n",
            "$2.7 million MONEY\n",
            "\n",
            "twelve billion dollars MONEY\n",
            "1b dollars MONEY\n",
            "\n",
            "$9.4 million MONEY\n",
            "the prior year DATE\n",
            "$2.7 million MONEY\n",
            "\n",
            "twelve billion dollars MONEY\n",
            "1b dollars MONEY\n",
            "\n",
            "$9.4 million MONEY\n",
            "the prior year DATE\n",
            "$2.7 million MONEY\n",
            "\n",
            "twelve billion dollars MONEY\n",
            "1b dollars MONEY\n",
            "\n",
            "$9.4 million MONEY\n",
            "the prior year DATE\n",
            "$2.7 million MONEY\n",
            "\n",
            "twelve billion dollars MONEY\n",
            "1b dollars MONEY\n",
            "\n",
            "$9.4 million MONEY\n",
            "the prior year DATE\n",
            "$2.7 million MONEY\n",
            "\n",
            "twelve billion dollars MONEY\n",
            "1b dollars MONEY\n",
            "\n",
            "$9.4 million MONEY\n",
            "the prior year DATE\n",
            "$2.7 million MONEY\n",
            "\n",
            "twelve billion dollars MONEY\n",
            "1b dollars MONEY\n",
            "\n",
            "$9.4 million MONEY\n",
            "the prior year DATE\n",
            "$2.7 million MONEY\n",
            "\n",
            "twelve billion dollars MONEY\n",
            "1b dollars MONEY\n",
            "\n",
            "$9.4 million MONEY\n",
            "the prior year DATE\n",
            "$2.7 million MONEY\n",
            "\n",
            "twelve billion dollars MONEY\n",
            "1b dollars MONEY\n",
            "\n",
            "$9.4 million MONEY\n",
            "the prior year DATE\n",
            "$2.7 million MONEY\n",
            "\n",
            "twelve billion dollars MONEY\n",
            "1b dollars MONEY\n",
            "\n",
            "$9.4 million MONEY\n",
            "the prior year DATE\n",
            "$2.7 million MONEY\n",
            "\n",
            "twelve billion dollars MONEY\n",
            "1b dollars MONEY\n",
            "\n",
            "$9.4 million MONEY\n",
            "the prior year DATE\n",
            "$2.7 million MONEY\n",
            "\n",
            "twelve billion dollars MONEY\n",
            "1b dollars MONEY\n",
            "\n",
            "$9.4 million MONEY\n",
            "the prior year DATE\n",
            "$2.7 million MONEY\n",
            "\n",
            "twelve billion dollars MONEY\n",
            "1b dollars MONEY\n",
            "\n",
            "$9.4 million MONEY\n",
            "the prior year DATE\n",
            "$2.7 million MONEY\n",
            "\n",
            "twelve billion dollars MONEY\n",
            "1b dollars MONEY\n",
            "\n",
            "$9.4 million MONEY\n",
            "the prior year DATE\n",
            "$2.7 million MONEY\n",
            "\n",
            "twelve billion dollars MONEY\n",
            "1b dollars MONEY\n",
            "\n",
            "$9.4 million MONEY\n",
            "the prior year DATE\n",
            "$2.7 million MONEY\n",
            "\n",
            "twelve billion dollars MONEY\n",
            "1b dollars MONEY\n",
            "\n",
            "$9.4 million MONEY\n",
            "the prior year DATE\n",
            "$2.7 million MONEY\n",
            "\n",
            "twelve billion dollars MONEY\n",
            "1b dollars MONEY\n",
            "\n",
            "$9.4 million MONEY\n",
            "the prior year DATE\n",
            "$2.7 million MONEY\n",
            "\n",
            "twelve billion dollars MONEY\n",
            "1b dollars MONEY\n",
            "\n",
            "$9.4 million MONEY\n",
            "the prior year DATE\n",
            "$2.7 million MONEY\n",
            "\n",
            "twelve billion dollars MONEY\n",
            "1b dollars MONEY\n",
            "\n",
            "$9.4 million MONEY\n",
            "the prior year DATE\n",
            "$2.7 million MONEY\n",
            "\n",
            "twelve billion dollars MONEY\n",
            "1b dollars MONEY\n",
            "\n",
            "$9.4 million MONEY\n",
            "the prior year DATE\n",
            "$2.7 million MONEY\n",
            "\n",
            "twelve billion dollars MONEY\n",
            "1b dollars MONEY\n",
            "\n",
            "$9.4 million MONEY\n",
            "the prior year DATE\n",
            "$2.7 million MONEY\n",
            "\n",
            "twelve billion dollars MONEY\n",
            "1b dollars MONEY\n",
            "\n",
            "$9.4 million MONEY\n",
            "the prior year DATE\n",
            "$2.7 million MONEY\n",
            "\n",
            "twelve billion dollars MONEY\n",
            "1b dollars MONEY\n",
            "\n",
            "$9.4 million MONEY\n",
            "the prior year DATE\n",
            "$2.7 million MONEY\n",
            "\n",
            "twelve billion dollars MONEY\n",
            "1b dollars MONEY\n",
            "\n",
            "$9.4 million MONEY\n",
            "the prior year DATE\n",
            "$2.7 million MONEY\n",
            "\n",
            "twelve billion dollars MONEY\n",
            "1b dollars MONEY\n",
            "\n",
            "$9.4 million MONEY\n",
            "the prior year DATE\n",
            "$2.7 million MONEY\n",
            "\n",
            "twelve billion dollars MONEY\n",
            "1b dollars MONEY\n",
            "\n",
            "$9.4 million MONEY\n",
            "the prior year DATE\n",
            "$2.7 million MONEY\n",
            "\n",
            "twelve billion dollars MONEY\n",
            "1b dollars MONEY\n",
            "\n",
            "$9.4 million MONEY\n",
            "the prior year DATE\n",
            "$2.7 million MONEY\n",
            "\n",
            "twelve billion dollars MONEY\n",
            "1b dollars MONEY\n",
            "\n",
            "$9.4 million MONEY\n",
            "the prior year DATE\n",
            "$2.7 million MONEY\n",
            "\n",
            "twelve billion dollars MONEY\n",
            "1b dollars MONEY\n",
            "\n",
            "$9.4 million MONEY\n",
            "the prior year DATE\n",
            "$2.7 million MONEY\n",
            "\n",
            "twelve billion dollars MONEY\n",
            "1b dollars MONEY\n",
            "\n",
            "$9.4 million MONEY\n",
            "the prior year DATE\n",
            "$2.7 million MONEY\n",
            "\n",
            "twelve billion dollars MONEY\n",
            "1b dollars MONEY\n",
            "\n",
            "$9.4 million MONEY\n",
            "the prior year DATE\n",
            "$2.7 million MONEY\n",
            "\n",
            "twelve billion dollars MONEY\n",
            "1b dollars MONEY\n",
            "\n",
            "$9.4 million MONEY\n",
            "the prior year DATE\n",
            "$2.7 million MONEY\n",
            "\n",
            "twelve billion dollars MONEY\n",
            "1b dollars MONEY\n",
            "\n",
            "10 loops, best of 5: 91.5 ms per loop\n"
          ],
          "name": "stdout"
        }
      ]
    },
    {
      "cell_type": "code",
      "metadata": {
        "id": "AewROoZ49Crd"
      },
      "source": [
        ""
      ],
      "execution_count": null,
      "outputs": []
    }
  ]
}